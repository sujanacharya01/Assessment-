{
 "cells": [
  {
   "cell_type": "code",
   "execution_count": 1,
   "id": "b023544e",
   "metadata": {},
   "outputs": [],
   "source": [
    "import pandas as pd\n",
    "import numpy as np"
   ]
  },
  {
   "cell_type": "code",
   "execution_count": 2,
   "id": "f880b228",
   "metadata": {},
   "outputs": [
    {
     "data": {
      "text/html": [
       "<div>\n",
       "<style scoped>\n",
       "    .dataframe tbody tr th:only-of-type {\n",
       "        vertical-align: middle;\n",
       "    }\n",
       "\n",
       "    .dataframe tbody tr th {\n",
       "        vertical-align: top;\n",
       "    }\n",
       "\n",
       "    .dataframe thead th {\n",
       "        text-align: right;\n",
       "    }\n",
       "</style>\n",
       "<table border=\"1\" class=\"dataframe\">\n",
       "  <thead>\n",
       "    <tr style=\"text-align: right;\">\n",
       "      <th></th>\n",
       "      <th>mobile_name</th>\n",
       "      <th>mobile_price</th>\n",
       "      <th>mobile_color</th>\n",
       "      <th>dual_sim</th>\n",
       "      <th>disp_size</th>\n",
       "      <th>resolution</th>\n",
       "      <th>os</th>\n",
       "      <th>num_cores</th>\n",
       "      <th>mp_speed</th>\n",
       "      <th>int_memory</th>\n",
       "      <th>ram</th>\n",
       "      <th>p_cam</th>\n",
       "      <th>f_cam</th>\n",
       "      <th>network</th>\n",
       "      <th>bluetooth</th>\n",
       "      <th>battery_power</th>\n",
       "      <th>mob_width</th>\n",
       "      <th>mob_height</th>\n",
       "      <th>mob_depth</th>\n",
       "      <th>mob_weight</th>\n",
       "    </tr>\n",
       "  </thead>\n",
       "  <tbody>\n",
       "    <tr>\n",
       "      <th>0</th>\n",
       "      <td>Realme Narzo 10A (So White, 32 GB)</td>\n",
       "      <td>₹8,999</td>\n",
       "      <td>So White</td>\n",
       "      <td>Dual Sim</td>\n",
       "      <td>16.56 cm (6.52 inch)</td>\n",
       "      <td>1600 x 720 Pixels</td>\n",
       "      <td>Android 10</td>\n",
       "      <td>Octa Core</td>\n",
       "      <td>2 GHz</td>\n",
       "      <td>32 GB</td>\n",
       "      <td>3 GB</td>\n",
       "      <td>12MP + 2MP + 2MP</td>\n",
       "      <td>5MP Front Camera</td>\n",
       "      <td>4G VOLTE, 4G, 3G, 2G</td>\n",
       "      <td>Yes</td>\n",
       "      <td>5000 mAh</td>\n",
       "      <td>75 mm</td>\n",
       "      <td>164.4 mm</td>\n",
       "      <td>8.95 mm</td>\n",
       "      <td>195 g</td>\n",
       "    </tr>\n",
       "    <tr>\n",
       "      <th>1</th>\n",
       "      <td>Realme Narzo 10A (So Blue, 32 GB)</td>\n",
       "      <td>₹8,999</td>\n",
       "      <td>So Blue</td>\n",
       "      <td>Dual Sim</td>\n",
       "      <td>16.56 cm (6.52 inch)</td>\n",
       "      <td>1600 x 720 Pixels</td>\n",
       "      <td>Android 10</td>\n",
       "      <td>Octa Core</td>\n",
       "      <td>2 GHz</td>\n",
       "      <td>32 GB</td>\n",
       "      <td>3 GB</td>\n",
       "      <td>12MP + 2MP + 2MP</td>\n",
       "      <td>5MP Front Camera</td>\n",
       "      <td>4G VOLTE, 4G, 3G, 2G</td>\n",
       "      <td>Yes</td>\n",
       "      <td>5000 mAh</td>\n",
       "      <td>75 mm</td>\n",
       "      <td>164.4 mm</td>\n",
       "      <td>8.95 mm</td>\n",
       "      <td>195 g</td>\n",
       "    </tr>\n",
       "    <tr>\n",
       "      <th>2</th>\n",
       "      <td>Realme Narzo 10A (So Blue, 64 GB)</td>\n",
       "      <td>₹9,999</td>\n",
       "      <td>So Blue</td>\n",
       "      <td>Dual Sim</td>\n",
       "      <td>16.56 cm (6.52 inch)</td>\n",
       "      <td>1600 x 720 Pixels</td>\n",
       "      <td>Android 10</td>\n",
       "      <td>Octa Core</td>\n",
       "      <td>2 GHz</td>\n",
       "      <td>64 GB</td>\n",
       "      <td>4 GB</td>\n",
       "      <td>12MP + 2MP + 2MP</td>\n",
       "      <td>5MP Front Camera</td>\n",
       "      <td>4G VOLTE, 4G, 3G, 2G</td>\n",
       "      <td>Yes</td>\n",
       "      <td>5000 mAh</td>\n",
       "      <td>75 mm</td>\n",
       "      <td>164.4 mm</td>\n",
       "      <td>8.95 mm</td>\n",
       "      <td>195 g</td>\n",
       "    </tr>\n",
       "    <tr>\n",
       "      <th>3</th>\n",
       "      <td>Realme Narzo 10A (So White, 64 GB)</td>\n",
       "      <td>₹9,999</td>\n",
       "      <td>So White</td>\n",
       "      <td>Dual Sim</td>\n",
       "      <td>16.56 cm (6.52 inch)</td>\n",
       "      <td>1600 x 720 Pixels</td>\n",
       "      <td>Android 10</td>\n",
       "      <td>Octa Core</td>\n",
       "      <td>2 GHz</td>\n",
       "      <td>64 GB</td>\n",
       "      <td>4 GB</td>\n",
       "      <td>12MP + 2MP + 2MP</td>\n",
       "      <td>5MP Front Camera</td>\n",
       "      <td>4G VOLTE, 4G, 3G, 2G</td>\n",
       "      <td>Yes</td>\n",
       "      <td>5000 mAh</td>\n",
       "      <td>75 mm</td>\n",
       "      <td>164.4 mm</td>\n",
       "      <td>8.95 mm</td>\n",
       "      <td>195 g</td>\n",
       "    </tr>\n",
       "    <tr>\n",
       "      <th>4</th>\n",
       "      <td>Realme Narzo 10 (That Green, 128 GB)</td>\n",
       "      <td>₹11,999</td>\n",
       "      <td>That Green</td>\n",
       "      <td>Dual Sim</td>\n",
       "      <td>16.51 cm (6.5 inch)</td>\n",
       "      <td>1600 x 720 Pixels</td>\n",
       "      <td>Android 10</td>\n",
       "      <td>Octa Core</td>\n",
       "      <td>2 GHz</td>\n",
       "      <td>128 GB</td>\n",
       "      <td>4 GB</td>\n",
       "      <td>48MP + 8MP + 2MP + 2MP</td>\n",
       "      <td>16MP Front Camera</td>\n",
       "      <td>4G VOLTE, 4G, 3G, 2G</td>\n",
       "      <td>Yes</td>\n",
       "      <td>5000 mAh</td>\n",
       "      <td>75.4 mm</td>\n",
       "      <td>164.4 mm</td>\n",
       "      <td>9 mm</td>\n",
       "      <td>199 g</td>\n",
       "    </tr>\n",
       "    <tr>\n",
       "      <th>...</th>\n",
       "      <td>...</td>\n",
       "      <td>...</td>\n",
       "      <td>...</td>\n",
       "      <td>...</td>\n",
       "      <td>...</td>\n",
       "      <td>...</td>\n",
       "      <td>...</td>\n",
       "      <td>...</td>\n",
       "      <td>...</td>\n",
       "      <td>...</td>\n",
       "      <td>...</td>\n",
       "      <td>...</td>\n",
       "      <td>...</td>\n",
       "      <td>...</td>\n",
       "      <td>...</td>\n",
       "      <td>...</td>\n",
       "      <td>...</td>\n",
       "      <td>...</td>\n",
       "      <td>...</td>\n",
       "      <td>...</td>\n",
       "    </tr>\n",
       "    <tr>\n",
       "      <th>454</th>\n",
       "      <td>OPPO A83 (Black, 32 GB)</td>\n",
       "      <td>₹13,490</td>\n",
       "      <td>Black</td>\n",
       "      <td>Dual Sim</td>\n",
       "      <td>14.48 cm (5.7 inch)</td>\n",
       "      <td>1440 x 720 Pixels</td>\n",
       "      <td>Android Nougat 7.1</td>\n",
       "      <td>Octa Core</td>\n",
       "      <td>2.5 GHz</td>\n",
       "      <td>32 GB</td>\n",
       "      <td>3 GB</td>\n",
       "      <td>13MP Rear Camera</td>\n",
       "      <td>8MP Front Camera</td>\n",
       "      <td>3G, 4G VOLTE, 2G</td>\n",
       "      <td>Yes</td>\n",
       "      <td>3180 mAh</td>\n",
       "      <td>73.1 mm</td>\n",
       "      <td>150.5 mm</td>\n",
       "      <td>7.7 mm</td>\n",
       "      <td>143 g</td>\n",
       "    </tr>\n",
       "    <tr>\n",
       "      <th>455</th>\n",
       "      <td>OPPO A83 (Red, 16 GB)</td>\n",
       "      <td>₹9,490</td>\n",
       "      <td>Red</td>\n",
       "      <td>Dual Sim</td>\n",
       "      <td>14.48 cm (5.7 inch)</td>\n",
       "      <td>1440 x 720 Pixels</td>\n",
       "      <td>Android Nougat 7.1</td>\n",
       "      <td>Octa Core</td>\n",
       "      <td>2.5 GHz</td>\n",
       "      <td>16 GB</td>\n",
       "      <td>2 GB</td>\n",
       "      <td>13MP Rear Camera</td>\n",
       "      <td>8MP Front Camera</td>\n",
       "      <td>3G, 4G VOLTE, 4G, 2G</td>\n",
       "      <td>Yes</td>\n",
       "      <td>3180 mAh</td>\n",
       "      <td>73.1 mm</td>\n",
       "      <td>150.5 mm</td>\n",
       "      <td>7.7 mm</td>\n",
       "      <td>143 g</td>\n",
       "    </tr>\n",
       "    <tr>\n",
       "      <th>456</th>\n",
       "      <td>OPPO F7 (Red, 64 GB)</td>\n",
       "      <td>₹22,990</td>\n",
       "      <td>Red</td>\n",
       "      <td>Dual Sim</td>\n",
       "      <td>15.82 cm (6.23 inch)</td>\n",
       "      <td>2280 x 1080 Pixels</td>\n",
       "      <td>Android Oreo 8.1.0</td>\n",
       "      <td>Octa Core</td>\n",
       "      <td>2 GHz</td>\n",
       "      <td>64 GB</td>\n",
       "      <td>4 GB</td>\n",
       "      <td>16MP Rear Camera</td>\n",
       "      <td>25MP Front Camera</td>\n",
       "      <td>3G, 4G, 2G</td>\n",
       "      <td>Yes</td>\n",
       "      <td>3400 mAh</td>\n",
       "      <td>75.3 mm</td>\n",
       "      <td>156 mm</td>\n",
       "      <td>7.8 mm</td>\n",
       "      <td>158 g</td>\n",
       "    </tr>\n",
       "    <tr>\n",
       "      <th>457</th>\n",
       "      <td>OPPO F11 (Marble Green, 128 GB)</td>\n",
       "      <td>₹13,990</td>\n",
       "      <td>Marble Green</td>\n",
       "      <td>Dual Sim</td>\n",
       "      <td>16.59 cm (6.53 inch)</td>\n",
       "      <td>1080 x 2340 pixels</td>\n",
       "      <td>Android Pie 9.0</td>\n",
       "      <td>Octa Core</td>\n",
       "      <td>2.1 GHz</td>\n",
       "      <td>128 GB</td>\n",
       "      <td>4 GB</td>\n",
       "      <td>48MP + 5MP</td>\n",
       "      <td>16MP Front Camera</td>\n",
       "      <td>3G, 4G VOLTE, 4G, 2G</td>\n",
       "      <td>Yes</td>\n",
       "      <td>4020 mAh</td>\n",
       "      <td>76.1 mm</td>\n",
       "      <td>162 mm</td>\n",
       "      <td>8.3 mm</td>\n",
       "      <td>188 g</td>\n",
       "    </tr>\n",
       "    <tr>\n",
       "      <th>458</th>\n",
       "      <td>OPPO F11 (Fluorite Purple, 128 GB)</td>\n",
       "      <td>₹13,990</td>\n",
       "      <td>Fluorite Purple</td>\n",
       "      <td>Dual Sim</td>\n",
       "      <td>16.59 cm (6.53 inch)</td>\n",
       "      <td>1080 x 2340 pixels</td>\n",
       "      <td>Android Pie 9.0</td>\n",
       "      <td>Octa Core</td>\n",
       "      <td>2.1 GHz</td>\n",
       "      <td>128 GB</td>\n",
       "      <td>4 GB</td>\n",
       "      <td>48MP + 5MP</td>\n",
       "      <td>16MP Front Camera</td>\n",
       "      <td>3G, 4G VOLTE, 4G, 2G</td>\n",
       "      <td>Yes</td>\n",
       "      <td>4020 mAh</td>\n",
       "      <td>76.1 mm</td>\n",
       "      <td>162 mm</td>\n",
       "      <td>8.3 mm</td>\n",
       "      <td>188 g</td>\n",
       "    </tr>\n",
       "  </tbody>\n",
       "</table>\n",
       "<p>459 rows × 20 columns</p>\n",
       "</div>"
      ],
      "text/plain": [
       "                              mobile_name mobile_price     mobile_color  \\\n",
       "0      Realme Narzo 10A (So White, 32 GB)       ₹8,999         So White   \n",
       "1       Realme Narzo 10A (So Blue, 32 GB)       ₹8,999          So Blue   \n",
       "2       Realme Narzo 10A (So Blue, 64 GB)       ₹9,999          So Blue   \n",
       "3      Realme Narzo 10A (So White, 64 GB)       ₹9,999         So White   \n",
       "4    Realme Narzo 10 (That Green, 128 GB)      ₹11,999       That Green   \n",
       "..                                    ...          ...              ...   \n",
       "454               OPPO A83 (Black, 32 GB)      ₹13,490            Black   \n",
       "455                 OPPO A83 (Red, 16 GB)       ₹9,490              Red   \n",
       "456                  OPPO F7 (Red, 64 GB)      ₹22,990              Red   \n",
       "457       OPPO F11 (Marble Green, 128 GB)      ₹13,990     Marble Green   \n",
       "458    OPPO F11 (Fluorite Purple, 128 GB)      ₹13,990  Fluorite Purple   \n",
       "\n",
       "     dual_sim             disp_size          resolution                  os  \\\n",
       "0    Dual Sim  16.56 cm (6.52 inch)   1600 x 720 Pixels          Android 10   \n",
       "1    Dual Sim  16.56 cm (6.52 inch)   1600 x 720 Pixels          Android 10   \n",
       "2    Dual Sim  16.56 cm (6.52 inch)   1600 x 720 Pixels          Android 10   \n",
       "3    Dual Sim  16.56 cm (6.52 inch)   1600 x 720 Pixels          Android 10   \n",
       "4    Dual Sim   16.51 cm (6.5 inch)   1600 x 720 Pixels          Android 10   \n",
       "..        ...                   ...                 ...                 ...   \n",
       "454  Dual Sim   14.48 cm (5.7 inch)   1440 x 720 Pixels  Android Nougat 7.1   \n",
       "455  Dual Sim   14.48 cm (5.7 inch)   1440 x 720 Pixels  Android Nougat 7.1   \n",
       "456  Dual Sim  15.82 cm (6.23 inch)  2280 x 1080 Pixels  Android Oreo 8.1.0   \n",
       "457  Dual Sim  16.59 cm (6.53 inch)  1080 x 2340 pixels     Android Pie 9.0   \n",
       "458  Dual Sim  16.59 cm (6.53 inch)  1080 x 2340 pixels     Android Pie 9.0   \n",
       "\n",
       "     num_cores mp_speed int_memory   ram                   p_cam  \\\n",
       "0    Octa Core    2 GHz      32 GB  3 GB        12MP + 2MP + 2MP   \n",
       "1    Octa Core    2 GHz      32 GB  3 GB        12MP + 2MP + 2MP   \n",
       "2    Octa Core    2 GHz      64 GB  4 GB        12MP + 2MP + 2MP   \n",
       "3    Octa Core    2 GHz      64 GB  4 GB        12MP + 2MP + 2MP   \n",
       "4    Octa Core    2 GHz     128 GB  4 GB  48MP + 8MP + 2MP + 2MP   \n",
       "..         ...      ...        ...   ...                     ...   \n",
       "454  Octa Core  2.5 GHz      32 GB  3 GB        13MP Rear Camera   \n",
       "455  Octa Core  2.5 GHz      16 GB  2 GB        13MP Rear Camera   \n",
       "456  Octa Core    2 GHz      64 GB  4 GB        16MP Rear Camera   \n",
       "457  Octa Core  2.1 GHz     128 GB  4 GB              48MP + 5MP   \n",
       "458  Octa Core  2.1 GHz     128 GB  4 GB              48MP + 5MP   \n",
       "\n",
       "                 f_cam               network bluetooth battery_power  \\\n",
       "0     5MP Front Camera  4G VOLTE, 4G, 3G, 2G       Yes      5000 mAh   \n",
       "1     5MP Front Camera  4G VOLTE, 4G, 3G, 2G       Yes      5000 mAh   \n",
       "2     5MP Front Camera  4G VOLTE, 4G, 3G, 2G       Yes      5000 mAh   \n",
       "3     5MP Front Camera  4G VOLTE, 4G, 3G, 2G       Yes      5000 mAh   \n",
       "4    16MP Front Camera  4G VOLTE, 4G, 3G, 2G       Yes      5000 mAh   \n",
       "..                 ...                   ...       ...           ...   \n",
       "454   8MP Front Camera      3G, 4G VOLTE, 2G       Yes      3180 mAh   \n",
       "455   8MP Front Camera  3G, 4G VOLTE, 4G, 2G       Yes      3180 mAh   \n",
       "456  25MP Front Camera            3G, 4G, 2G       Yes      3400 mAh   \n",
       "457  16MP Front Camera  3G, 4G VOLTE, 4G, 2G       Yes      4020 mAh   \n",
       "458  16MP Front Camera  3G, 4G VOLTE, 4G, 2G       Yes      4020 mAh   \n",
       "\n",
       "    mob_width mob_height mob_depth mob_weight  \n",
       "0       75 mm   164.4 mm   8.95 mm      195 g  \n",
       "1       75 mm   164.4 mm   8.95 mm      195 g  \n",
       "2       75 mm   164.4 mm   8.95 mm      195 g  \n",
       "3       75 mm   164.4 mm   8.95 mm      195 g  \n",
       "4     75.4 mm   164.4 mm      9 mm      199 g  \n",
       "..        ...        ...       ...        ...  \n",
       "454   73.1 mm   150.5 mm    7.7 mm      143 g  \n",
       "455   73.1 mm   150.5 mm    7.7 mm      143 g  \n",
       "456   75.3 mm     156 mm    7.8 mm      158 g  \n",
       "457   76.1 mm     162 mm    8.3 mm      188 g  \n",
       "458   76.1 mm     162 mm    8.3 mm      188 g  \n",
       "\n",
       "[459 rows x 20 columns]"
      ]
     },
     "execution_count": 2,
     "metadata": {},
     "output_type": "execute_result"
    }
   ],
   "source": [
    "df = pd.read_csv(r\"D:\\Data Science\\MACHINE LEARNING\\Assignment\\Assignment-3 Linear Models\\Mobile Price Prediction\\mobile_price_data.csv\")\n",
    "df"
   ]
  },
  {
   "cell_type": "code",
   "execution_count": 3,
   "id": "9b8efa7b",
   "metadata": {},
   "outputs": [
    {
     "name": "stdout",
     "output_type": "stream",
     "text": [
      "<class 'pandas.core.frame.DataFrame'>\n",
      "RangeIndex: 459 entries, 0 to 458\n",
      "Data columns (total 20 columns):\n",
      " #   Column         Non-Null Count  Dtype \n",
      "---  ------         --------------  ----- \n",
      " 0   mobile_name    459 non-null    object\n",
      " 1   mobile_price   459 non-null    object\n",
      " 2   mobile_color   459 non-null    object\n",
      " 3   dual_sim       459 non-null    object\n",
      " 4   disp_size      459 non-null    object\n",
      " 5   resolution     459 non-null    object\n",
      " 6   os             459 non-null    object\n",
      " 7   num_cores      459 non-null    object\n",
      " 8   mp_speed       459 non-null    object\n",
      " 9   int_memory     459 non-null    object\n",
      " 10  ram            459 non-null    object\n",
      " 11  p_cam          459 non-null    object\n",
      " 12  f_cam          459 non-null    object\n",
      " 13  network        459 non-null    object\n",
      " 14  bluetooth      459 non-null    object\n",
      " 15  battery_power  459 non-null    object\n",
      " 16  mob_width      459 non-null    object\n",
      " 17  mob_height     459 non-null    object\n",
      " 18  mob_depth      459 non-null    object\n",
      " 19  mob_weight     459 non-null    object\n",
      "dtypes: object(20)\n",
      "memory usage: 71.8+ KB\n"
     ]
    }
   ],
   "source": [
    "df.info()"
   ]
  },
  {
   "cell_type": "code",
   "execution_count": 4,
   "id": "764acb30",
   "metadata": {},
   "outputs": [
    {
     "name": "stdout",
     "output_type": "stream",
     "text": [
      "mobile_name ['Realme Narzo 10A (So White, 32 GB)' 'Realme Narzo 10A (So Blue, 32 GB)'\n",
      " 'Realme Narzo 10A (So Blue, 64 GB)' 'Realme Narzo 10A (So White, 64 GB)'\n",
      " 'Realme Narzo 10 (That Green, 128 GB)'\n",
      " 'Realme Narzo 10 (That White, 128 GB)'\n",
      " 'Realme 5 Pro (Crystal Green, 64 GB)'\n",
      " 'Realme 5 Pro (Crystal Green, 128 GB)'\n",
      " 'Realme 5 Pro (Sparkling Blue, 128 GB)'\n",
      " 'Realme 5 Pro (Sparkling Blue, 64 GB)'\n",
      " 'Realme X2 Pro (Lunar White, 256 GB)'\n",
      " 'Realme X2 Pro (Neptune Blue, 256 GB)'\n",
      " 'Realme X2 Pro (Neptune Blue, 128 GB)'\n",
      " 'Realme X2 Pro (Lunar White, 128 GB)' 'Realme 2 Pro (Black Sea, 128 GB)'\n",
      " 'Realme XT (Pearl Blue, 64 GB)' 'Realme XT (Pearl White, 64 GB)'\n",
      " 'Realme X50 Pro (Rust Red, 128 GB)' 'Realme X50 Pro (Moss Green, 128 GB)'\n",
      " 'Realme X50 Pro (Moss Green, 256 GB)' 'Realme C3 (Frozen Blue, 32 GB)'\n",
      " 'Realme 6 (Comet White, 128 GB)'\n",
      " 'Realme 6 Pro (Lightning Orange, 128 GB)'\n",
      " 'Realme 6 Pro (Lightning Blue, 128 GB)'\n",
      " 'Realme C2 (Diamond Black, 32 GB)' 'Realme C2 (Diamond Blue, 32 GB)'\n",
      " 'Realme C2 (Diamond Ruby, 32 GB)' 'Realme 6 (Comet Blue, 128 GB)'\n",
      " 'Realme C2 (Diamond Sapphire, 32 GB)' 'Realme 5s (Crystal Red, 128 GB)'\n",
      " 'Realme 5s (Crystal Blue, 64 GB)' 'Realme 5s (Crystal Purple, 128 GB)'\n",
      " 'Realme 5s (Crystal Red, 64 GB)' 'Realme 5s (Crystal Blue, 128 GB)'\n",
      " 'Realme 5s (Crystal Purple, 64 GB)' 'Realme X2 Pro (Neptune Blue, 64 GB)'\n",
      " 'Realme X2 Pro (Lunar White, 64 GB)' 'Realme X2 Pro (Red Brick, 256 GB)'\n",
      " 'Realme X2 Pro (Concrete, 256 GB)' 'Realme X2 (Pearl White, 128 GB)'\n",
      " 'Realme X2 (Pearl Green, 128 GB)' 'Realme X2 (Pearl Blue, 64 GB)'\n",
      " 'Realme X2 (Pearl Green, 64 GB)' 'Realme X2 (Pearl Blue, 128 GB)'\n",
      " 'Realme C2 (Diamond Blue, 16 GB)' 'Realme Narzo 10 (That Blue, 128 GB)'\n",
      " 'Realme X3 (Glacier Blue, 128 GB)' 'Realme X3 (Arctic White, 128 GB)'\n",
      " 'Realme X3 SuperZoom (Glacier Blue, 128 GB)'\n",
      " 'Realme X3 SuperZoom (Glacier Blue, 256 GB)'\n",
      " 'Realme X3 SuperZoom (Arctic White, 256 GB)'\n",
      " 'Realme X3 SuperZoom (Arctic White, 128 GB)'\n",
      " 'Realme 3 (Dynamic Black, 32 GB)' 'Realme 3 (Diamond Red, 64 GB)'\n",
      " 'Realme 3 (Radiant Blue, 64 GB)' 'Realme 3 (Dynamic Black, 64 GB)'\n",
      " 'Realme 3 (Diamond Red, 32 GB)' 'Realme 3 (Black, 64 GB)'\n",
      " 'Redmi 8 (Sapphire Blue, 64 GB)' 'Redmi 8 (Onyx Black, 64 GB)'\n",
      " 'Redmi K20 Pro (Flame Red, 128 GB)'\n",
      " 'Redmi Note 9 Pro (Aurora Blue, 64 GB)'\n",
      " 'Redmi K20 Pro (Carbon Black, 128 GB)' 'Mi A3 (More Than White, 128 GB)'\n",
      " 'Redmi K20 Pro (Glacier Blue, 128 GB)'\n",
      " 'Redmi Note 7 Pro (Space Black, 128 GB)' 'Mi A3 (Not just Blue, 128 GB)'\n",
      " 'Mi Mix 2 (Black, 128 GB)' 'Redmi K20 Pro (Pearl White, 128 GB)'\n",
      " 'Mi A3 (Kind of Grey, 128 GB)' 'Redmi K20 Pro (Carbon Black, 256 GB)'\n",
      " 'Redmi Note 7 Pro (Nebula Red, 128 GB)' 'Redmi K20 (Carbon Black, 64 GB)'\n",
      " 'Redmi Y2 (Gold, 64 GB)' 'Redmi K20 Pro (Pearl White, 256 GB)'\n",
      " 'Redmi K20 (Glacier Blue, 128 GB)' 'Redmi Note 6 Pro (Rose Gold, 64 GB)'\n",
      " 'Mi A2 (Red, 64 GB)' 'Mi 10 (Twilight Grey, 256 GB)'\n",
      " 'Mi 10 (Coral Green, 128 GB)' 'Redmi K20 (Flame Red, 128 GB)'\n",
      " 'Mi A2 (Red, 128 GB)' 'Mi A2 (Gold, 128 GB)'\n",
      " 'Redmi K20 (Carbon Black, 128 GB)' 'Mi A2 (Lake Blue, 128 GB)'\n",
      " 'Redmi Note 5 Pro (Red, 64 GB)' 'Redmi K20 (Pearl White, 128 GB)'\n",
      " 'MI3 (Metallic Grey, 16 GB)' 'Redmi 8 (Emerald Green, 64 GB)'\n",
      " 'Redmi 8 (Ruby Red, 64 GB)' 'Mi A3 (Kind of Grey, 64 GB)'\n",
      " 'Redmi Note 9 Pro (Interstellar Black, 128 GB)'\n",
      " 'Redmi Note 9 Pro (Aurora Blue, 128 GB)'\n",
      " 'Redmi 8A Dual (Sea Blue, 32 GB)' 'Redmi 8A Dual (Midnight Grey, 32 GB)'\n",
      " 'Redmi Note 8 (Moonlight White, 64 GB)'\n",
      " 'Redmi Note 8 (Neptune Blue, 128 GB)'\n",
      " 'Redmi Note 8 (Neptune Blue, 32 GB)' 'Mi A3 (Not just Blue, 64 GB)'\n",
      " 'Mi A3 (More Than White, 64 GB)' 'Redmi Note 8 (Neptune Blue, 64 GB)'\n",
      " 'Redmi Note 8 (Space Black, 64 GB)' 'Redmi 8A Dual (Sky White, 32 GB)'\n",
      " 'Redmi Note 7 Pro (Space Black, 64 GB)'\n",
      " 'Redmi K20 Pro (Flame Red, 256 GB)'\n",
      " 'Redmi Note 9 Pro (Glacier White, 64 GB)'\n",
      " 'Redmi Note 9 Pro (Interstellar Black, 64 GB)'\n",
      " 'Redmi Note 6 Pro (Black, 64 GB)' 'Redmi Note 6 Pro (Red, 64 GB)'\n",
      " 'Redmi Note 4 (Black, 64 GB)' 'Redmi K20 (Glacier Blue, 64 GB)'\n",
      " 'Redmi Note 5 Pro (Gold, 64 GB)'\n",
      " 'Redmi Note 7 Pro (Astro Moonlight White, 128 GB)'\n",
      " 'Redmi Note 9 Pro Max (Interstellar Black, 128 GB)'\n",
      " 'Redmi Note 9 Pro Max (Glacier White, 128 GB)'\n",
      " 'Redmi 8A (Sunset Red, 32 GB)' 'Mi 10 (Coral Green, 256 GB)'\n",
      " 'Redmi Note 5 Pro (Black, 64 GB)' 'Redmi Note 5 Pro (Rose Gold, 64 GB)'\n",
      " 'Mi A2 (Blue/Lake Blue, 64 GB)' 'Redmi Go (Blue, 16 GB)'\n",
      " 'Redmi Note 7S (Sapphire Blue, 32 GB)' 'Redmi Y2 (Rose Gold, 64 GB)'\n",
      " 'Redmi 7A (Matte Black, 32 GB)' 'Redmi Note 7S (Onyx Black, 64 GB)'\n",
      " 'Redmi Y2 (Blue, 32 GB)' 'Redmi Y2 (Black, 64 GB)'\n",
      " 'Redmi Note 7 (Onyx Black, 32 GB)' 'Redmi 7A (Matte Black, 16 GB)'\n",
      " 'Redmi 6 (Rose Gold, 32 GB)' 'Redmi Note 7 (Ruby Red, 32 GB)'\n",
      " 'Redmi Note 7S (Ruby Red, 64 GB)' 'Redmi 7A (Matte Gold, 16 GB)'\n",
      " 'Redmi Note 5 Pro (Blue, 64 GB)' 'Redmi Y3 (Elegant Blue, 32 GB)'\n",
      " 'Redmi Y3 (Prime Black, 32 GB)' 'Redmi Note 7 (Sapphire Blue, 32 GB)'\n",
      " 'Redmi K20 (Flame Red, 64 GB)'\n",
      " 'Redmi Note 7S (Astro Moonlight White, 32 GB)'\n",
      " 'Redmi Note 4 (Gold, 64 GB)' 'Redmi 8A Dual (Sky White, 64 GB)'\n",
      " 'Redmi 8A Dual (Sea Blue, 64 GB)'\n",
      " 'Redmi Note 7 Pro (Neptune Blue, 128 GB)'\n",
      " 'Redmi 8A Dual (Midnight Grey, 64 GB)'\n",
      " 'Redmi Note 9 Pro (Glacier White, 128 GB)'\n",
      " 'Redmi Note 7 (Sapphire Blue, 64 GB)' 'Mi A2 (Rose Gold, 64 GB)'\n",
      " 'Redmi 7A (Matte Gold, 32 GB)' 'Redmi Y2 (Rose Gold, 32 GB)'\n",
      " 'Redmi Y1 (Grey, 64 GB)' 'Redmi Y2 (Dark Grey, 32 GB)'\n",
      " 'Vivo Y12 (Burgundy Red, 64 GB)' 'Vivo U10 (Thunder Black, 32 GB)'\n",
      " 'Vivo Y11 (Mineral Blue, 32 GB)' 'Vivo Z1x (Fusion Blue, 64 GB)'\n",
      " 'Vivo Z1x (Phantom Purple, 64 GB)' 'Vivo Z1x (Fusion Blue, 128 GB)'\n",
      " 'Vivo Z1x (Phantom Purple, 128 GB)' 'Vivo Y15 (Burgundy Red, 64 GB)'\n",
      " 'Vivo Y11 (Agate Red, 32 GB)' 'Vivo S1 Pro (Mystic Black, 128 GB)'\n",
      " 'Vivo S1 Pro (Jazzy Blue, 128 GB)' 'Vivo S1 Pro (Dreamy White, 128 GB)'\n",
      " 'Vivo Y91i (Fusion Black, 32 GB)' 'Vivo Y91i (Ocean Blue, 32 GB)'\n",
      " 'Vivo Y50 (Pearl White, 128 GB)' 'Vivo Y50 (Iris Blue, 128 GB)'\n",
      " 'Vivo Z1Pro (Sonic Black, 128 GB)' 'Vivo Z1Pro (Sonic Black, 64 GB)'\n",
      " 'Vivo Z1Pro (Sonic Blue, 128 GB)' 'Vivo Y19 (Magnetic Black, 128 GB)'\n",
      " 'Vivo V19 (Mystic Silver, 256 GB)' 'Vivo V19 (Mystic Silver, 128 GB)'\n",
      " 'Vivo V19 (Piano Black, 128 GB)' 'Vivo V19 (Piano Black, 256 GB)'\n",
      " 'Vivo V17 (Glacier ice white, 128 GB)'\n",
      " 'Vivo V17 (Midnight Ocean Black, 128 GB)'\n",
      " 'Vivo U10 (Electric Blue, 64 GB)' 'Vivo S1 (Skyline Blue, 64 GB)'\n",
      " 'Vivo S1 (Skyline Blue, 128 GB)' 'Vivo S1 (Diamond Black, 128 GB)'\n",
      " 'Vivo Y91i (Fusion Black, 16 GB)' 'Vivo V15 Pro (Topaz Blue, 128 GB)'\n",
      " 'Vivo Y17 (Mystic Purple, 128 GB)' 'Vivo V15 Pro (Ruby Red, 128 GB)'\n",
      " 'Vivo V17Pro (Midnight Ocean Black, 128 GB)'\n",
      " 'Vivo V17Pro (Glacier Ice White, 128 GB)'\n",
      " 'Vivo U10 (Thunder Black, 64 GB)'\n",
      " 'Vivo V11 Pro (Starry Night Black, 64 GB)' 'Vivo NEX (Black, 128 GB)'\n",
      " 'Vivo Y81 (Black, 32 GB)' 'Vivo V9 Youth (Black, 32 GB)'\n",
      " 'Vivo V15 (Frozen Black, 64 GB)' 'Vivo Y93 (Starry Black, 32 GB)'\n",
      " 'Vivo Y93 (Starry Black, 64 GB)' 'Vivo Y91 (Ocean Blue, 32 GB)'\n",
      " 'Vivo V7 (Matte Black, 32 GB)' 'Vivo V7 (Energetic Blue, 32 GB)'\n",
      " 'Vivo Y83 (Gold, 32 GB)' 'Vivo V9 (Gold, 64 GB)'\n",
      " 'Vivo Y71i (Matte Black, 16 GB)' 'Vivo Y93 (Nebula Purple, 32 GB)'\n",
      " 'Vivo U10 (Electric Blue, 32 GB)' 'Vivo Z1Pro (Sonic Blue, 64 GB)'\n",
      " 'Vivo V9 Pro (Black, 64 GB)' 'Vivo V9 Pro (Nebula Purple, 64 GB)'\n",
      " 'Vivo Y81 (Gold, 32 GB)' 'Vivo V9 Youth (Gold, 32 GB)'\n",
      " 'Vivo Y91 (Starry Black, 32 GB)' 'Vivo Y71 (Gold, 16 GB)'\n",
      " 'Vivo Y71 (Matte Black, 32 GB)' 'Vivo V7+ (Energetic Blue, 64 GB)'\n",
      " 'Vivo Y55S (Matte Black, 16 GB)' 'Vivo Y55S (Grey, 16 GB)'\n",
      " 'Vivo Y81i (Gold, 16 GB)' 'Vivo Y71 (Matte Black, 16 GB)'\n",
      " 'Vivo Y71 (Gold, 32 GB)' 'Vivo Y91i (Black, 32 GB)'\n",
      " 'Vivo Y69 (Gold, 32 GB)' 'Samsung Galaxy M30S (Blue, 128 GB)'\n",
      " 'Samsung Galaxy A21s (Blue, 64 GB)' 'Samsung Galaxy A21s (Black, 64 GB)'\n",
      " 'Samsung Galaxy A21s (White, 64 GB)'\n",
      " 'Samsung Galaxy M21 (Midnight Blue, 64 GB)'\n",
      " 'Samsung Galaxy M21 (Raven Black, 64 GB)'\n",
      " 'Samsung Galaxy J2 Core (Black, 16 GB)'\n",
      " 'Samsung Galaxy M31 (Ocean Blue, 128 GB)'\n",
      " 'Samsung Galaxy S10 Lite (Prism Blue, 512 GB)'\n",
      " 'Samsung Galaxy S10 Lite (Prism Black, 512 GB)'\n",
      " 'Samsung Galaxy J2-2017 (Metallic gold, 8 GB)'\n",
      " 'Samsung Galaxy J7 Pro (Black, 64 GB)'\n",
      " 'Samsung Galaxy J7 Nxt (Black, 16 GB)'\n",
      " 'Samsung Galaxy J7 Nxt (Gold, 16 GB)' 'Infinix Hot 9 Pro (Violet, 64 GB)'\n",
      " 'Infinix Hot 9 Pro (Ocean Wave, 64 GB)' 'Infinix Hot 9 (Violet, 64 GB)'\n",
      " 'Infinix Hot 9 (Ocean Wave, 64 GB)'\n",
      " 'Infinix Note 5 Stylus (Charcoal Blue, 64 GB)'\n",
      " 'Infinix S5 Pro (Forest Green, 64 GB)' 'Infinix S5 Pro (Violet, 64 GB)'\n",
      " 'Infinix Note 5 Stylus (Bordeaux Red, 64 GB)'\n",
      " 'Infinix Hot S3X (Tradew Gray, 32 GB)'\n",
      " 'Infinix Hot S3X (Milan Black, 32 GB)' 'Infinix Note 5 (Ice Blue, 64 GB)'\n",
      " 'Infinix Note 5 (Berlin Gray, 64 GB)'\n",
      " 'Infinix Hot 7 (Midnight Black, 64 GB)'\n",
      " 'Infinix Hot 7 (Mocha Brown, 64 GB)' 'Infinix Hot 7 (Aqua Blue, 64 GB)'\n",
      " 'Infinix Note 5 (Berlin Gray, 32 GB)'\n",
      " 'Infinix Hot S3 (Topaz Blue, 64 GB)'\n",
      " 'Infinix Hot S3 (Sandstone Black, 64 GB)'\n",
      " 'Infinix Hot S3 (Blush Gold, 64 GB)' 'Infinix S5 Lite (Violet, 64 GB)'\n",
      " 'Infinix S5 Lite (Quetzal Cyan, 64 GB)'\n",
      " 'Infinix S5 Lite (Midnight Black, 64 GB)'\n",
      " 'Infinix Note 5 (Milan Black, 32 GB)'\n",
      " 'Infinix Zero 5 Pro (Bronze Gold Black, 128 GB)'\n",
      " 'Infinix S4 (Nebula Blue, 32 GB)' 'Infinix S4 (Twilight Purple, 32 GB)'\n",
      " 'Infinix S4 (Space Gray, 32 GB)' 'Infinix S5 (Quetzal Cyan, 64 GB)'\n",
      " 'Infinix S5 (Violet, 64 GB)' 'Infinix Hot S3 (Blush Gold, 32 GB)'\n",
      " 'Infinix Hot S3 (Sandstone Black, 32 GB)'\n",
      " 'Infinix Hot S3 (Topaz Blue, 32 GB)'\n",
      " 'Infinix Hot S3 (Bordeaux Red, 32 GB)'\n",
      " 'Infinix Note 5 (Milan Black, 64 GB)'\n",
      " 'Infinix Zero 5 (Sandstone Black, 64 GB)'\n",
      " 'Infinix Zero 5 (Bordeaux Red, 64 GB)' 'POCO F1 (Steel Blue, 128 GB)'\n",
      " 'POCO F1 (Steel Blue, 256 GB)' 'POCO F1 (Graphite Black, 256 GB)'\n",
      " 'POCO F1 (Armoured Edition, 256 GB)' 'POCO F1 (Rosso Red, 64 GB)'\n",
      " 'POCO X2 (Matrix Purple, 256 GB)' 'POCO X2 (Matrix Purple, 64 GB)'\n",
      " 'POCO X2 (Atlantis Blue, 64 GB)' 'POCO X2 (Phoenix Red, 128 GB)'\n",
      " 'POCO X2 (Atlantis Blue, 128 GB)' 'POCO X2 (Atlantis Blue, 256 GB)'\n",
      " 'POCO X2 (Phoenix Red, 256 GB)' 'POCO X2 (Phoenix Red, 64 GB)'\n",
      " 'POCO X2 Special Edition (Matrix Purple, 128 GB)'\n",
      " 'POCO F1 (Rosso Red, 128 GB)' 'POCO F1 (Graphite Black, 128 GB)'\n",
      " 'POCO F1 (Rosso Red, 256 GB)' 'POCO F1 (Armoured Edition, 128 GB)'\n",
      " 'POCO X2 Special Edition (Atlantis Blue, 128 GB)'\n",
      " 'POCO X2 Special Edition (Phoenix Red, 128 GB)'\n",
      " 'POCO F1 (Steel Blue, 64 GB)' 'POCO F1 (Graphite Black, 64 GB)'\n",
      " 'POCO M2 Pro (Green and Greener, 64 GB)'\n",
      " 'POCO M2 Pro (Green and Greener, 128 GB)'\n",
      " 'POCO M2 Pro (Out of the Blue, 128 GB)'\n",
      " 'POCO M2 Pro (Two Shades of Black, 128 GB)'\n",
      " 'POCO M2 Pro (Two Shades of Black, 64 GB)'\n",
      " 'POCO M2 Pro (Out of the Blue, 64 GB)' 'OPPO A31 (Fantasy White, 64 GB)'\n",
      " 'OPPO A31 (Fantasy White, 128 GB)' 'OPPO A31 (Mystery Black, 128 GB)'\n",
      " 'OPPO A31 (Mystery Black, 64 GB)' 'OPPO A9 2020 (Marine Green, 128 GB)'\n",
      " 'OPPO A12 (Black, 32 GB)' 'OPPO A12 (Blue, 32 GB)'\n",
      " 'OPPO A5s (Blue, 32 GB)' 'OPPO F15 (Unicorn White, 128 GB)'\n",
      " 'OPPO F15 (Blazing Blue, 128 GB)' 'OPPO A52 (Twilight Black, 128 GB)'\n",
      " 'OPPO A52 (Stream White, 128 GB)' 'OPPO A11K (Deep Blue, 32 GB)'\n",
      " 'OPPO A11K (Flowing Silver, 32 GB)' 'OPPO A5s (Green, 64 GB)'\n",
      " 'OPPO A9 2020 (Space Purple, 128 GB)'\n",
      " 'OPPO F15 (Lightening Black, 128 GB)' 'OPPO A5s (Gold, 64 GB)'\n",
      " 'OPPO Reno3 Pro (Sky White, 128 GB)'\n",
      " 'OPPO Reno3 Pro (Auroral Blue, 128 GB)'\n",
      " 'OPPO Reno3 Pro (Midnight Black, 128 GB)' 'OPPO A5s (Black, 32 GB)'\n",
      " 'OPPO F11 Pro (Thunder Black, 64 GB)'\n",
      " 'OPPO Reno 10x Zoom (Ocean Green, 256 GB)'\n",
      " 'OPPO Reno2 (Ocean Blue, 256 GB)' 'OPPO Find X (Glacier Blue, 256 GB)'\n",
      " 'OPPO Find X (Bordeaux Red, 256 GB)'\n",
      " 'OPPO Reno2 Z (Luminous Black, 256 GB)'\n",
      " 'OPPO A83 (2018 Edition) (Champagne, 64 GB)'\n",
      " 'OPPO A9 2020 (Vanilla Mint, 128 GB)' 'OPPO A5s (Red, 32 GB)'\n",
      " 'OPPO K1 (Piano Black, 64 GB)' 'OPPO F9 Pro (Sunrise Red, 64 GB)'\n",
      " 'OPPO K1 (Astral Blue, 64 GB)' 'OPPO F11 (Marble Green, 128 GB)'\n",
      " 'OPPO A1K (Red, 32 GB)' 'OPPO A7 (Glaring Gold, 64 GB)'\n",
      " 'OPPO F9 Pro (Twilight Blue, 64 GB)' 'OPPO F9 Pro (Starry Purple, 64 GB)'\n",
      " 'OPPO A7 (Glaze Blue, 64 GB)' 'OPPO A3s (Red, 64 GB)'\n",
      " 'OPPO A3s (Red, 16 GB)' 'OPPO A3s (Purple, 16 GB)'\n",
      " 'OPPO A12 (Black, 64 GB)' 'OPPO A12 (Blue, 64 GB)'\n",
      " 'OPPO F11 Pro (Waterfall Grey, 128 GB)'\n",
      " 'OPPO F11 Pro (Thunder Black, 128 GB)'\n",
      " 'OPPO R17 Pro (Radiant Mist, 128 GB)' 'OPPO A83 (Black, 32 GB)'\n",
      " 'OPPO A83 (Red, 16 GB)' 'OPPO F7 (Red, 64 GB)'\n",
      " 'OPPO F11 (Fluorite Purple, 128 GB)' 'OPPO F11 (Jewelry White, 128 GB)'\n",
      " 'OPPO F1S (Rose Gold, 64 GB)' 'OPPO F1S (Grey, 64 GB)'\n",
      " 'OPPO F1S (Gold, 64 GB)' 'OPPO F1S (Grey, 32 GB)'\n",
      " 'OPPO A71k (New Edition) (Blue, 16 GB)' 'OPPO A3s (Purple, 32 GB)'\n",
      " 'OPPO F3 (Rose Gold, 64 GB)' 'OPPO A5 (Diamond Red, 32 GB)'\n",
      " 'OPPO A83 (2018 Edition) (Red, 64 GB)' 'OPPO F9 (Stellar Purple, 64 GB)'\n",
      " 'OPPO A3s (Purple, 64 GB)' 'OPPO Reno 10x Zoom (Jet Black, 256 GB)'\n",
      " 'OPPO Reno 10x Zoom (Jet Black, 128 GB)']\n",
      "\n",
      "\n",
      "mobile_price ['₹8,999' '₹9,999' '₹11,999' '₹14,999' '₹16,999' '₹13,999' '₹35,999'\n",
      " '₹31,999' '₹15,490' '₹41,999' '₹46,999' '₹19,999' '₹6,999' '₹7,499'\n",
      " '₹17,999' '₹10,999' '₹29,999' '₹36,999' '₹20,999' '₹6,499' '₹25,999'\n",
      " '₹24,999' '₹27,999' '₹32,999' '₹8,499' '₹9,499' '₹10,499' '₹9,799'\n",
      " '₹16,939' '₹17,350' '₹21,999' '₹13,495' '₹15,990' '₹55,799' '₹51,800'\n",
      " '₹16,899' '₹12,999' '₹16,998' '₹7,399' '₹11,199' '₹13,261' '₹10,978'\n",
      " '₹11,280' '₹10,100' '₹7,450' '₹55,400' '₹6,700' '₹6,699' '₹7,999'\n",
      " '₹8,369' '₹8,090' '₹8,498' '₹9,990' '₹11,349' '₹14,800' '₹13,990'\n",
      " '₹8,689' '₹11,599' '₹9,900' '₹10,990' '₹10,849' '₹16,990' '₹18,990'\n",
      " '₹12,990' '₹19,990' '₹8,990' '₹11,982' '₹17,990' '₹8,705' '₹8,949'\n",
      " '₹16,375' '₹31,990' '₹27,990' '₹24,990' '₹11,990' '₹9,199' '₹22,399'\n",
      " '₹21,099' '₹29,499' '₹11,490' '₹28,499' '₹28,990' '₹29,990' '₹15,500'\n",
      " '₹14,990' '₹18,900' '₹24,000' '₹8,900' '₹11,500' '₹10,900' '₹12,000'\n",
      " '₹22,325' '₹13,995' '₹13,529' '₹8,998' '₹14,914' '₹14,538' '₹17,490'\n",
      " '₹16,499' '₹18,499' '₹15,999' '₹6,299' '₹19,900' '₹47,999' '₹6,000'\n",
      " '₹20,995' '₹11,995' '₹10,995' '₹11,499' '₹7,699' '₹7,599' '₹9,599'\n",
      " '₹18,999' '₹22,999' '₹21,499' '₹17,499' '₹12,490' '₹15,899' '₹41,990'\n",
      " '₹38,990' '₹60,990' '₹14,499' '₹13,744' '₹9,490' '₹18,989' '₹19,038'\n",
      " '₹8,490' '₹19,600' '₹21,150' '₹17,500' '₹14,495' '₹9,500' '₹31,590'\n",
      " '₹13,490' '₹22,990' '₹18,000' '₹13,500' '₹17,000' '₹15,000']\n",
      "\n",
      "\n",
      "mobile_color ['So White' 'So Blue' 'That Green' 'That White' 'Crystal Green'\n",
      " 'Sparkling Blue' 'Lunar White' 'Neptune Blue' 'Black Sea' 'Pearl Blue'\n",
      " 'Pearl White' 'Rust Red' 'Moss Green' 'Frozen Blue' 'Comet White'\n",
      " 'Lightning Orange' 'Lightning Blue' 'Diamond Black' 'Diamond Blue'\n",
      " 'Diamond Ruby' 'Comet Blue' 'Diamond Sapphire' 'Crystal Red'\n",
      " 'Crystal Blue' 'Crystal Purple' 'Red Brick' 'Concrete' 'Pearl Green'\n",
      " 'That Blue' 'Glacier Blue' 'Arctic White' 'Dynamic Black' 'Diamond Red'\n",
      " 'Radiant Blue' 'Black' 'Sapphire Blue' 'Onyx Black' 'Flame Red'\n",
      " 'Aurora Blue' 'Carbon Black' 'More Than White' 'Space Black'\n",
      " 'Not just Blue' 'Kind of Grey' 'Nebula Red' 'Gold' 'Rose Gold' 'Red'\n",
      " 'Twilight Grey' 'Coral Green' 'Lake Blue' 'Metallic Grey' 'Emerald Green'\n",
      " 'Ruby Red' 'Interstellar Black' 'Sea Blue' 'Midnight Grey'\n",
      " 'Moonlight White' 'Sky White' 'Glacier White' 'Astro Moonlight White'\n",
      " 'Sunset Red' 'Blue/Lake Blue' 'Blue' 'Matte Black' 'Matte Gold'\n",
      " 'Elegant Blue' 'Prime Black' 'Grey' 'Dark Grey' 'Burgundy Red'\n",
      " 'Thunder Black' 'Mineral Blue' 'Fusion Blue' 'Phantom Purple' 'Agate Red'\n",
      " 'Mystic Black' 'Jazzy Blue' 'Dreamy White' 'Fusion Black' 'Ocean Blue'\n",
      " 'Iris Blue' 'Sonic Black' 'Sonic Blue' 'Magnetic Black' 'Mystic Silver'\n",
      " 'Piano Black' 'Glacier ice white' 'Midnight Ocean Black' 'Electric Blue'\n",
      " 'Skyline Blue' 'Topaz Blue' 'Mystic Purple' 'Glacier Ice White'\n",
      " 'Starry Night Black' 'Frozen Black' 'Starry Black' 'Energetic Blue'\n",
      " 'Nebula Purple' 'White' 'Midnight Blue' 'Raven Black' 'Prism Blue'\n",
      " 'Prism Black' 'Metallic gold' 'Violet' 'Ocean Wave' 'Charcoal Blue'\n",
      " 'Forest Green' 'Bordeaux Red' 'Tradew Gray' 'Milan Black' 'Ice Blue'\n",
      " 'Berlin Gray' 'Midnight Black' 'Mocha Brown' 'Aqua Blue'\n",
      " 'Sandstone Black' 'Blush Gold' 'Quetzal Cyan' 'Bronze Gold Black'\n",
      " 'Nebula Blue' 'Twilight Purple' 'Space Gray' 'Steel Blue'\n",
      " 'Graphite Black' 'Armoured Edition' 'Rosso Red' 'Matrix Purple'\n",
      " 'Atlantis Blue' 'Phoenix Red' 'Green and Greener' 'Out of the Blue'\n",
      " 'Two Shades of Black' 'Fantasy White' 'Mystery Black' 'Marine Green'\n",
      " 'Unicorn White' 'Blazing Blue' 'Twilight Black' 'Stream White'\n",
      " 'Deep Blue' 'Flowing Silver' 'Green' 'Space Purple' 'Lightening Black'\n",
      " 'Auroral Blue' 'Ocean Green' 'Luminous Black' 'Champagne' 'Vanilla Mint'\n",
      " 'Sunrise Red' 'Astral Blue' 'Marble Green' 'Glaring Gold' 'Twilight Blue'\n",
      " 'Starry Purple' 'Glaze Blue' 'Purple' 'Waterfall Grey' 'Radiant Mist'\n",
      " 'Fluorite Purple' 'Jewelry White' 'Stellar Purple' 'Jet Black']\n",
      "\n",
      "\n",
      "dual_sim ['Dual Sim' 'Single Sim']\n",
      "\n",
      "\n",
      "disp_size ['16.56 cm (6.52 inch)' '16.51 cm (6.5 inch)' '16.0 cm (6.3 inch)'\n",
      " '16.26 cm (6.4 inch)' '16.36 cm (6.44 inch)' '16.76 cm (6.6 inch)'\n",
      " '15.49 cm (6.1 inch)' '16.69 cm (6.57 inch)' '15.8 cm (6.22 inch)'\n",
      " '16.23 cm (6.39 inch)' '16.94 cm (6.67 inch)' '15.44 cm (6.08 inch)'\n",
      " '15.21 cm (5.99 inch)' '15.9 cm (6.26 inch)' '12.7 cm (5 inch)'\n",
      " '15.46 cm (6.088 inch)' '13.97 cm (5.5 inch)' '13.84 cm (5.45 inch)'\n",
      " '16.13 cm (6.35 inch)' '16.21 cm (6.38 inch)' '16.59 cm (6.53 inch)'\n",
      " '16.28 cm (6.41 inch)' '16.74 cm (6.59 inch)' '14.48 cm (5.7 inch)'\n",
      " '15.24 cm (6 inch)' '13.21 cm (5.2 inch)' '17.02 cm (6.7 inch)'\n",
      " '11.94 cm (4.7 inch)' '15.06 cm (5.93 inch)' '15.75 cm (6.2 inch)'\n",
      " '15.72 cm (6.19 inch)' '14.35 cm (5.65 inch)' '15.19 cm (5.98 inch)'\n",
      " '15.77 cm (6.21 inch)' '15.7 cm (6.18 inch)' '15.82 cm (6.23 inch)']\n",
      "\n",
      "\n",
      "resolution ['1600 x 720 Pixels' '2340 x 1080 pixels' '2400 x 1080 Pixels'\n",
      " '1080 x 2340 Pixels' '1080 x 2400 Pixels' '720 x 1600 Pixels'\n",
      " '1560 x 720 pixels' '2400 × 1080 Pixels' '1520 x 720 pixels'\n",
      " '1520 x 720 Pixels' '2400 x 1080 pixel' '1560 x 720 Pixels'\n",
      " '2160 x 1080 Pixels' '1440 x 720 pixels' '2280 x 1080 pixels'\n",
      " '2160 x 1080 pixels' '2340 x 1080 Pixel' '1920 x 1080 Pixels'\n",
      " '1520 x 720$$Pixels' '1520 x 720$$pixel' '2280 x 1080$$Pixels'\n",
      " '1920 x 1080 pixels' '2400 x 1080 Pixel' '1280 x 720 pixels'\n",
      " '2400 x 1080$$pixel' '1280 x 720 Pixels' '720 x 1544 pixels'\n",
      " '720 x 1544 Pixels' '2340 x 1080 Pixels' '2316 x 1080 pixels'\n",
      " '2280 x 1080 Pixels' '1440 x 720 Pixels' '1440 x 720 Pixel'\n",
      " '1520 x 720$$ pixels' '1520 x 720$pixels' '2340 x 1080$$pixel'\n",
      " '2340 x 1080$$Pixel' '960 x 540 Pixels' '540 x 960 Pixels'\n",
      " '1080 x 2160 pixels' '1500 x 720 pixels' '720 x 1440 Pixels'\n",
      " '720*1440 Pixels' '1080 x 1920 Pixels' '720 x 1520 pixels'\n",
      " '1080 x 2340 pixels' '720 x 1560 pixels' '720 x 1280']\n",
      "\n",
      "\n",
      "os ['Android 10' 'Android Pie 9.0' 'Android Pie 9' 'Android Oreo 8.1'\n",
      " 'Android Pie 10' 'Android Nougat 7.1.1' 'Android Oreo 8.0'\n",
      " 'Android Nougat 7.1.2' 'Android KitKat 4.4.2' 'Android Marshmallow 6.0.1'\n",
      " 'Android Nougat 7.1' 'Android Marshmallow 6' 'Android Nougat 7'\n",
      " 'Android Lollipop 5.4.1' 'Android Oreo 8.1.0' 'Android Oreo 8'\n",
      " 'Android Lollipop 5.1' 'Android Lollipop 5.1.1']\n",
      "\n",
      "\n",
      "num_cores ['Octa Core' 'Quad Core' 'Single Core']\n",
      "\n",
      "\n",
      "mp_speed ['2 GHz' '2.3 GHz' '2.96 GHz' '1.95 GHz' '2.8 GHz' '2.05 GHz' '2.2 GHz'\n",
      " '2.1 GHz' '2.84 GHz' '2.5 GHz' '1.8 GHz' '1.4 GHz' '1.5 GHz' '1.3 GHz'\n",
      " '1.6 GHz' '2.39 GHz' '2.6 GHz' '2.649 GHz']\n",
      "\n",
      "\n",
      "int_memory ['32 GB' '64 GB' '128 GB' '256 GB' '16 GB' '512 GB' '8 GB']\n",
      "\n",
      "\n",
      "ram ['3 GB' '4 GB' '6 GB' '8 GB' '12 GB' '2 GB' '1 GB']\n",
      "\n",
      "\n",
      "p_cam ['12MP + 2MP + 2MP' '48MP + 8MP + 2MP + 2MP'\n",
      " '48MP + 8MP + 2MP + 2MP Quad Camera' '64MP + 13MP + 8MP + 2MP'\n",
      " '16MP + 2MP' '64MP + 8MP + 2MP + 2MP Quad Camera'\n",
      " '64MP + 12MP + 8MP + 2MP' '12MP + 2MP' '64MP + 8MP + 2MP + 2MP'\n",
      " '13MP + 2MP' '64MP + 8MP + 8MP + 2MP' '48MP + 13MP + 8MP'\n",
      " '48MP + 8MP + 5MP + 2MP' '48MP + 8MP + 2MP' '48MP + 5MP'\n",
      " '12MP Rear Camera' '12MP + 5MP' '20MP + 12MP' '108MP Rear Camera'\n",
      " '13MP Rear Camera' '48MP + 8MP' '64MP + 8MP + 5MP + 2MP'\n",
      " '8MP Rear Camera' '13MP + 2MP + 8MP' '13MP + 8MP + 2MP'\n",
      " '13MP + 8MP + 2MP + 2MP' '16MP + 2MP + 8MP' '16MP + 8MP + 2MP'\n",
      " '48MP + 5MP + 8MP'\n",
      " '48 Million Quad Pixel Sensor (12 Million Effective Pixel) + 8MP + 5MP, AI Triple Rear Camera'\n",
      " '48MP + 13MP + 8MP + 2MP' '12MP + 5MP + 8MP' '16MP Rear Camera'\n",
      " '16MP + 5MP' '48MP + 8MP + 5MP' '64MP + 8MP + 5MP + 5MP'\n",
      " '48MP + 12MP + 5MP' '5MP Rear Camera'\n",
      " '48 MP + 2 MP + 2 MP + Low Light Sensor'\n",
      " '13 MP + 2 MP + 2 MP + Low Light Sensor' '48MP + 2MP + Low Light Sensor'\n",
      " '16MP + 2MP + Low Light Sensor' '12MP + 13MP'\n",
      " '13MP + 2MP Depth Sensor + 8MP Wide Angle sensor'\n",
      " '16MP + 5MP + 2MP + Low Light Sensor' '12MP + 8MP + 2MP + 2MP'\n",
      " '48MP + 8MP + 13MP + 2MP' '16MP + 20MP' '12MP + 20MP']\n",
      "\n",
      "\n",
      "f_cam ['5MP Front Camera' '16MP Front Camera' '32MP + 8MP Dual Front Camera'\n",
      " '16MP + 8MP Dual Front Camera' '13MP Front Camera' '32MP Front Camera'\n",
      " '8MP Front Camera' '20MP Front Camera' '20MP + 2MP Dual Front Camera'\n",
      " '2MP Front Camera' '8MP Dual Front Camera' '25MP Front Camera'\n",
      " '24MP Front Camera' '13MP + 2MP Dual Front Camera'\n",
      " '44MP + 2MP Dual Front Camera']\n",
      "\n",
      "\n",
      "network ['4G VOLTE, 4G, 3G, 2G' '3G, 4G VOLTE, 2G' '3G, 4G VOLTE, 4G, 2G'\n",
      " '3G, 4G, 2G' '4G, 2G, 3G' '5G, 4G VOLTE, 4G, 3G, 2G' '4G VOLTE, 3G, 2G'\n",
      " '4G VOLTE, 3G' '4G VOLTE, 4G, 2G, 3G' '4G VOLTE, 5G' '3G, 4G VOLTE, 4G'\n",
      " '3G' '4G VOLTE' '3G, 4G VOLTE' '2G' '4G, 3G, 2G' '3G, 4G' '4G VOLTE, 4G']\n",
      "\n",
      "\n",
      "bluetooth ['Yes']\n",
      "\n",
      "\n",
      "battery_power ['5000 mAh' '4035 mAh' '4000 mAh' '3500 mAh' '4200 mAh' '4300 mAh'\n",
      " '4230 mAh' '5020 mAh' '4030 mAh' '3400 mAh' '3080 mAh' '3010 mAh'\n",
      " '4780 mAh' '3050 mAh' '4100 mAh' '3000 mAh' '4500 mAh' '3700 mAh'\n",
      " '3260 mAh' '3360 mAh' '3225 mAh' '2730 mAh' '6000 mAh' '2600 mAh'\n",
      " '2000 mAh' '3600 mAh' '4350 mAh' '4025 mAh' '4065 mAh' '3730 mAh'\n",
      " '3180 mAh' '4020 mAh' '3075 mAh' '3200 mAh']\n",
      "\n",
      "\n",
      "mob_width ['75 mm' '75.4 mm' '74.2 mm' '75.7 mm' '74 mm' '75.16 mm' '74.24 mm'\n",
      " '74.8 mm' '75.8 mm' '73.7 mm' '75.6 mm' '75.2 mm' '75.41 mm' '74.3 mm'\n",
      " '76.68 mm' '71.85 mm' '75.21 mm' '75.49 mm' '77.26 mm' '76.4 mm'\n",
      " '75.35 mm' '73.6 mm' '9 mm' '8.35 mm' '76 mm' '70.1 mm' '70.4 mm'\n",
      " '71.5 mm' '75.58 mm' '76.2 mm' '76.77 mm' '75.23 mm' '75.19 mm'\n",
      " '75.09 mm' '76.46 mm' '77.33 mm' '76.47 mm' '75.04 mm' '74.17 mm'\n",
      " '74.71 mm' '74.7 mm' '75.08 mm' '77 mm' '75.03 mm' '75.93 mm' '72.8 mm'\n",
      " '75.24 mm' '75.74 mm' '72.9 mm' '159 mm' '75.3 mm' '72.1 mm' '69 mm'\n",
      " '152.4 mm' '76.8 mm' '76.88 mm' '75.25 mm' '72.85 mm' '82.38 mm'\n",
      " '76.6 mm' '75.5 mm' '73.3 mm' '73.4 mm' '76.1 mm' '77.2 mm' '73.1 mm'\n",
      " '77.35 mm' '74.6 mm' '154.5 mm' '73.8 mm']\n",
      "\n",
      "\n",
      "mob_height ['164.4 mm' '157 mm' '161 mm' '156.7 mm' '158.7 mm' '158.96 mm' '162.1 mm'\n",
      " '163.9 mm' '154.3 mm' '163.8 mm' '156.1 mm' '156.48 mm' '165.75 mm'\n",
      " '153.48 mm' '159.21 mm' '151.86 mm' '160.73 mm' '157.9 mm' '162.58 mm'\n",
      " '158.58 mm' '144 mm' '175 mm' '158.3 mm' '151 mm' '165.5 mm' '140.4 mm'\n",
      " '146.3 mm' '147.5 mm' '158.73 mm' '153 mm' '159.43 mm' '159.53 mm'\n",
      " '159.25 mm' '155.11 mm' '162.04 mm' '162.39 mm' '162.15 mm' '159.64 mm'\n",
      " '159.01 mm' '157.25 mm' '159 mm' '157.91 mm' '162 mm' '155.06 mm'\n",
      " '154.81 mm' '161.97 mm' '149.3 mm' '155.21 mm' '155.87 mm' '149.9 mm'\n",
      " '154.6 mm' '9 mm' '163.6 mm' '143.4 mm' '162.5 mm' '136.5 mm' '152.4 mm'\n",
      " '78.6 mm' '165 mm' '158 mm' '158.25 mm' '153.9 mm' '164 mm' '166.38 mm'\n",
      " '156 mm' '155.5 mm' '165.3 mm' '155.9 mm' '160.2 mm' '158.8 mm'\n",
      " '161.3 mm' '160 mm' '161.8 mm' '150.5 mm' '154.4 mm' '156.2 mm'\n",
      " '157.6 mm' '154.5 mm' '7.38 mm' '148.1 mm' '153.3 mm']\n",
      "\n",
      "\n",
      "mob_depth ['8.95 mm' '9 mm' '8.9 mm' '8.7 mm' '8.5 mm' '8.55 mm' '9.65 mm' '9.6 mm'\n",
      " '9.4 mm' '9.3 mm' '8.6 mm' '8.3 mm' '8.8 mm' '8.475 mm' '8.1 mm' '7.7 mm'\n",
      " '8.26 mm' '7.3 mm' '8.96 mm' '8.05 mm' '92 mm' '75.3 mm' '8.4 mm'\n",
      " '8.35 mm' '9.55 mm' '8.47 mm' '8.92 mm' '8.13 mm' '8.68 mm' '8.28 mm'\n",
      " '9.11 mm' '8.85 mm' '8.89 mm' '8.54 mm' '8.21 mm' '9.8 mm' '7.9 mm'\n",
      " '7.98 mm' '7.77 mm' '7.89 mm' '7.8 mm' '7.5 mm' '75 mm' '7.6 mm'\n",
      " '8.65 mm' '7.95 mm' '8.79 mm' '9.1 mm' '8.2 mm' '9.5 mm' '8.67 mm'\n",
      " '7.4 mm' '7.99 mm' '7.38 mm' '76 mm']\n",
      "\n",
      "\n",
      "mob_weight ['195 g' '199 g' '184 g' '174 g' '183 g' '207 g' '191 g' '166 g' '198 g'\n",
      " '182 g' '202 g' '175 g' '188 g' '209 g' '173.8 g' '186 g' '185 g' '168 g'\n",
      " '181 g' '145 g' '190 g' '165 g' '137 g' '146 g' '180 g' '154 g' '190.5 g'\n",
      " '189.6 g' '186.7 g' '163.5 g' '197 g' '201 g' '193 g' '186.5 g' '176 g'\n",
      " '179 g' '201.8 g' '156 g' '148 g' '150 g' '189.5 g' '139 g' '151 g'\n",
      " '160 g' '142 g' '143 g' '162.8 g' '187 g' '130 g' '178 g' '170 g' '194 g'\n",
      " '159 g' '155 g' '208 g' '172 g' '192 g' '215 g' '189 g' '169 g' '158 g'\n",
      " '153 g']\n",
      "\n",
      "\n"
     ]
    }
   ],
   "source": [
    "# to check unique value in each column\n",
    "for col in df.columns:\n",
    "    print(col, df[col].unique())\n",
    "    print('\\n')"
   ]
  },
  {
   "cell_type": "code",
   "execution_count": 5,
   "id": "1de4f934",
   "metadata": {},
   "outputs": [
    {
     "data": {
      "text/html": [
       "<div>\n",
       "<style scoped>\n",
       "    .dataframe tbody tr th:only-of-type {\n",
       "        vertical-align: middle;\n",
       "    }\n",
       "\n",
       "    .dataframe tbody tr th {\n",
       "        vertical-align: top;\n",
       "    }\n",
       "\n",
       "    .dataframe thead th {\n",
       "        text-align: right;\n",
       "    }\n",
       "</style>\n",
       "<table border=\"1\" class=\"dataframe\">\n",
       "  <thead>\n",
       "    <tr style=\"text-align: right;\">\n",
       "      <th></th>\n",
       "    </tr>\n",
       "  </thead>\n",
       "  <tbody>\n",
       "    <tr>\n",
       "      <th>0</th>\n",
       "    </tr>\n",
       "    <tr>\n",
       "      <th>1</th>\n",
       "    </tr>\n",
       "    <tr>\n",
       "      <th>2</th>\n",
       "    </tr>\n",
       "    <tr>\n",
       "      <th>3</th>\n",
       "    </tr>\n",
       "    <tr>\n",
       "      <th>4</th>\n",
       "    </tr>\n",
       "    <tr>\n",
       "      <th>...</th>\n",
       "    </tr>\n",
       "    <tr>\n",
       "      <th>454</th>\n",
       "    </tr>\n",
       "    <tr>\n",
       "      <th>455</th>\n",
       "    </tr>\n",
       "    <tr>\n",
       "      <th>456</th>\n",
       "    </tr>\n",
       "    <tr>\n",
       "      <th>457</th>\n",
       "    </tr>\n",
       "    <tr>\n",
       "      <th>458</th>\n",
       "    </tr>\n",
       "  </tbody>\n",
       "</table>\n",
       "<p>459 rows × 0 columns</p>\n",
       "</div>"
      ],
      "text/plain": [
       "Empty DataFrame\n",
       "Columns: []\n",
       "Index: [0, 1, 2, 3, 4, 5, 6, 7, 8, 9, 10, 11, 12, 13, 14, 15, 16, 17, 18, 19, 20, 21, 22, 23, 24, 25, 26, 27, 28, 29, 30, 31, 32, 33, 34, 35, 36, 37, 38, 39, 40, 41, 42, 43, 44, 45, 46, 47, 48, 49, 50, 51, 52, 53, 54, 55, 56, 57, 58, 59, 60, 61, 62, 63, 64, 65, 66, 67, 68, 69, 70, 71, 72, 73, 74, 75, 76, 77, 78, 79, 80, 81, 82, 83, 84, 85, 86, 87, 88, 89, 90, 91, 92, 93, 94, 95, 96, 97, 98, 99, ...]\n",
       "\n",
       "[459 rows x 0 columns]"
      ]
     },
     "execution_count": 5,
     "metadata": {},
     "output_type": "execute_result"
    }
   ],
   "source": [
    "# to know numeric columns\n",
    "df._get_numeric_data()"
   ]
  },
  {
   "cell_type": "code",
   "execution_count": 6,
   "id": "43130c55",
   "metadata": {},
   "outputs": [],
   "source": [
    "# Maintain a copy of initial data as such for future reference and comparison, if needed\n",
    "\n",
    "initial_df = df"
   ]
  },
  {
   "cell_type": "code",
   "execution_count": 7,
   "id": "c630c1b2",
   "metadata": {},
   "outputs": [],
   "source": [
    "# Also maintain a dictionary(or mapping) to maintain the list of columns which are cleaned"
   ]
  },
  {
   "cell_type": "code",
   "execution_count": 8,
   "id": "84c453d6",
   "metadata": {},
   "outputs": [],
   "source": [
    "# from collections import defaultdict\n",
    "\n",
    "# status = defaultdict(lambda: 0)\n",
    "\n",
    "status = dict(zip(df.columns,list([0]*len(df.columns))))"
   ]
  },
  {
   "cell_type": "code",
   "execution_count": 9,
   "id": "25d9e361",
   "metadata": {},
   "outputs": [
    {
     "data": {
      "text/plain": [
       "{'mobile_name': 0,\n",
       " 'mobile_price': 0,\n",
       " 'mobile_color': 0,\n",
       " 'dual_sim': 0,\n",
       " 'disp_size': 0,\n",
       " 'resolution': 0,\n",
       " 'os': 0,\n",
       " 'num_cores': 0,\n",
       " 'mp_speed': 0,\n",
       " 'int_memory': 0,\n",
       " 'ram': 0,\n",
       " 'p_cam': 0,\n",
       " 'f_cam': 0,\n",
       " 'network': 0,\n",
       " 'bluetooth': 0,\n",
       " 'battery_power': 0,\n",
       " 'mob_width': 0,\n",
       " 'mob_height': 0,\n",
       " 'mob_depth': 0,\n",
       " 'mob_weight': 0}"
      ]
     },
     "execution_count": 9,
     "metadata": {},
     "output_type": "execute_result"
    }
   ],
   "source": [
    "status"
   ]
  },
  {
   "cell_type": "code",
   "execution_count": 10,
   "id": "dd232958",
   "metadata": {},
   "outputs": [],
   "source": [
    "def print_processed_status(df):\n",
    "    for col in df.columns:\n",
    "        print(col, status[col])"
   ]
  },
  {
   "cell_type": "code",
   "execution_count": 11,
   "id": "c42e4355",
   "metadata": {},
   "outputs": [
    {
     "name": "stdout",
     "output_type": "stream",
     "text": [
      "mobile_name 0\n",
      "mobile_price 0\n",
      "mobile_color 0\n",
      "dual_sim 0\n",
      "disp_size 0\n",
      "resolution 0\n",
      "os 0\n",
      "num_cores 0\n",
      "mp_speed 0\n",
      "int_memory 0\n",
      "ram 0\n",
      "p_cam 0\n",
      "f_cam 0\n",
      "network 0\n",
      "bluetooth 0\n",
      "battery_power 0\n",
      "mob_width 0\n",
      "mob_height 0\n",
      "mob_depth 0\n",
      "mob_weight 0\n"
     ]
    }
   ],
   "source": [
    "print_processed_status(df)"
   ]
  },
  {
   "cell_type": "markdown",
   "id": "41815406",
   "metadata": {},
   "source": [
    "Some columns seem to have data which can easily be made numeric by removing strings from it. For example, Rs.,Pixels,mm,mp etc. Try to remove them and check the correlation(relationship) with mobile_price"
   ]
  },
  {
   "cell_type": "code",
   "execution_count": 12,
   "id": "b2af82c9",
   "metadata": {},
   "outputs": [],
   "source": [
    "def numericize(df,col):\n",
    "    return pd.to_numeric(df[col].str.replace('[a-zA-Z]','',regex=True))"
   ]
  },
  {
   "cell_type": "code",
   "execution_count": 13,
   "id": "c5bf5853",
   "metadata": {},
   "outputs": [
    {
     "data": {
      "text/html": [
       "<div>\n",
       "<style scoped>\n",
       "    .dataframe tbody tr th:only-of-type {\n",
       "        vertical-align: middle;\n",
       "    }\n",
       "\n",
       "    .dataframe tbody tr th {\n",
       "        vertical-align: top;\n",
       "    }\n",
       "\n",
       "    .dataframe thead th {\n",
       "        text-align: right;\n",
       "    }\n",
       "</style>\n",
       "<table border=\"1\" class=\"dataframe\">\n",
       "  <thead>\n",
       "    <tr style=\"text-align: right;\">\n",
       "      <th></th>\n",
       "      <th>mobile_name</th>\n",
       "      <th>mobile_price</th>\n",
       "      <th>mobile_color</th>\n",
       "      <th>dual_sim</th>\n",
       "      <th>disp_size</th>\n",
       "      <th>resolution</th>\n",
       "      <th>os</th>\n",
       "      <th>num_cores</th>\n",
       "      <th>mp_speed</th>\n",
       "      <th>int_memory</th>\n",
       "      <th>ram</th>\n",
       "      <th>p_cam</th>\n",
       "      <th>f_cam</th>\n",
       "      <th>network</th>\n",
       "      <th>bluetooth</th>\n",
       "      <th>battery_power</th>\n",
       "      <th>mob_width</th>\n",
       "      <th>mob_height</th>\n",
       "      <th>mob_depth</th>\n",
       "      <th>mob_weight</th>\n",
       "    </tr>\n",
       "  </thead>\n",
       "  <tbody>\n",
       "    <tr>\n",
       "      <th>0</th>\n",
       "      <td>Realme Narzo 10A (So White, 32 GB)</td>\n",
       "      <td>₹8,999</td>\n",
       "      <td>So White</td>\n",
       "      <td>Dual Sim</td>\n",
       "      <td>16.56 cm (6.52 inch)</td>\n",
       "      <td>1600 x 720 Pixels</td>\n",
       "      <td>Android 10</td>\n",
       "      <td>Octa Core</td>\n",
       "      <td>2 GHz</td>\n",
       "      <td>32 GB</td>\n",
       "      <td>3 GB</td>\n",
       "      <td>12MP + 2MP + 2MP</td>\n",
       "      <td>5MP Front Camera</td>\n",
       "      <td>4G VOLTE, 4G, 3G, 2G</td>\n",
       "      <td>Yes</td>\n",
       "      <td>5000 mAh</td>\n",
       "      <td>75 mm</td>\n",
       "      <td>164.4 mm</td>\n",
       "      <td>8.95 mm</td>\n",
       "      <td>195 g</td>\n",
       "    </tr>\n",
       "    <tr>\n",
       "      <th>1</th>\n",
       "      <td>Realme Narzo 10A (So Blue, 32 GB)</td>\n",
       "      <td>₹8,999</td>\n",
       "      <td>So Blue</td>\n",
       "      <td>Dual Sim</td>\n",
       "      <td>16.56 cm (6.52 inch)</td>\n",
       "      <td>1600 x 720 Pixels</td>\n",
       "      <td>Android 10</td>\n",
       "      <td>Octa Core</td>\n",
       "      <td>2 GHz</td>\n",
       "      <td>32 GB</td>\n",
       "      <td>3 GB</td>\n",
       "      <td>12MP + 2MP + 2MP</td>\n",
       "      <td>5MP Front Camera</td>\n",
       "      <td>4G VOLTE, 4G, 3G, 2G</td>\n",
       "      <td>Yes</td>\n",
       "      <td>5000 mAh</td>\n",
       "      <td>75 mm</td>\n",
       "      <td>164.4 mm</td>\n",
       "      <td>8.95 mm</td>\n",
       "      <td>195 g</td>\n",
       "    </tr>\n",
       "    <tr>\n",
       "      <th>2</th>\n",
       "      <td>Realme Narzo 10A (So Blue, 64 GB)</td>\n",
       "      <td>₹9,999</td>\n",
       "      <td>So Blue</td>\n",
       "      <td>Dual Sim</td>\n",
       "      <td>16.56 cm (6.52 inch)</td>\n",
       "      <td>1600 x 720 Pixels</td>\n",
       "      <td>Android 10</td>\n",
       "      <td>Octa Core</td>\n",
       "      <td>2 GHz</td>\n",
       "      <td>64 GB</td>\n",
       "      <td>4 GB</td>\n",
       "      <td>12MP + 2MP + 2MP</td>\n",
       "      <td>5MP Front Camera</td>\n",
       "      <td>4G VOLTE, 4G, 3G, 2G</td>\n",
       "      <td>Yes</td>\n",
       "      <td>5000 mAh</td>\n",
       "      <td>75 mm</td>\n",
       "      <td>164.4 mm</td>\n",
       "      <td>8.95 mm</td>\n",
       "      <td>195 g</td>\n",
       "    </tr>\n",
       "    <tr>\n",
       "      <th>3</th>\n",
       "      <td>Realme Narzo 10A (So White, 64 GB)</td>\n",
       "      <td>₹9,999</td>\n",
       "      <td>So White</td>\n",
       "      <td>Dual Sim</td>\n",
       "      <td>16.56 cm (6.52 inch)</td>\n",
       "      <td>1600 x 720 Pixels</td>\n",
       "      <td>Android 10</td>\n",
       "      <td>Octa Core</td>\n",
       "      <td>2 GHz</td>\n",
       "      <td>64 GB</td>\n",
       "      <td>4 GB</td>\n",
       "      <td>12MP + 2MP + 2MP</td>\n",
       "      <td>5MP Front Camera</td>\n",
       "      <td>4G VOLTE, 4G, 3G, 2G</td>\n",
       "      <td>Yes</td>\n",
       "      <td>5000 mAh</td>\n",
       "      <td>75 mm</td>\n",
       "      <td>164.4 mm</td>\n",
       "      <td>8.95 mm</td>\n",
       "      <td>195 g</td>\n",
       "    </tr>\n",
       "    <tr>\n",
       "      <th>4</th>\n",
       "      <td>Realme Narzo 10 (That Green, 128 GB)</td>\n",
       "      <td>₹11,999</td>\n",
       "      <td>That Green</td>\n",
       "      <td>Dual Sim</td>\n",
       "      <td>16.51 cm (6.5 inch)</td>\n",
       "      <td>1600 x 720 Pixels</td>\n",
       "      <td>Android 10</td>\n",
       "      <td>Octa Core</td>\n",
       "      <td>2 GHz</td>\n",
       "      <td>128 GB</td>\n",
       "      <td>4 GB</td>\n",
       "      <td>48MP + 8MP + 2MP + 2MP</td>\n",
       "      <td>16MP Front Camera</td>\n",
       "      <td>4G VOLTE, 4G, 3G, 2G</td>\n",
       "      <td>Yes</td>\n",
       "      <td>5000 mAh</td>\n",
       "      <td>75.4 mm</td>\n",
       "      <td>164.4 mm</td>\n",
       "      <td>9 mm</td>\n",
       "      <td>199 g</td>\n",
       "    </tr>\n",
       "  </tbody>\n",
       "</table>\n",
       "</div>"
      ],
      "text/plain": [
       "                            mobile_name mobile_price mobile_color  dual_sim  \\\n",
       "0    Realme Narzo 10A (So White, 32 GB)       ₹8,999     So White  Dual Sim   \n",
       "1     Realme Narzo 10A (So Blue, 32 GB)       ₹8,999      So Blue  Dual Sim   \n",
       "2     Realme Narzo 10A (So Blue, 64 GB)       ₹9,999      So Blue  Dual Sim   \n",
       "3    Realme Narzo 10A (So White, 64 GB)       ₹9,999     So White  Dual Sim   \n",
       "4  Realme Narzo 10 (That Green, 128 GB)      ₹11,999   That Green  Dual Sim   \n",
       "\n",
       "              disp_size         resolution          os  num_cores mp_speed  \\\n",
       "0  16.56 cm (6.52 inch)  1600 x 720 Pixels  Android 10  Octa Core    2 GHz   \n",
       "1  16.56 cm (6.52 inch)  1600 x 720 Pixels  Android 10  Octa Core    2 GHz   \n",
       "2  16.56 cm (6.52 inch)  1600 x 720 Pixels  Android 10  Octa Core    2 GHz   \n",
       "3  16.56 cm (6.52 inch)  1600 x 720 Pixels  Android 10  Octa Core    2 GHz   \n",
       "4   16.51 cm (6.5 inch)  1600 x 720 Pixels  Android 10  Octa Core    2 GHz   \n",
       "\n",
       "  int_memory   ram                   p_cam              f_cam  \\\n",
       "0      32 GB  3 GB        12MP + 2MP + 2MP   5MP Front Camera   \n",
       "1      32 GB  3 GB        12MP + 2MP + 2MP   5MP Front Camera   \n",
       "2      64 GB  4 GB        12MP + 2MP + 2MP   5MP Front Camera   \n",
       "3      64 GB  4 GB        12MP + 2MP + 2MP   5MP Front Camera   \n",
       "4     128 GB  4 GB  48MP + 8MP + 2MP + 2MP  16MP Front Camera   \n",
       "\n",
       "                network bluetooth battery_power mob_width mob_height  \\\n",
       "0  4G VOLTE, 4G, 3G, 2G       Yes      5000 mAh     75 mm   164.4 mm   \n",
       "1  4G VOLTE, 4G, 3G, 2G       Yes      5000 mAh     75 mm   164.4 mm   \n",
       "2  4G VOLTE, 4G, 3G, 2G       Yes      5000 mAh     75 mm   164.4 mm   \n",
       "3  4G VOLTE, 4G, 3G, 2G       Yes      5000 mAh     75 mm   164.4 mm   \n",
       "4  4G VOLTE, 4G, 3G, 2G       Yes      5000 mAh   75.4 mm   164.4 mm   \n",
       "\n",
       "  mob_depth mob_weight  \n",
       "0   8.95 mm      195 g  \n",
       "1   8.95 mm      195 g  \n",
       "2   8.95 mm      195 g  \n",
       "3   8.95 mm      195 g  \n",
       "4      9 mm      199 g  "
      ]
     },
     "execution_count": 13,
     "metadata": {},
     "output_type": "execute_result"
    }
   ],
   "source": [
    "df.head()"
   ]
  },
  {
   "cell_type": "code",
   "execution_count": 14,
   "id": "c6c646b6",
   "metadata": {},
   "outputs": [],
   "source": [
    "df['mp_speed'] = numericize(df,'mp_speed')\n",
    "df['mp_speed'].unique()\n",
    "status['mp_speed'] = 1"
   ]
  },
  {
   "cell_type": "code",
   "execution_count": 15,
   "id": "fb7d191c",
   "metadata": {},
   "outputs": [],
   "source": [
    "df['int_memory'] = numericize(df,'int_memory')\n",
    "df['int_memory'].unique()\n",
    "status['int_memory'] = 1"
   ]
  },
  {
   "cell_type": "code",
   "execution_count": 16,
   "id": "cb17ebc6",
   "metadata": {},
   "outputs": [],
   "source": [
    "df['ram'] = numericize(df,'ram')\n",
    "df['ram'].unique()\n",
    "status['ram'] = 1"
   ]
  },
  {
   "cell_type": "code",
   "execution_count": 17,
   "id": "e4fb9740",
   "metadata": {},
   "outputs": [],
   "source": [
    "df['battery_power'] = numericize(df,'battery_power')\n",
    "df['battery_power'].unique()\n",
    "status['battery_power'] = 1"
   ]
  },
  {
   "cell_type": "code",
   "execution_count": 18,
   "id": "e2073b71",
   "metadata": {},
   "outputs": [],
   "source": [
    "df['mob_width'] = numericize(df,'mob_width')\n",
    "df['mob_width'].unique()\n",
    "status['mob_width'] = 1"
   ]
  },
  {
   "cell_type": "code",
   "execution_count": 19,
   "id": "194a71fc",
   "metadata": {},
   "outputs": [],
   "source": [
    "df['mob_height'] = numericize(df,'mob_height')\n",
    "df['mob_height'].unique()\n",
    "status['mob_height'] = 1"
   ]
  },
  {
   "cell_type": "code",
   "execution_count": 20,
   "id": "37dfef31",
   "metadata": {},
   "outputs": [],
   "source": [
    "df['mob_depth'] = numericize(df,'mob_depth')\n",
    "df['mob_depth'].unique()\n",
    "status['mob_depth'] = 1"
   ]
  },
  {
   "cell_type": "code",
   "execution_count": 21,
   "id": "091037a3",
   "metadata": {},
   "outputs": [],
   "source": [
    "df['mob_weight'] = numericize(df,'mob_weight')\n",
    "df['mob_weight'].unique()\n",
    "status['mob_weight'] = 1"
   ]
  },
  {
   "cell_type": "code",
   "execution_count": 22,
   "id": "a43a6c0f",
   "metadata": {},
   "outputs": [
    {
     "data": {
      "text/html": [
       "<div>\n",
       "<style scoped>\n",
       "    .dataframe tbody tr th:only-of-type {\n",
       "        vertical-align: middle;\n",
       "    }\n",
       "\n",
       "    .dataframe tbody tr th {\n",
       "        vertical-align: top;\n",
       "    }\n",
       "\n",
       "    .dataframe thead th {\n",
       "        text-align: right;\n",
       "    }\n",
       "</style>\n",
       "<table border=\"1\" class=\"dataframe\">\n",
       "  <thead>\n",
       "    <tr style=\"text-align: right;\">\n",
       "      <th></th>\n",
       "      <th>mp_speed</th>\n",
       "      <th>int_memory</th>\n",
       "      <th>ram</th>\n",
       "      <th>battery_power</th>\n",
       "      <th>mob_width</th>\n",
       "      <th>mob_height</th>\n",
       "      <th>mob_depth</th>\n",
       "      <th>mob_weight</th>\n",
       "    </tr>\n",
       "  </thead>\n",
       "  <tbody>\n",
       "    <tr>\n",
       "      <th>0</th>\n",
       "      <td>2.0</td>\n",
       "      <td>32</td>\n",
       "      <td>3</td>\n",
       "      <td>5000</td>\n",
       "      <td>75.0</td>\n",
       "      <td>164.4</td>\n",
       "      <td>8.95</td>\n",
       "      <td>195.0</td>\n",
       "    </tr>\n",
       "    <tr>\n",
       "      <th>1</th>\n",
       "      <td>2.0</td>\n",
       "      <td>32</td>\n",
       "      <td>3</td>\n",
       "      <td>5000</td>\n",
       "      <td>75.0</td>\n",
       "      <td>164.4</td>\n",
       "      <td>8.95</td>\n",
       "      <td>195.0</td>\n",
       "    </tr>\n",
       "    <tr>\n",
       "      <th>2</th>\n",
       "      <td>2.0</td>\n",
       "      <td>64</td>\n",
       "      <td>4</td>\n",
       "      <td>5000</td>\n",
       "      <td>75.0</td>\n",
       "      <td>164.4</td>\n",
       "      <td>8.95</td>\n",
       "      <td>195.0</td>\n",
       "    </tr>\n",
       "    <tr>\n",
       "      <th>3</th>\n",
       "      <td>2.0</td>\n",
       "      <td>64</td>\n",
       "      <td>4</td>\n",
       "      <td>5000</td>\n",
       "      <td>75.0</td>\n",
       "      <td>164.4</td>\n",
       "      <td>8.95</td>\n",
       "      <td>195.0</td>\n",
       "    </tr>\n",
       "    <tr>\n",
       "      <th>4</th>\n",
       "      <td>2.0</td>\n",
       "      <td>128</td>\n",
       "      <td>4</td>\n",
       "      <td>5000</td>\n",
       "      <td>75.4</td>\n",
       "      <td>164.4</td>\n",
       "      <td>9.00</td>\n",
       "      <td>199.0</td>\n",
       "    </tr>\n",
       "    <tr>\n",
       "      <th>...</th>\n",
       "      <td>...</td>\n",
       "      <td>...</td>\n",
       "      <td>...</td>\n",
       "      <td>...</td>\n",
       "      <td>...</td>\n",
       "      <td>...</td>\n",
       "      <td>...</td>\n",
       "      <td>...</td>\n",
       "    </tr>\n",
       "    <tr>\n",
       "      <th>454</th>\n",
       "      <td>2.5</td>\n",
       "      <td>32</td>\n",
       "      <td>3</td>\n",
       "      <td>3180</td>\n",
       "      <td>73.1</td>\n",
       "      <td>150.5</td>\n",
       "      <td>7.70</td>\n",
       "      <td>143.0</td>\n",
       "    </tr>\n",
       "    <tr>\n",
       "      <th>455</th>\n",
       "      <td>2.5</td>\n",
       "      <td>16</td>\n",
       "      <td>2</td>\n",
       "      <td>3180</td>\n",
       "      <td>73.1</td>\n",
       "      <td>150.5</td>\n",
       "      <td>7.70</td>\n",
       "      <td>143.0</td>\n",
       "    </tr>\n",
       "    <tr>\n",
       "      <th>456</th>\n",
       "      <td>2.0</td>\n",
       "      <td>64</td>\n",
       "      <td>4</td>\n",
       "      <td>3400</td>\n",
       "      <td>75.3</td>\n",
       "      <td>156.0</td>\n",
       "      <td>7.80</td>\n",
       "      <td>158.0</td>\n",
       "    </tr>\n",
       "    <tr>\n",
       "      <th>457</th>\n",
       "      <td>2.1</td>\n",
       "      <td>128</td>\n",
       "      <td>4</td>\n",
       "      <td>4020</td>\n",
       "      <td>76.1</td>\n",
       "      <td>162.0</td>\n",
       "      <td>8.30</td>\n",
       "      <td>188.0</td>\n",
       "    </tr>\n",
       "    <tr>\n",
       "      <th>458</th>\n",
       "      <td>2.1</td>\n",
       "      <td>128</td>\n",
       "      <td>4</td>\n",
       "      <td>4020</td>\n",
       "      <td>76.1</td>\n",
       "      <td>162.0</td>\n",
       "      <td>8.30</td>\n",
       "      <td>188.0</td>\n",
       "    </tr>\n",
       "  </tbody>\n",
       "</table>\n",
       "<p>459 rows × 8 columns</p>\n",
       "</div>"
      ],
      "text/plain": [
       "     mp_speed  int_memory  ram  battery_power  mob_width  mob_height  \\\n",
       "0         2.0          32    3           5000       75.0       164.4   \n",
       "1         2.0          32    3           5000       75.0       164.4   \n",
       "2         2.0          64    4           5000       75.0       164.4   \n",
       "3         2.0          64    4           5000       75.0       164.4   \n",
       "4         2.0         128    4           5000       75.4       164.4   \n",
       "..        ...         ...  ...            ...        ...         ...   \n",
       "454       2.5          32    3           3180       73.1       150.5   \n",
       "455       2.5          16    2           3180       73.1       150.5   \n",
       "456       2.0          64    4           3400       75.3       156.0   \n",
       "457       2.1         128    4           4020       76.1       162.0   \n",
       "458       2.1         128    4           4020       76.1       162.0   \n",
       "\n",
       "     mob_depth  mob_weight  \n",
       "0         8.95       195.0  \n",
       "1         8.95       195.0  \n",
       "2         8.95       195.0  \n",
       "3         8.95       195.0  \n",
       "4         9.00       199.0  \n",
       "..         ...         ...  \n",
       "454       7.70       143.0  \n",
       "455       7.70       143.0  \n",
       "456       7.80       158.0  \n",
       "457       8.30       188.0  \n",
       "458       8.30       188.0  \n",
       "\n",
       "[459 rows x 8 columns]"
      ]
     },
     "execution_count": 22,
     "metadata": {},
     "output_type": "execute_result"
    }
   ],
   "source": [
    "# Checking again how many numeric columns are present for easily doing a relationship analysis\n",
    "\n",
    "df._get_numeric_data()"
   ]
  },
  {
   "cell_type": "code",
   "execution_count": 23,
   "id": "52f406ff",
   "metadata": {},
   "outputs": [
    {
     "data": {
      "text/html": [
       "<div>\n",
       "<style scoped>\n",
       "    .dataframe tbody tr th:only-of-type {\n",
       "        vertical-align: middle;\n",
       "    }\n",
       "\n",
       "    .dataframe tbody tr th {\n",
       "        vertical-align: top;\n",
       "    }\n",
       "\n",
       "    .dataframe thead th {\n",
       "        text-align: right;\n",
       "    }\n",
       "</style>\n",
       "<table border=\"1\" class=\"dataframe\">\n",
       "  <thead>\n",
       "    <tr style=\"text-align: right;\">\n",
       "      <th></th>\n",
       "      <th>mobile_name</th>\n",
       "      <th>mobile_price</th>\n",
       "      <th>mobile_color</th>\n",
       "      <th>dual_sim</th>\n",
       "      <th>disp_size</th>\n",
       "      <th>resolution</th>\n",
       "      <th>os</th>\n",
       "      <th>num_cores</th>\n",
       "      <th>mp_speed</th>\n",
       "      <th>int_memory</th>\n",
       "      <th>ram</th>\n",
       "      <th>p_cam</th>\n",
       "      <th>f_cam</th>\n",
       "      <th>network</th>\n",
       "      <th>bluetooth</th>\n",
       "      <th>battery_power</th>\n",
       "      <th>mob_width</th>\n",
       "      <th>mob_height</th>\n",
       "      <th>mob_depth</th>\n",
       "      <th>mob_weight</th>\n",
       "    </tr>\n",
       "  </thead>\n",
       "  <tbody>\n",
       "    <tr>\n",
       "      <th>0</th>\n",
       "      <td>Realme Narzo 10A (So White, 32 GB)</td>\n",
       "      <td>₹8,999</td>\n",
       "      <td>So White</td>\n",
       "      <td>Dual Sim</td>\n",
       "      <td>16.56 cm (6.52 inch)</td>\n",
       "      <td>1600 x 720 Pixels</td>\n",
       "      <td>Android 10</td>\n",
       "      <td>Octa Core</td>\n",
       "      <td>2.0</td>\n",
       "      <td>32</td>\n",
       "      <td>3</td>\n",
       "      <td>12MP + 2MP + 2MP</td>\n",
       "      <td>5MP Front Camera</td>\n",
       "      <td>4G VOLTE, 4G, 3G, 2G</td>\n",
       "      <td>Yes</td>\n",
       "      <td>5000</td>\n",
       "      <td>75.0</td>\n",
       "      <td>164.4</td>\n",
       "      <td>8.95</td>\n",
       "      <td>195.0</td>\n",
       "    </tr>\n",
       "    <tr>\n",
       "      <th>1</th>\n",
       "      <td>Realme Narzo 10A (So Blue, 32 GB)</td>\n",
       "      <td>₹8,999</td>\n",
       "      <td>So Blue</td>\n",
       "      <td>Dual Sim</td>\n",
       "      <td>16.56 cm (6.52 inch)</td>\n",
       "      <td>1600 x 720 Pixels</td>\n",
       "      <td>Android 10</td>\n",
       "      <td>Octa Core</td>\n",
       "      <td>2.0</td>\n",
       "      <td>32</td>\n",
       "      <td>3</td>\n",
       "      <td>12MP + 2MP + 2MP</td>\n",
       "      <td>5MP Front Camera</td>\n",
       "      <td>4G VOLTE, 4G, 3G, 2G</td>\n",
       "      <td>Yes</td>\n",
       "      <td>5000</td>\n",
       "      <td>75.0</td>\n",
       "      <td>164.4</td>\n",
       "      <td>8.95</td>\n",
       "      <td>195.0</td>\n",
       "    </tr>\n",
       "    <tr>\n",
       "      <th>2</th>\n",
       "      <td>Realme Narzo 10A (So Blue, 64 GB)</td>\n",
       "      <td>₹9,999</td>\n",
       "      <td>So Blue</td>\n",
       "      <td>Dual Sim</td>\n",
       "      <td>16.56 cm (6.52 inch)</td>\n",
       "      <td>1600 x 720 Pixels</td>\n",
       "      <td>Android 10</td>\n",
       "      <td>Octa Core</td>\n",
       "      <td>2.0</td>\n",
       "      <td>64</td>\n",
       "      <td>4</td>\n",
       "      <td>12MP + 2MP + 2MP</td>\n",
       "      <td>5MP Front Camera</td>\n",
       "      <td>4G VOLTE, 4G, 3G, 2G</td>\n",
       "      <td>Yes</td>\n",
       "      <td>5000</td>\n",
       "      <td>75.0</td>\n",
       "      <td>164.4</td>\n",
       "      <td>8.95</td>\n",
       "      <td>195.0</td>\n",
       "    </tr>\n",
       "    <tr>\n",
       "      <th>3</th>\n",
       "      <td>Realme Narzo 10A (So White, 64 GB)</td>\n",
       "      <td>₹9,999</td>\n",
       "      <td>So White</td>\n",
       "      <td>Dual Sim</td>\n",
       "      <td>16.56 cm (6.52 inch)</td>\n",
       "      <td>1600 x 720 Pixels</td>\n",
       "      <td>Android 10</td>\n",
       "      <td>Octa Core</td>\n",
       "      <td>2.0</td>\n",
       "      <td>64</td>\n",
       "      <td>4</td>\n",
       "      <td>12MP + 2MP + 2MP</td>\n",
       "      <td>5MP Front Camera</td>\n",
       "      <td>4G VOLTE, 4G, 3G, 2G</td>\n",
       "      <td>Yes</td>\n",
       "      <td>5000</td>\n",
       "      <td>75.0</td>\n",
       "      <td>164.4</td>\n",
       "      <td>8.95</td>\n",
       "      <td>195.0</td>\n",
       "    </tr>\n",
       "    <tr>\n",
       "      <th>4</th>\n",
       "      <td>Realme Narzo 10 (That Green, 128 GB)</td>\n",
       "      <td>₹11,999</td>\n",
       "      <td>That Green</td>\n",
       "      <td>Dual Sim</td>\n",
       "      <td>16.51 cm (6.5 inch)</td>\n",
       "      <td>1600 x 720 Pixels</td>\n",
       "      <td>Android 10</td>\n",
       "      <td>Octa Core</td>\n",
       "      <td>2.0</td>\n",
       "      <td>128</td>\n",
       "      <td>4</td>\n",
       "      <td>48MP + 8MP + 2MP + 2MP</td>\n",
       "      <td>16MP Front Camera</td>\n",
       "      <td>4G VOLTE, 4G, 3G, 2G</td>\n",
       "      <td>Yes</td>\n",
       "      <td>5000</td>\n",
       "      <td>75.4</td>\n",
       "      <td>164.4</td>\n",
       "      <td>9.00</td>\n",
       "      <td>199.0</td>\n",
       "    </tr>\n",
       "  </tbody>\n",
       "</table>\n",
       "</div>"
      ],
      "text/plain": [
       "                            mobile_name mobile_price mobile_color  dual_sim  \\\n",
       "0    Realme Narzo 10A (So White, 32 GB)       ₹8,999     So White  Dual Sim   \n",
       "1     Realme Narzo 10A (So Blue, 32 GB)       ₹8,999      So Blue  Dual Sim   \n",
       "2     Realme Narzo 10A (So Blue, 64 GB)       ₹9,999      So Blue  Dual Sim   \n",
       "3    Realme Narzo 10A (So White, 64 GB)       ₹9,999     So White  Dual Sim   \n",
       "4  Realme Narzo 10 (That Green, 128 GB)      ₹11,999   That Green  Dual Sim   \n",
       "\n",
       "              disp_size         resolution          os  num_cores  mp_speed  \\\n",
       "0  16.56 cm (6.52 inch)  1600 x 720 Pixels  Android 10  Octa Core       2.0   \n",
       "1  16.56 cm (6.52 inch)  1600 x 720 Pixels  Android 10  Octa Core       2.0   \n",
       "2  16.56 cm (6.52 inch)  1600 x 720 Pixels  Android 10  Octa Core       2.0   \n",
       "3  16.56 cm (6.52 inch)  1600 x 720 Pixels  Android 10  Octa Core       2.0   \n",
       "4   16.51 cm (6.5 inch)  1600 x 720 Pixels  Android 10  Octa Core       2.0   \n",
       "\n",
       "   int_memory  ram                   p_cam              f_cam  \\\n",
       "0          32    3        12MP + 2MP + 2MP   5MP Front Camera   \n",
       "1          32    3        12MP + 2MP + 2MP   5MP Front Camera   \n",
       "2          64    4        12MP + 2MP + 2MP   5MP Front Camera   \n",
       "3          64    4        12MP + 2MP + 2MP   5MP Front Camera   \n",
       "4         128    4  48MP + 8MP + 2MP + 2MP  16MP Front Camera   \n",
       "\n",
       "                network bluetooth  battery_power  mob_width  mob_height  \\\n",
       "0  4G VOLTE, 4G, 3G, 2G       Yes           5000       75.0       164.4   \n",
       "1  4G VOLTE, 4G, 3G, 2G       Yes           5000       75.0       164.4   \n",
       "2  4G VOLTE, 4G, 3G, 2G       Yes           5000       75.0       164.4   \n",
       "3  4G VOLTE, 4G, 3G, 2G       Yes           5000       75.0       164.4   \n",
       "4  4G VOLTE, 4G, 3G, 2G       Yes           5000       75.4       164.4   \n",
       "\n",
       "   mob_depth  mob_weight  \n",
       "0       8.95       195.0  \n",
       "1       8.95       195.0  \n",
       "2       8.95       195.0  \n",
       "3       8.95       195.0  \n",
       "4       9.00       199.0  "
      ]
     },
     "execution_count": 23,
     "metadata": {},
     "output_type": "execute_result"
    }
   ],
   "source": [
    "df.head()"
   ]
  },
  {
   "cell_type": "code",
   "execution_count": 24,
   "id": "b60c1088",
   "metadata": {},
   "outputs": [],
   "source": [
    "# Clean the mobile price column also so that we can compare it as a number with other columns\n",
    "\n",
    "def edit_numericize(df,col,strs_to_remove):\n",
    "    processed = df[col]\n",
    "    for string in strs_to_remove:\n",
    "        processed = processed.str.replace(string,'',regex=False)\n",
    "    return pd.to_numeric(processed)"
   ]
  },
  {
   "cell_type": "code",
   "execution_count": 25,
   "id": "0829ef80",
   "metadata": {},
   "outputs": [],
   "source": [
    "df['mobile_price'] = edit_numericize(df,'mobile_price',['₹',','])\n",
    "df['mobile_price'].unique()\n",
    "status['mobile_price'] = 1"
   ]
  },
  {
   "cell_type": "code",
   "execution_count": null,
   "id": "b3f82087",
   "metadata": {},
   "outputs": [],
   "source": [
    "# correlation map"
   ]
  },
  {
   "cell_type": "code",
   "execution_count": 26,
   "id": "4de46a5c",
   "metadata": {},
   "outputs": [
    {
     "data": {
      "text/plain": [
       "<AxesSubplot:>"
      ]
     },
     "execution_count": 26,
     "metadata": {},
     "output_type": "execute_result"
    },
    {
     "data": {
      "image/png": "[encoded data removed]",
      "text/plain": [
       "<Figure size 432x288 with 2 Axes>"
      ]
     },
     "metadata": {
      "needs_background": "light"
     },
     "output_type": "display_data"
    }
   ],
   "source": [
    "import seaborn as sns\n",
    "import numpy as np\n",
    "\n",
    "mask = np.zeros_like(df.corr())\n",
    "mask[np.triu_indices_from(mask)] = True\n",
    "\n",
    "sns.heatmap(df.corr(),mask=mask, annot=True)"
   ]
  },
  {
   "cell_type": "markdown",
   "id": "29c657cb",
   "metadata": {},
   "source": [
    "View it as a sorted list of factors with increasing order of correlation"
   ]
  },
  {
   "cell_type": "code",
   "execution_count": 27,
   "id": "16167e7b",
   "metadata": {},
   "outputs": [],
   "source": [
    "def plot_correlation_with_col(df, col):\n",
    "    sorted_corr = df.corr().sort_values(col)[col][:-1]\n",
    "    sorted_corr.plot(kind='bar',figsize = (10,5))"
   ]
  },
  {
   "cell_type": "code",
   "execution_count": 28,
   "id": "91aae1ed",
   "metadata": {},
   "outputs": [
    {
     "data": {
      "image/png": "[encoded data removed]",
      "text/plain": [
       "<Figure size 720x360 with 1 Axes>"
      ]
     },
     "metadata": {
      "needs_background": "light"
     },
     "output_type": "display_data"
    }
   ],
   "source": [
    "plot_correlation_with_col(df,'mobile_price')"
   ]
  },
  {
   "cell_type": "markdown",
   "id": "78a3088b",
   "metadata": {},
   "source": [
    "Ram, internal memory, mp speed, mob weight seem to be related to some extend in the same order"
   ]
  },
  {
   "cell_type": "code",
   "execution_count": 29,
   "id": "ec4a4b0f",
   "metadata": {},
   "outputs": [
    {
     "data": {
      "text/html": [
       "<div>\n",
       "<style scoped>\n",
       "    .dataframe tbody tr th:only-of-type {\n",
       "        vertical-align: middle;\n",
       "    }\n",
       "\n",
       "    .dataframe tbody tr th {\n",
       "        vertical-align: top;\n",
       "    }\n",
       "\n",
       "    .dataframe thead th {\n",
       "        text-align: right;\n",
       "    }\n",
       "</style>\n",
       "<table border=\"1\" class=\"dataframe\">\n",
       "  <thead>\n",
       "    <tr style=\"text-align: right;\">\n",
       "      <th></th>\n",
       "      <th>mobile_name</th>\n",
       "      <th>mobile_price</th>\n",
       "      <th>mobile_color</th>\n",
       "      <th>dual_sim</th>\n",
       "      <th>disp_size</th>\n",
       "      <th>resolution</th>\n",
       "      <th>os</th>\n",
       "      <th>num_cores</th>\n",
       "      <th>mp_speed</th>\n",
       "      <th>int_memory</th>\n",
       "      <th>ram</th>\n",
       "      <th>p_cam</th>\n",
       "      <th>f_cam</th>\n",
       "      <th>network</th>\n",
       "      <th>bluetooth</th>\n",
       "      <th>battery_power</th>\n",
       "      <th>mob_width</th>\n",
       "      <th>mob_height</th>\n",
       "      <th>mob_depth</th>\n",
       "      <th>mob_weight</th>\n",
       "    </tr>\n",
       "  </thead>\n",
       "  <tbody>\n",
       "    <tr>\n",
       "      <th>0</th>\n",
       "      <td>Realme Narzo 10A (So White, 32 GB)</td>\n",
       "      <td>8999</td>\n",
       "      <td>So White</td>\n",
       "      <td>Dual Sim</td>\n",
       "      <td>16.56 cm (6.52 inch)</td>\n",
       "      <td>1600 x 720 Pixels</td>\n",
       "      <td>Android 10</td>\n",
       "      <td>Octa Core</td>\n",
       "      <td>2.0</td>\n",
       "      <td>32</td>\n",
       "      <td>3</td>\n",
       "      <td>12MP + 2MP + 2MP</td>\n",
       "      <td>5MP Front Camera</td>\n",
       "      <td>4G VOLTE, 4G, 3G, 2G</td>\n",
       "      <td>Yes</td>\n",
       "      <td>5000</td>\n",
       "      <td>75.0</td>\n",
       "      <td>164.4</td>\n",
       "      <td>8.95</td>\n",
       "      <td>195.0</td>\n",
       "    </tr>\n",
       "    <tr>\n",
       "      <th>1</th>\n",
       "      <td>Realme Narzo 10A (So Blue, 32 GB)</td>\n",
       "      <td>8999</td>\n",
       "      <td>So Blue</td>\n",
       "      <td>Dual Sim</td>\n",
       "      <td>16.56 cm (6.52 inch)</td>\n",
       "      <td>1600 x 720 Pixels</td>\n",
       "      <td>Android 10</td>\n",
       "      <td>Octa Core</td>\n",
       "      <td>2.0</td>\n",
       "      <td>32</td>\n",
       "      <td>3</td>\n",
       "      <td>12MP + 2MP + 2MP</td>\n",
       "      <td>5MP Front Camera</td>\n",
       "      <td>4G VOLTE, 4G, 3G, 2G</td>\n",
       "      <td>Yes</td>\n",
       "      <td>5000</td>\n",
       "      <td>75.0</td>\n",
       "      <td>164.4</td>\n",
       "      <td>8.95</td>\n",
       "      <td>195.0</td>\n",
       "    </tr>\n",
       "    <tr>\n",
       "      <th>2</th>\n",
       "      <td>Realme Narzo 10A (So Blue, 64 GB)</td>\n",
       "      <td>9999</td>\n",
       "      <td>So Blue</td>\n",
       "      <td>Dual Sim</td>\n",
       "      <td>16.56 cm (6.52 inch)</td>\n",
       "      <td>1600 x 720 Pixels</td>\n",
       "      <td>Android 10</td>\n",
       "      <td>Octa Core</td>\n",
       "      <td>2.0</td>\n",
       "      <td>64</td>\n",
       "      <td>4</td>\n",
       "      <td>12MP + 2MP + 2MP</td>\n",
       "      <td>5MP Front Camera</td>\n",
       "      <td>4G VOLTE, 4G, 3G, 2G</td>\n",
       "      <td>Yes</td>\n",
       "      <td>5000</td>\n",
       "      <td>75.0</td>\n",
       "      <td>164.4</td>\n",
       "      <td>8.95</td>\n",
       "      <td>195.0</td>\n",
       "    </tr>\n",
       "    <tr>\n",
       "      <th>3</th>\n",
       "      <td>Realme Narzo 10A (So White, 64 GB)</td>\n",
       "      <td>9999</td>\n",
       "      <td>So White</td>\n",
       "      <td>Dual Sim</td>\n",
       "      <td>16.56 cm (6.52 inch)</td>\n",
       "      <td>1600 x 720 Pixels</td>\n",
       "      <td>Android 10</td>\n",
       "      <td>Octa Core</td>\n",
       "      <td>2.0</td>\n",
       "      <td>64</td>\n",
       "      <td>4</td>\n",
       "      <td>12MP + 2MP + 2MP</td>\n",
       "      <td>5MP Front Camera</td>\n",
       "      <td>4G VOLTE, 4G, 3G, 2G</td>\n",
       "      <td>Yes</td>\n",
       "      <td>5000</td>\n",
       "      <td>75.0</td>\n",
       "      <td>164.4</td>\n",
       "      <td>8.95</td>\n",
       "      <td>195.0</td>\n",
       "    </tr>\n",
       "    <tr>\n",
       "      <th>4</th>\n",
       "      <td>Realme Narzo 10 (That Green, 128 GB)</td>\n",
       "      <td>11999</td>\n",
       "      <td>That Green</td>\n",
       "      <td>Dual Sim</td>\n",
       "      <td>16.51 cm (6.5 inch)</td>\n",
       "      <td>1600 x 720 Pixels</td>\n",
       "      <td>Android 10</td>\n",
       "      <td>Octa Core</td>\n",
       "      <td>2.0</td>\n",
       "      <td>128</td>\n",
       "      <td>4</td>\n",
       "      <td>48MP + 8MP + 2MP + 2MP</td>\n",
       "      <td>16MP Front Camera</td>\n",
       "      <td>4G VOLTE, 4G, 3G, 2G</td>\n",
       "      <td>Yes</td>\n",
       "      <td>5000</td>\n",
       "      <td>75.4</td>\n",
       "      <td>164.4</td>\n",
       "      <td>9.00</td>\n",
       "      <td>199.0</td>\n",
       "    </tr>\n",
       "  </tbody>\n",
       "</table>\n",
       "</div>"
      ],
      "text/plain": [
       "                            mobile_name  mobile_price mobile_color  dual_sim  \\\n",
       "0    Realme Narzo 10A (So White, 32 GB)          8999     So White  Dual Sim   \n",
       "1     Realme Narzo 10A (So Blue, 32 GB)          8999      So Blue  Dual Sim   \n",
       "2     Realme Narzo 10A (So Blue, 64 GB)          9999      So Blue  Dual Sim   \n",
       "3    Realme Narzo 10A (So White, 64 GB)          9999     So White  Dual Sim   \n",
       "4  Realme Narzo 10 (That Green, 128 GB)         11999   That Green  Dual Sim   \n",
       "\n",
       "              disp_size         resolution          os  num_cores  mp_speed  \\\n",
       "0  16.56 cm (6.52 inch)  1600 x 720 Pixels  Android 10  Octa Core       2.0   \n",
       "1  16.56 cm (6.52 inch)  1600 x 720 Pixels  Android 10  Octa Core       2.0   \n",
       "2  16.56 cm (6.52 inch)  1600 x 720 Pixels  Android 10  Octa Core       2.0   \n",
       "3  16.56 cm (6.52 inch)  1600 x 720 Pixels  Android 10  Octa Core       2.0   \n",
       "4   16.51 cm (6.5 inch)  1600 x 720 Pixels  Android 10  Octa Core       2.0   \n",
       "\n",
       "   int_memory  ram                   p_cam              f_cam  \\\n",
       "0          32    3        12MP + 2MP + 2MP   5MP Front Camera   \n",
       "1          32    3        12MP + 2MP + 2MP   5MP Front Camera   \n",
       "2          64    4        12MP + 2MP + 2MP   5MP Front Camera   \n",
       "3          64    4        12MP + 2MP + 2MP   5MP Front Camera   \n",
       "4         128    4  48MP + 8MP + 2MP + 2MP  16MP Front Camera   \n",
       "\n",
       "                network bluetooth  battery_power  mob_width  mob_height  \\\n",
       "0  4G VOLTE, 4G, 3G, 2G       Yes           5000       75.0       164.4   \n",
       "1  4G VOLTE, 4G, 3G, 2G       Yes           5000       75.0       164.4   \n",
       "2  4G VOLTE, 4G, 3G, 2G       Yes           5000       75.0       164.4   \n",
       "3  4G VOLTE, 4G, 3G, 2G       Yes           5000       75.0       164.4   \n",
       "4  4G VOLTE, 4G, 3G, 2G       Yes           5000       75.4       164.4   \n",
       "\n",
       "   mob_depth  mob_weight  \n",
       "0       8.95       195.0  \n",
       "1       8.95       195.0  \n",
       "2       8.95       195.0  \n",
       "3       8.95       195.0  \n",
       "4       9.00       199.0  "
      ]
     },
     "execution_count": 29,
     "metadata": {},
     "output_type": "execute_result"
    }
   ],
   "source": [
    "df.head()"
   ]
  },
  {
   "cell_type": "markdown",
   "id": "2d3986e8",
   "metadata": {},
   "source": [
    "disp_size seems to have both cm and inch info. Choose one among them and numericize it"
   ]
  },
  {
   "cell_type": "code",
   "execution_count": 30,
   "id": "77b8b822",
   "metadata": {},
   "outputs": [],
   "source": [
    "def replace_regex_numericize(df,col,chars_to_remove):\n",
    "    processed = df[col]\n",
    "    for char in chars_to_remove:\n",
    "        processed = processed.str.replace(char,'',regex=True)\n",
    "    return pd.to_numeric(processed)"
   ]
  },
  {
   "cell_type": "code",
   "execution_count": 31,
   "id": "262a151c",
   "metadata": {},
   "outputs": [],
   "source": [
    "# edit_numericize\n",
    "df['disp_size'] = replace_regex_numericize(df,'disp_size',[' cm .*'])\n",
    "df['disp_size'].unique()\n",
    "status['disp_size'] = 1"
   ]
  },
  {
   "cell_type": "code",
   "execution_count": 32,
   "id": "ebdea0cd",
   "metadata": {},
   "outputs": [
    {
     "data": {
      "image/png": "[encoded data removed]",
      "text/plain": [
       "<Figure size 720x360 with 1 Axes>"
      ]
     },
     "metadata": {
      "needs_background": "light"
     },
     "output_type": "display_data"
    }
   ],
   "source": [
    "plot_correlation_with_col(df,'mobile_price')"
   ]
  },
  {
   "cell_type": "code",
   "execution_count": 33,
   "id": "4ff26f34",
   "metadata": {},
   "outputs": [
    {
     "data": {
      "text/html": [
       "<div>\n",
       "<style scoped>\n",
       "    .dataframe tbody tr th:only-of-type {\n",
       "        vertical-align: middle;\n",
       "    }\n",
       "\n",
       "    .dataframe tbody tr th {\n",
       "        vertical-align: top;\n",
       "    }\n",
       "\n",
       "    .dataframe thead th {\n",
       "        text-align: right;\n",
       "    }\n",
       "</style>\n",
       "<table border=\"1\" class=\"dataframe\">\n",
       "  <thead>\n",
       "    <tr style=\"text-align: right;\">\n",
       "      <th></th>\n",
       "      <th>mobile_name</th>\n",
       "      <th>mobile_price</th>\n",
       "      <th>mobile_color</th>\n",
       "      <th>dual_sim</th>\n",
       "      <th>disp_size</th>\n",
       "      <th>resolution</th>\n",
       "      <th>os</th>\n",
       "      <th>num_cores</th>\n",
       "      <th>mp_speed</th>\n",
       "      <th>int_memory</th>\n",
       "      <th>ram</th>\n",
       "      <th>p_cam</th>\n",
       "      <th>f_cam</th>\n",
       "      <th>network</th>\n",
       "      <th>bluetooth</th>\n",
       "      <th>battery_power</th>\n",
       "      <th>mob_width</th>\n",
       "      <th>mob_height</th>\n",
       "      <th>mob_depth</th>\n",
       "      <th>mob_weight</th>\n",
       "    </tr>\n",
       "  </thead>\n",
       "  <tbody>\n",
       "    <tr>\n",
       "      <th>0</th>\n",
       "      <td>Realme Narzo 10A (So White, 32 GB)</td>\n",
       "      <td>8999</td>\n",
       "      <td>So White</td>\n",
       "      <td>Dual Sim</td>\n",
       "      <td>16.56</td>\n",
       "      <td>1600 x 720 Pixels</td>\n",
       "      <td>Android 10</td>\n",
       "      <td>Octa Core</td>\n",
       "      <td>2.0</td>\n",
       "      <td>32</td>\n",
       "      <td>3</td>\n",
       "      <td>12MP + 2MP + 2MP</td>\n",
       "      <td>5MP Front Camera</td>\n",
       "      <td>4G VOLTE, 4G, 3G, 2G</td>\n",
       "      <td>Yes</td>\n",
       "      <td>5000</td>\n",
       "      <td>75.0</td>\n",
       "      <td>164.4</td>\n",
       "      <td>8.95</td>\n",
       "      <td>195.0</td>\n",
       "    </tr>\n",
       "    <tr>\n",
       "      <th>1</th>\n",
       "      <td>Realme Narzo 10A (So Blue, 32 GB)</td>\n",
       "      <td>8999</td>\n",
       "      <td>So Blue</td>\n",
       "      <td>Dual Sim</td>\n",
       "      <td>16.56</td>\n",
       "      <td>1600 x 720 Pixels</td>\n",
       "      <td>Android 10</td>\n",
       "      <td>Octa Core</td>\n",
       "      <td>2.0</td>\n",
       "      <td>32</td>\n",
       "      <td>3</td>\n",
       "      <td>12MP + 2MP + 2MP</td>\n",
       "      <td>5MP Front Camera</td>\n",
       "      <td>4G VOLTE, 4G, 3G, 2G</td>\n",
       "      <td>Yes</td>\n",
       "      <td>5000</td>\n",
       "      <td>75.0</td>\n",
       "      <td>164.4</td>\n",
       "      <td>8.95</td>\n",
       "      <td>195.0</td>\n",
       "    </tr>\n",
       "    <tr>\n",
       "      <th>2</th>\n",
       "      <td>Realme Narzo 10A (So Blue, 64 GB)</td>\n",
       "      <td>9999</td>\n",
       "      <td>So Blue</td>\n",
       "      <td>Dual Sim</td>\n",
       "      <td>16.56</td>\n",
       "      <td>1600 x 720 Pixels</td>\n",
       "      <td>Android 10</td>\n",
       "      <td>Octa Core</td>\n",
       "      <td>2.0</td>\n",
       "      <td>64</td>\n",
       "      <td>4</td>\n",
       "      <td>12MP + 2MP + 2MP</td>\n",
       "      <td>5MP Front Camera</td>\n",
       "      <td>4G VOLTE, 4G, 3G, 2G</td>\n",
       "      <td>Yes</td>\n",
       "      <td>5000</td>\n",
       "      <td>75.0</td>\n",
       "      <td>164.4</td>\n",
       "      <td>8.95</td>\n",
       "      <td>195.0</td>\n",
       "    </tr>\n",
       "    <tr>\n",
       "      <th>3</th>\n",
       "      <td>Realme Narzo 10A (So White, 64 GB)</td>\n",
       "      <td>9999</td>\n",
       "      <td>So White</td>\n",
       "      <td>Dual Sim</td>\n",
       "      <td>16.56</td>\n",
       "      <td>1600 x 720 Pixels</td>\n",
       "      <td>Android 10</td>\n",
       "      <td>Octa Core</td>\n",
       "      <td>2.0</td>\n",
       "      <td>64</td>\n",
       "      <td>4</td>\n",
       "      <td>12MP + 2MP + 2MP</td>\n",
       "      <td>5MP Front Camera</td>\n",
       "      <td>4G VOLTE, 4G, 3G, 2G</td>\n",
       "      <td>Yes</td>\n",
       "      <td>5000</td>\n",
       "      <td>75.0</td>\n",
       "      <td>164.4</td>\n",
       "      <td>8.95</td>\n",
       "      <td>195.0</td>\n",
       "    </tr>\n",
       "    <tr>\n",
       "      <th>4</th>\n",
       "      <td>Realme Narzo 10 (That Green, 128 GB)</td>\n",
       "      <td>11999</td>\n",
       "      <td>That Green</td>\n",
       "      <td>Dual Sim</td>\n",
       "      <td>16.51</td>\n",
       "      <td>1600 x 720 Pixels</td>\n",
       "      <td>Android 10</td>\n",
       "      <td>Octa Core</td>\n",
       "      <td>2.0</td>\n",
       "      <td>128</td>\n",
       "      <td>4</td>\n",
       "      <td>48MP + 8MP + 2MP + 2MP</td>\n",
       "      <td>16MP Front Camera</td>\n",
       "      <td>4G VOLTE, 4G, 3G, 2G</td>\n",
       "      <td>Yes</td>\n",
       "      <td>5000</td>\n",
       "      <td>75.4</td>\n",
       "      <td>164.4</td>\n",
       "      <td>9.00</td>\n",
       "      <td>199.0</td>\n",
       "    </tr>\n",
       "  </tbody>\n",
       "</table>\n",
       "</div>"
      ],
      "text/plain": [
       "                            mobile_name  mobile_price mobile_color  dual_sim  \\\n",
       "0    Realme Narzo 10A (So White, 32 GB)          8999     So White  Dual Sim   \n",
       "1     Realme Narzo 10A (So Blue, 32 GB)          8999      So Blue  Dual Sim   \n",
       "2     Realme Narzo 10A (So Blue, 64 GB)          9999      So Blue  Dual Sim   \n",
       "3    Realme Narzo 10A (So White, 64 GB)          9999     So White  Dual Sim   \n",
       "4  Realme Narzo 10 (That Green, 128 GB)         11999   That Green  Dual Sim   \n",
       "\n",
       "   disp_size         resolution          os  num_cores  mp_speed  int_memory  \\\n",
       "0      16.56  1600 x 720 Pixels  Android 10  Octa Core       2.0          32   \n",
       "1      16.56  1600 x 720 Pixels  Android 10  Octa Core       2.0          32   \n",
       "2      16.56  1600 x 720 Pixels  Android 10  Octa Core       2.0          64   \n",
       "3      16.56  1600 x 720 Pixels  Android 10  Octa Core       2.0          64   \n",
       "4      16.51  1600 x 720 Pixels  Android 10  Octa Core       2.0         128   \n",
       "\n",
       "   ram                   p_cam              f_cam               network  \\\n",
       "0    3        12MP + 2MP + 2MP   5MP Front Camera  4G VOLTE, 4G, 3G, 2G   \n",
       "1    3        12MP + 2MP + 2MP   5MP Front Camera  4G VOLTE, 4G, 3G, 2G   \n",
       "2    4        12MP + 2MP + 2MP   5MP Front Camera  4G VOLTE, 4G, 3G, 2G   \n",
       "3    4        12MP + 2MP + 2MP   5MP Front Camera  4G VOLTE, 4G, 3G, 2G   \n",
       "4    4  48MP + 8MP + 2MP + 2MP  16MP Front Camera  4G VOLTE, 4G, 3G, 2G   \n",
       "\n",
       "  bluetooth  battery_power  mob_width  mob_height  mob_depth  mob_weight  \n",
       "0       Yes           5000       75.0       164.4       8.95       195.0  \n",
       "1       Yes           5000       75.0       164.4       8.95       195.0  \n",
       "2       Yes           5000       75.0       164.4       8.95       195.0  \n",
       "3       Yes           5000       75.0       164.4       8.95       195.0  \n",
       "4       Yes           5000       75.4       164.4       9.00       199.0  "
      ]
     },
     "execution_count": 33,
     "metadata": {},
     "output_type": "execute_result"
    }
   ],
   "source": [
    "df.head()"
   ]
  },
  {
   "cell_type": "code",
   "execution_count": 34,
   "id": "73f0032d",
   "metadata": {},
   "outputs": [],
   "source": [
    "def replace_regex(df,col,chars_to_remove):\n",
    "    processed = df[col]\n",
    "    for char in chars_to_remove:\n",
    "        processed = processed.str.replace(char,'',regex=True)\n",
    "    return processed"
   ]
  },
  {
   "cell_type": "code",
   "execution_count": 35,
   "id": "206e18fe",
   "metadata": {},
   "outputs": [
    {
     "data": {
      "text/plain": [
       "array(['Realme Narzo 10A', 'Realme Narzo 10', 'Realme 5 Pro',\n",
       "       'Realme X2 Pro', 'Realme 2 Pro', 'Realme XT', 'Realme X50 Pro',\n",
       "       'Realme C3', 'Realme 6', 'Realme 6 Pro', 'Realme C2', 'Realme 5s',\n",
       "       'Realme X2', 'Realme X3', 'Realme X3 SuperZoom', 'Realme 3',\n",
       "       'Redmi 8', 'Redmi K20 Pro', 'Redmi Note 9 Pro', 'Mi A3',\n",
       "       'Redmi Note 7 Pro', 'Mi Mix 2', 'Redmi K20', 'Redmi Y2',\n",
       "       'Redmi Note 6 Pro', 'Mi A2', 'Mi 10', 'Redmi Note 5 Pro', 'MI3',\n",
       "       'Redmi 8A Dual', 'Redmi Note 8', 'Redmi Note 4',\n",
       "       'Redmi Note 9 Pro Max', 'Redmi 8A', 'Redmi Go', 'Redmi Note 7S',\n",
       "       'Redmi 7A', 'Redmi Note 7', 'Redmi 6', 'Redmi Y3', 'Redmi Y1',\n",
       "       'Vivo Y12', 'Vivo U10', 'Vivo Y11', 'Vivo Z1x', 'Vivo Y15',\n",
       "       'Vivo S1 Pro', 'Vivo Y91i', 'Vivo Y50', 'Vivo Z1Pro', 'Vivo Y19',\n",
       "       'Vivo V19', 'Vivo V17', 'Vivo S1', 'Vivo V15 Pro', 'Vivo Y17',\n",
       "       'Vivo V17Pro', 'Vivo V11 Pro', 'Vivo NEX', 'Vivo Y81',\n",
       "       'Vivo V9 Youth', 'Vivo V15', 'Vivo Y93', 'Vivo Y91', 'Vivo V7',\n",
       "       'Vivo Y83', 'Vivo V9', 'Vivo Y71i', 'Vivo V9 Pro', 'Vivo Y71',\n",
       "       'Vivo V7+', 'Vivo Y55S', 'Vivo Y81i', 'Vivo Y69',\n",
       "       'Samsung Galaxy M30S', 'Samsung Galaxy A21s', 'Samsung Galaxy M21',\n",
       "       'Samsung Galaxy J2 Core', 'Samsung Galaxy M31',\n",
       "       'Samsung Galaxy S10 Lite', 'Samsung Galaxy J2-2017',\n",
       "       'Samsung Galaxy J7 Pro', 'Samsung Galaxy J7 Nxt',\n",
       "       'Infinix Hot 9 Pro', 'Infinix Hot 9', 'Infinix Note 5 Stylus',\n",
       "       'Infinix S5 Pro', 'Infinix Hot S3X', 'Infinix Note 5',\n",
       "       'Infinix Hot 7', 'Infinix Hot S3', 'Infinix S5 Lite',\n",
       "       'Infinix Zero 5 Pro', 'Infinix S4', 'Infinix S5', 'Infinix Zero 5',\n",
       "       'POCO F1', 'POCO X2', 'POCO X2 Special Edition', 'POCO M2 Pro',\n",
       "       'OPPO A31', 'OPPO A9 2020', 'OPPO A12', 'OPPO A5s', 'OPPO F15',\n",
       "       'OPPO A52', 'OPPO A11K', 'OPPO Reno3 Pro', 'OPPO F11 Pro',\n",
       "       'OPPO Reno 10x Zoom', 'OPPO Reno2', 'OPPO Find X', 'OPPO Reno2 Z',\n",
       "       'OPPO A83', 'OPPO K1', 'OPPO F9 Pro', 'OPPO F11', 'OPPO A1K',\n",
       "       'OPPO A7', 'OPPO A3s', 'OPPO R17 Pro', 'OPPO F7', 'OPPO F1S',\n",
       "       'OPPO A71k', 'OPPO F3', 'OPPO A5', 'OPPO F9'], dtype=object)"
      ]
     },
     "execution_count": 35,
     "metadata": {},
     "output_type": "execute_result"
    }
   ],
   "source": [
    "df['mobile_name_brand'] = replace_regex(df, 'mobile_name', [' \\(.*\\)'])\n",
    "df['mobile_name_brand'].unique()"
   ]
  },
  {
   "cell_type": "code",
   "execution_count": 36,
   "id": "8b6c2471",
   "metadata": {},
   "outputs": [
    {
     "data": {
      "text/plain": [
       "array(['Realme', 'Redmi', 'Mi', 'MI3', 'Vivo', 'Samsung', 'Infinix',\n",
       "       'POCO', 'OPPO'], dtype=object)"
      ]
     },
     "execution_count": 36,
     "metadata": {},
     "output_type": "execute_result"
    }
   ],
   "source": [
    "df['mobile_name_brand_short'] = replace_regex(df, 'mobile_name', [' .*'])\n",
    "df['mobile_name_brand_short'].unique()"
   ]
  },
  {
   "cell_type": "code",
   "execution_count": 37,
   "id": "d6a6c334",
   "metadata": {},
   "outputs": [],
   "source": [
    "def convert_words_to_num(df,cat_col):\n",
    "    return df[cat_col].astype('category').cat.codes"
   ]
  },
  {
   "cell_type": "code",
   "execution_count": 38,
   "id": "9f92a003",
   "metadata": {},
   "outputs": [],
   "source": [
    "df['mobile_name_brand_new'] = convert_words_to_num(df,'mobile_name_brand')\n",
    "df['mobile_name_brand_short_new'] = convert_words_to_num(df,'mobile_name_brand')"
   ]
  },
  {
   "cell_type": "code",
   "execution_count": 39,
   "id": "ba05269c",
   "metadata": {},
   "outputs": [
    {
     "data": {
      "image/png": "[encoded data removed]",
      "text/plain": [
       "<Figure size 720x360 with 1 Axes>"
      ]
     },
     "metadata": {
      "needs_background": "light"
     },
     "output_type": "display_data"
    }
   ],
   "source": [
    "plot_correlation_with_col(df,'mobile_price')"
   ]
  },
  {
   "cell_type": "code",
   "execution_count": 40,
   "id": "844fa8cd",
   "metadata": {},
   "outputs": [],
   "source": [
    "status['mobile_name'] = 1"
   ]
  },
  {
   "cell_type": "code",
   "execution_count": 41,
   "id": "b2471bbb",
   "metadata": {},
   "outputs": [
    {
     "data": {
      "text/html": [
       "<div>\n",
       "<style scoped>\n",
       "    .dataframe tbody tr th:only-of-type {\n",
       "        vertical-align: middle;\n",
       "    }\n",
       "\n",
       "    .dataframe tbody tr th {\n",
       "        vertical-align: top;\n",
       "    }\n",
       "\n",
       "    .dataframe thead th {\n",
       "        text-align: right;\n",
       "    }\n",
       "</style>\n",
       "<table border=\"1\" class=\"dataframe\">\n",
       "  <thead>\n",
       "    <tr style=\"text-align: right;\">\n",
       "      <th></th>\n",
       "      <th>mobile_name</th>\n",
       "      <th>mobile_price</th>\n",
       "      <th>mobile_color</th>\n",
       "      <th>dual_sim</th>\n",
       "      <th>disp_size</th>\n",
       "      <th>resolution</th>\n",
       "      <th>os</th>\n",
       "      <th>num_cores</th>\n",
       "      <th>mp_speed</th>\n",
       "      <th>int_memory</th>\n",
       "      <th>...</th>\n",
       "      <th>bluetooth</th>\n",
       "      <th>battery_power</th>\n",
       "      <th>mob_width</th>\n",
       "      <th>mob_height</th>\n",
       "      <th>mob_depth</th>\n",
       "      <th>mob_weight</th>\n",
       "      <th>mobile_name_brand</th>\n",
       "      <th>mobile_name_brand_short</th>\n",
       "      <th>mobile_name_brand_new</th>\n",
       "      <th>mobile_name_brand_short_new</th>\n",
       "    </tr>\n",
       "  </thead>\n",
       "  <tbody>\n",
       "    <tr>\n",
       "      <th>0</th>\n",
       "      <td>Realme Narzo 10A (So White, 32 GB)</td>\n",
       "      <td>8999</td>\n",
       "      <td>So White</td>\n",
       "      <td>Dual Sim</td>\n",
       "      <td>16.56</td>\n",
       "      <td>1600 x 720 Pixels</td>\n",
       "      <td>Android 10</td>\n",
       "      <td>Octa Core</td>\n",
       "      <td>2.0</td>\n",
       "      <td>32</td>\n",
       "      <td>...</td>\n",
       "      <td>Yes</td>\n",
       "      <td>5000</td>\n",
       "      <td>75.0</td>\n",
       "      <td>164.4</td>\n",
       "      <td>8.95</td>\n",
       "      <td>195.0</td>\n",
       "      <td>Realme Narzo 10A</td>\n",
       "      <td>Realme</td>\n",
       "      <td>58</td>\n",
       "      <td>58</td>\n",
       "    </tr>\n",
       "    <tr>\n",
       "      <th>1</th>\n",
       "      <td>Realme Narzo 10A (So Blue, 32 GB)</td>\n",
       "      <td>8999</td>\n",
       "      <td>So Blue</td>\n",
       "      <td>Dual Sim</td>\n",
       "      <td>16.56</td>\n",
       "      <td>1600 x 720 Pixels</td>\n",
       "      <td>Android 10</td>\n",
       "      <td>Octa Core</td>\n",
       "      <td>2.0</td>\n",
       "      <td>32</td>\n",
       "      <td>...</td>\n",
       "      <td>Yes</td>\n",
       "      <td>5000</td>\n",
       "      <td>75.0</td>\n",
       "      <td>164.4</td>\n",
       "      <td>8.95</td>\n",
       "      <td>195.0</td>\n",
       "      <td>Realme Narzo 10A</td>\n",
       "      <td>Realme</td>\n",
       "      <td>58</td>\n",
       "      <td>58</td>\n",
       "    </tr>\n",
       "    <tr>\n",
       "      <th>2</th>\n",
       "      <td>Realme Narzo 10A (So Blue, 64 GB)</td>\n",
       "      <td>9999</td>\n",
       "      <td>So Blue</td>\n",
       "      <td>Dual Sim</td>\n",
       "      <td>16.56</td>\n",
       "      <td>1600 x 720 Pixels</td>\n",
       "      <td>Android 10</td>\n",
       "      <td>Octa Core</td>\n",
       "      <td>2.0</td>\n",
       "      <td>64</td>\n",
       "      <td>...</td>\n",
       "      <td>Yes</td>\n",
       "      <td>5000</td>\n",
       "      <td>75.0</td>\n",
       "      <td>164.4</td>\n",
       "      <td>8.95</td>\n",
       "      <td>195.0</td>\n",
       "      <td>Realme Narzo 10A</td>\n",
       "      <td>Realme</td>\n",
       "      <td>58</td>\n",
       "      <td>58</td>\n",
       "    </tr>\n",
       "    <tr>\n",
       "      <th>3</th>\n",
       "      <td>Realme Narzo 10A (So White, 64 GB)</td>\n",
       "      <td>9999</td>\n",
       "      <td>So White</td>\n",
       "      <td>Dual Sim</td>\n",
       "      <td>16.56</td>\n",
       "      <td>1600 x 720 Pixels</td>\n",
       "      <td>Android 10</td>\n",
       "      <td>Octa Core</td>\n",
       "      <td>2.0</td>\n",
       "      <td>64</td>\n",
       "      <td>...</td>\n",
       "      <td>Yes</td>\n",
       "      <td>5000</td>\n",
       "      <td>75.0</td>\n",
       "      <td>164.4</td>\n",
       "      <td>8.95</td>\n",
       "      <td>195.0</td>\n",
       "      <td>Realme Narzo 10A</td>\n",
       "      <td>Realme</td>\n",
       "      <td>58</td>\n",
       "      <td>58</td>\n",
       "    </tr>\n",
       "    <tr>\n",
       "      <th>4</th>\n",
       "      <td>Realme Narzo 10 (That Green, 128 GB)</td>\n",
       "      <td>11999</td>\n",
       "      <td>That Green</td>\n",
       "      <td>Dual Sim</td>\n",
       "      <td>16.51</td>\n",
       "      <td>1600 x 720 Pixels</td>\n",
       "      <td>Android 10</td>\n",
       "      <td>Octa Core</td>\n",
       "      <td>2.0</td>\n",
       "      <td>128</td>\n",
       "      <td>...</td>\n",
       "      <td>Yes</td>\n",
       "      <td>5000</td>\n",
       "      <td>75.4</td>\n",
       "      <td>164.4</td>\n",
       "      <td>9.00</td>\n",
       "      <td>199.0</td>\n",
       "      <td>Realme Narzo 10</td>\n",
       "      <td>Realme</td>\n",
       "      <td>57</td>\n",
       "      <td>57</td>\n",
       "    </tr>\n",
       "  </tbody>\n",
       "</table>\n",
       "<p>5 rows × 24 columns</p>\n",
       "</div>"
      ],
      "text/plain": [
       "                            mobile_name  mobile_price mobile_color  dual_sim  \\\n",
       "0    Realme Narzo 10A (So White, 32 GB)          8999     So White  Dual Sim   \n",
       "1     Realme Narzo 10A (So Blue, 32 GB)          8999      So Blue  Dual Sim   \n",
       "2     Realme Narzo 10A (So Blue, 64 GB)          9999      So Blue  Dual Sim   \n",
       "3    Realme Narzo 10A (So White, 64 GB)          9999     So White  Dual Sim   \n",
       "4  Realme Narzo 10 (That Green, 128 GB)         11999   That Green  Dual Sim   \n",
       "\n",
       "   disp_size         resolution          os  num_cores  mp_speed  int_memory  \\\n",
       "0      16.56  1600 x 720 Pixels  Android 10  Octa Core       2.0          32   \n",
       "1      16.56  1600 x 720 Pixels  Android 10  Octa Core       2.0          32   \n",
       "2      16.56  1600 x 720 Pixels  Android 10  Octa Core       2.0          64   \n",
       "3      16.56  1600 x 720 Pixels  Android 10  Octa Core       2.0          64   \n",
       "4      16.51  1600 x 720 Pixels  Android 10  Octa Core       2.0         128   \n",
       "\n",
       "   ...  bluetooth battery_power mob_width mob_height mob_depth  mob_weight  \\\n",
       "0  ...        Yes          5000      75.0      164.4      8.95       195.0   \n",
       "1  ...        Yes          5000      75.0      164.4      8.95       195.0   \n",
       "2  ...        Yes          5000      75.0      164.4      8.95       195.0   \n",
       "3  ...        Yes          5000      75.0      164.4      8.95       195.0   \n",
       "4  ...        Yes          5000      75.4      164.4      9.00       199.0   \n",
       "\n",
       "   mobile_name_brand  mobile_name_brand_short  mobile_name_brand_new  \\\n",
       "0   Realme Narzo 10A                   Realme                     58   \n",
       "1   Realme Narzo 10A                   Realme                     58   \n",
       "2   Realme Narzo 10A                   Realme                     58   \n",
       "3   Realme Narzo 10A                   Realme                     58   \n",
       "4    Realme Narzo 10                   Realme                     57   \n",
       "\n",
       "   mobile_name_brand_short_new  \n",
       "0                           58  \n",
       "1                           58  \n",
       "2                           58  \n",
       "3                           58  \n",
       "4                           57  \n",
       "\n",
       "[5 rows x 24 columns]"
      ]
     },
     "execution_count": 41,
     "metadata": {},
     "output_type": "execute_result"
    }
   ],
   "source": [
    "df.head()"
   ]
  },
  {
   "cell_type": "code",
   "execution_count": 42,
   "id": "dd1672bc",
   "metadata": {},
   "outputs": [],
   "source": [
    "df['mobile_color_cat'] = convert_words_to_num(df,'mobile_color')\n",
    "df['dual_sim_cat'] = convert_words_to_num(df,'dual_sim')\n",
    "df['resolution_cat'] = convert_words_to_num(df,'resolution')\n",
    "df['os_cat'] = convert_words_to_num(df,'os')\n",
    "df['num_cores_cat'] = convert_words_to_num(df,'num_cores')\n",
    "df['f_cam_cat'] = convert_words_to_num(df,'f_cam')\n",
    "df['network_cat'] = convert_words_to_num(df,'network')"
   ]
  },
  {
   "cell_type": "code",
   "execution_count": 43,
   "id": "9f34cce4",
   "metadata": {},
   "outputs": [],
   "source": [
    "status['mobile_color'] = 1\n",
    "status['dual_sim'] = 1\n",
    "status['resolution'] = 1\n",
    "status['os'] = 1\n",
    "status['num_cores'] = 1\n",
    "status['f_cam'] = 1\n",
    "status['network'] = 1"
   ]
  },
  {
   "cell_type": "code",
   "execution_count": 44,
   "id": "63de130c",
   "metadata": {},
   "outputs": [],
   "source": [
    "# status['mobile_color'] = 1 Let us see the result and values to be sure\n",
    "# status['dual_sim'] = 1 Let us see the result and values to be sure\n",
    "# status['resolution'] = 1 Let us see the result and values to be sure\n",
    "# status['os'] = 1 Let us see the result and values to be sure\n",
    "# status['num_cores'] = 1 Let us see the result and values to be sure\n",
    "# status['f_cam'] = 1 Let us see the result and values to be sure\n",
    "# status['network'] = 1 Let us see the result and values to be sure"
   ]
  },
  {
   "cell_type": "code",
   "execution_count": 45,
   "id": "f609654b",
   "metadata": {},
   "outputs": [
    {
     "data": {
      "text/plain": [
       "{'mobile_name': 1,\n",
       " 'mobile_price': 1,\n",
       " 'mobile_color': 1,\n",
       " 'dual_sim': 1,\n",
       " 'disp_size': 1,\n",
       " 'resolution': 1,\n",
       " 'os': 1,\n",
       " 'num_cores': 1,\n",
       " 'mp_speed': 1,\n",
       " 'int_memory': 1,\n",
       " 'ram': 1,\n",
       " 'p_cam': 0,\n",
       " 'f_cam': 1,\n",
       " 'network': 1,\n",
       " 'bluetooth': 0,\n",
       " 'battery_power': 1,\n",
       " 'mob_width': 1,\n",
       " 'mob_height': 1,\n",
       " 'mob_depth': 1,\n",
       " 'mob_weight': 1}"
      ]
     },
     "execution_count": 45,
     "metadata": {},
     "output_type": "execute_result"
    }
   ],
   "source": [
    "status"
   ]
  },
  {
   "cell_type": "code",
   "execution_count": 46,
   "id": "c7942dea",
   "metadata": {},
   "outputs": [
    {
     "data": {
      "image/png": "[encoded data removed]",
      "text/plain": [
       "<Figure size 720x360 with 1 Axes>"
      ]
     },
     "metadata": {
      "needs_background": "light"
     },
     "output_type": "display_data"
    }
   ],
   "source": [
    "plot_correlation_with_col(df,'mobile_price')"
   ]
  },
  {
   "cell_type": "markdown",
   "id": "3913639f",
   "metadata": {},
   "source": [
    "Some columns seem to have values which are in words, but represents a number. Convert them"
   ]
  },
  {
   "cell_type": "code",
   "execution_count": 47,
   "id": "f9a6aa90",
   "metadata": {},
   "outputs": [
    {
     "data": {
      "text/plain": [
       "array(['Dual Sim', 'Single Sim'], dtype=object)"
      ]
     },
     "execution_count": 47,
     "metadata": {},
     "output_type": "execute_result"
    }
   ],
   "source": [
    "df['dual_sim'].unique()"
   ]
  },
  {
   "cell_type": "code",
   "execution_count": 48,
   "id": "10132bb2",
   "metadata": {},
   "outputs": [],
   "source": [
    "df['dual_sim_ord'] = df['dual_sim'].replace('Dual Sim',2).replace('Single Sim',1)"
   ]
  },
  {
   "cell_type": "code",
   "execution_count": 49,
   "id": "4fd1c66f",
   "metadata": {},
   "outputs": [
    {
     "data": {
      "text/plain": [
       "array(['Octa Core', 'Quad Core', 'Single Core'], dtype=object)"
      ]
     },
     "execution_count": 49,
     "metadata": {},
     "output_type": "execute_result"
    }
   ],
   "source": [
    "df['num_cores'].unique()"
   ]
  },
  {
   "cell_type": "code",
   "execution_count": 50,
   "id": "f1127b68",
   "metadata": {},
   "outputs": [],
   "source": [
    "df['num_cores_ord'] = df['num_cores'].replace('Octa Core',8).replace('Quad Core',4).replace('Single Core',1)"
   ]
  },
  {
   "cell_type": "code",
   "execution_count": 51,
   "id": "75237eb3",
   "metadata": {},
   "outputs": [
    {
     "data": {
      "image/png": "[encoded data removed]",
      "text/plain": [
       "<Figure size 720x360 with 1 Axes>"
      ]
     },
     "metadata": {
      "needs_background": "light"
     },
     "output_type": "display_data"
    }
   ],
   "source": [
    "plot_correlation_with_col(df,'mobile_price')"
   ]
  },
  {
   "cell_type": "code",
   "execution_count": 52,
   "id": "617b8b45",
   "metadata": {},
   "outputs": [],
   "source": [
    "def plot_grouped_correlation_with_col(df, col):\n",
    "    sorted_corr = df.corr().sort_values(col)[col][:-1]\n",
    "    sorted_corr.sort_index().plot(kind='bar',figsize = (10,5))"
   ]
  },
  {
   "cell_type": "code",
   "execution_count": 53,
   "id": "6e56495c",
   "metadata": {},
   "outputs": [
    {
     "data": {
      "image/png": "[encoded data removed]",
      "text/plain": [
       "<Figure size 720x360 with 1 Axes>"
      ]
     },
     "metadata": {
      "needs_background": "light"
     },
     "output_type": "display_data"
    }
   ],
   "source": [
    "plot_grouped_correlation_with_col(df,'mobile_price')"
   ]
  },
  {
   "cell_type": "markdown",
   "id": "e7dbcba6",
   "metadata": {},
   "source": [
    "Checking rest of the columns one by one. Probably there is more scope of cleaning in the negatively correlated ones"
   ]
  },
  {
   "cell_type": "code",
   "execution_count": 54,
   "id": "455209aa",
   "metadata": {},
   "outputs": [
    {
     "data": {
      "text/plain": [
       "array([5000, 4035, 4000, 3500, 4200, 4300, 4230, 5020, 4030, 3400, 3080,\n",
       "       3010, 4780, 3050, 4100, 3000, 4500, 3700, 3260, 3360, 3225, 2730,\n",
       "       6000, 2600, 2000, 3600, 4350, 4025, 4065, 3730, 3180, 4020, 3075,\n",
       "       3200], dtype=int64)"
      ]
     },
     "execution_count": 54,
     "metadata": {},
     "output_type": "execute_result"
    }
   ],
   "source": [
    "df['battery_power'].unique()"
   ]
  },
  {
   "cell_type": "code",
   "execution_count": 55,
   "id": "8c7cbb9f",
   "metadata": {},
   "outputs": [
    {
     "data": {
      "text/plain": [
       "array([16.56, 16.51, 16.  , 16.26, 16.36, 16.76, 15.49, 16.69, 15.8 ,\n",
       "       16.23, 16.94, 15.44, 15.21, 15.9 , 12.7 , 15.46, 13.97, 13.84,\n",
       "       16.13, 16.21, 16.59, 16.28, 16.74, 14.48, 15.24, 13.21, 17.02,\n",
       "       11.94, 15.06, 15.75, 15.72, 14.35, 15.19, 15.77, 15.7 , 15.82])"
      ]
     },
     "execution_count": 55,
     "metadata": {},
     "output_type": "execute_result"
    }
   ],
   "source": [
    "df['disp_size'].unique()"
   ]
  },
  {
   "cell_type": "code",
   "execution_count": 56,
   "id": "91b0d34a",
   "metadata": {},
   "outputs": [
    {
     "data": {
      "text/plain": [
       "array(['5MP Front Camera', '16MP Front Camera',\n",
       "       '32MP + 8MP Dual Front Camera', '16MP + 8MP Dual Front Camera',\n",
       "       '13MP Front Camera', '32MP Front Camera', '8MP Front Camera',\n",
       "       '20MP Front Camera', '20MP + 2MP Dual Front Camera',\n",
       "       '2MP Front Camera', '8MP Dual Front Camera', '25MP Front Camera',\n",
       "       '24MP Front Camera', '13MP + 2MP Dual Front Camera',\n",
       "       '44MP + 2MP Dual Front Camera'], dtype=object)"
      ]
     },
     "execution_count": 56,
     "metadata": {},
     "output_type": "execute_result"
    }
   ],
   "source": [
    "df['f_cam'].unique()"
   ]
  },
  {
   "cell_type": "markdown",
   "id": "ce7bcd8b",
   "metadata": {},
   "source": [
    "More cleaning should be possible for f_cam if we represent main/overall f_cam MP as a number"
   ]
  },
  {
   "cell_type": "code",
   "execution_count": 57,
   "id": "88dde10a",
   "metadata": {},
   "outputs": [],
   "source": [
    "df['f_cam_ord'] = replace_regex_numericize(df,'f_cam',['MP.*'])"
   ]
  },
  {
   "cell_type": "code",
   "execution_count": 58,
   "id": "d9ba2d1d",
   "metadata": {},
   "outputs": [
    {
     "data": {
      "image/png": "[encoded data removed]",
      "text/plain": [
       "<Figure size 720x360 with 1 Axes>"
      ]
     },
     "metadata": {
      "needs_background": "light"
     },
     "output_type": "display_data"
    }
   ],
   "source": [
    "plot_grouped_correlation_with_col(df,'mobile_price')"
   ]
  },
  {
   "cell_type": "code",
   "execution_count": 59,
   "id": "e460cc27",
   "metadata": {},
   "outputs": [
    {
     "data": {
      "text/plain": [
       "array([ 8.95 ,  9.   ,  8.9  ,  8.7  ,  8.5  ,  8.55 ,  9.65 ,  9.6  ,\n",
       "        9.4  ,  9.3  ,  8.6  ,  8.3  ,  8.8  ,  8.475,  8.1  ,  7.7  ,\n",
       "        8.26 ,  7.3  ,  8.96 ,  8.05 , 92.   , 75.3  ,  8.4  ,  8.35 ,\n",
       "        9.55 ,  8.47 ,  8.92 ,  8.13 ,  8.68 ,  8.28 ,  9.11 ,  8.85 ,\n",
       "        8.89 ,  8.54 ,  8.21 ,  9.8  ,  7.9  ,  7.98 ,  7.77 ,  7.89 ,\n",
       "        7.8  ,  7.5  , 75.   ,  7.6  ,  8.65 ,  7.95 ,  8.79 ,  9.1  ,\n",
       "        8.2  ,  9.5  ,  8.67 ,  7.4  ,  7.99 ,  7.38 , 76.   ])"
      ]
     },
     "execution_count": 59,
     "metadata": {},
     "output_type": "execute_result"
    }
   ],
   "source": [
    "df['mob_depth'].unique()"
   ]
  },
  {
   "cell_type": "markdown",
   "id": "6d206e1b",
   "metadata": {},
   "source": [
    "Some values seem to be 92 and 75 which are outliers or out of the general range. Something has gone wrong in this data collection. So check mob height and width too for confirmation."
   ]
  },
  {
   "cell_type": "code",
   "execution_count": 60,
   "id": "401499b3",
   "metadata": {},
   "outputs": [
    {
     "data": {
      "text/plain": [
       "array([ 75.  ,  75.4 ,  74.2 ,  75.7 ,  74.  ,  75.16,  74.24,  74.8 ,\n",
       "        75.8 ,  73.7 ,  75.6 ,  75.2 ,  75.41,  74.3 ,  76.68,  71.85,\n",
       "        75.21,  75.49,  77.26,  76.4 ,  75.35,  73.6 ,   9.  ,   8.35,\n",
       "        76.  ,  70.1 ,  70.4 ,  71.5 ,  75.58,  76.2 ,  76.77,  75.23,\n",
       "        75.19,  75.09,  76.46,  77.33,  76.47,  75.04,  74.17,  74.71,\n",
       "        74.7 ,  75.08,  77.  ,  75.03,  75.93,  72.8 ,  75.24,  75.74,\n",
       "        72.9 , 159.  ,  75.3 ,  72.1 ,  69.  , 152.4 ,  76.8 ,  76.88,\n",
       "        75.25,  72.85,  82.38,  76.6 ,  75.5 ,  73.3 ,  73.4 ,  76.1 ,\n",
       "        77.2 ,  73.1 ,  77.35,  74.6 , 154.5 ,  73.8 ])"
      ]
     },
     "execution_count": 60,
     "metadata": {},
     "output_type": "execute_result"
    }
   ],
   "source": [
    "df['mob_width'].unique()"
   ]
  },
  {
   "cell_type": "code",
   "execution_count": 61,
   "id": "7891f8d3",
   "metadata": {},
   "outputs": [
    {
     "data": {
      "text/plain": [
       "array([164.4 , 157.  , 161.  , 156.7 , 158.7 , 158.96, 162.1 , 163.9 ,\n",
       "       154.3 , 163.8 , 156.1 , 156.48, 165.75, 153.48, 159.21, 151.86,\n",
       "       160.73, 157.9 , 162.58, 158.58, 144.  , 175.  , 158.3 , 151.  ,\n",
       "       165.5 , 140.4 , 146.3 , 147.5 , 158.73, 153.  , 159.43, 159.53,\n",
       "       159.25, 155.11, 162.04, 162.39, 162.15, 159.64, 159.01, 157.25,\n",
       "       159.  , 157.91, 162.  , 155.06, 154.81, 161.97, 149.3 , 155.21,\n",
       "       155.87, 149.9 , 154.6 ,   9.  , 163.6 , 143.4 , 162.5 , 136.5 ,\n",
       "       152.4 ,  78.6 , 165.  , 158.  , 158.25, 153.9 , 164.  , 166.38,\n",
       "       156.  , 155.5 , 165.3 , 155.9 , 160.2 , 158.8 , 161.3 , 160.  ,\n",
       "       161.8 , 150.5 , 154.4 , 156.2 , 157.6 , 154.5 ,   7.38, 148.1 ,\n",
       "       153.3 ])"
      ]
     },
     "execution_count": 61,
     "metadata": {},
     "output_type": "execute_result"
    }
   ],
   "source": [
    "df['mob_height'].unique()"
   ]
  },
  {
   "cell_type": "markdown",
   "id": "e80cf52a",
   "metadata": {},
   "source": [
    "Looks like the mobile dimensions were retrieved from some string and the order of height, weight, depth was not the same everywhere. Sort it to get it right"
   ]
  },
  {
   "cell_type": "code",
   "execution_count": 62,
   "id": "9b19e824",
   "metadata": {},
   "outputs": [],
   "source": [
    "for rownum, row in df.iterrows():\n",
    "    ordered_dim = sorted([row['mob_depth'],row['mob_width'],row['mob_height']])\n",
    "#     print(row['mob_depth'],row['mob_width'],row['mob_height'])\n",
    "#     print(ordered_dim)\n",
    "    df.at[rownum,'mob_depth_rearr'] = ordered_dim[0]\n",
    "    df.at[rownum,'mob_width_rearr'] = ordered_dim[1]\n",
    "    df.at[rownum,'mob_height_rearr'] = ordered_dim[2]"
   ]
  },
  {
   "cell_type": "code",
   "execution_count": 63,
   "id": "d05427f2",
   "metadata": {},
   "outputs": [
    {
     "data": {
      "text/plain": [
       "array([164.4 , 157.  , 161.  , 156.7 , 158.7 , 158.96, 162.1 , 163.9 ,\n",
       "       154.3 , 163.8 , 156.1 , 156.48, 165.75, 153.48, 159.21, 151.86,\n",
       "       160.73, 157.9 , 162.58, 158.58, 144.  , 175.  , 158.3 , 151.  ,\n",
       "       165.5 , 140.4 , 146.3 , 147.5 , 158.73, 153.  , 159.43, 159.53,\n",
       "       159.25, 155.11, 162.04, 162.39, 162.15, 159.64, 159.01, 157.25,\n",
       "       159.  , 157.91, 162.  , 155.06, 154.81, 161.97, 149.3 , 155.21,\n",
       "       155.87, 149.9 , 154.6 , 163.6 , 143.4 , 162.5 , 136.5 , 152.4 ,\n",
       "       165.  , 158.  , 158.25, 153.9 , 164.  , 166.38, 156.  , 155.5 ,\n",
       "       165.3 , 155.9 , 160.2 , 158.8 , 161.3 , 160.  , 161.8 , 150.5 ,\n",
       "       154.4 , 156.2 , 157.6 , 154.5 , 148.1 , 153.3 ])"
      ]
     },
     "execution_count": 63,
     "metadata": {},
     "output_type": "execute_result"
    }
   ],
   "source": [
    "df['mob_height_rearr'].unique()"
   ]
  },
  {
   "cell_type": "code",
   "execution_count": 64,
   "id": "1cefe2e3",
   "metadata": {},
   "outputs": [
    {
     "data": {
      "text/plain": [
       "array([75.  , 75.4 , 74.2 , 75.7 , 74.  , 75.16, 74.24, 74.8 , 75.8 ,\n",
       "       73.7 , 75.6 , 75.2 , 75.41, 74.3 , 76.68, 71.85, 75.21, 75.49,\n",
       "       77.26, 76.4 , 75.35, 73.6 , 92.  , 75.3 , 76.  , 70.1 , 70.4 ,\n",
       "       71.5 , 75.58, 76.2 , 76.77, 75.23, 75.19, 75.09, 76.46, 77.33,\n",
       "       76.47, 75.04, 74.17, 74.71, 74.7 , 75.08, 77.  , 75.03, 75.93,\n",
       "       72.8 , 75.24, 75.74, 72.9 , 72.1 , 69.  , 78.6 , 76.8 , 76.88,\n",
       "       75.25, 72.85, 82.38, 76.6 , 75.5 , 73.3 , 73.4 , 76.1 , 77.2 ,\n",
       "       73.1 , 77.35, 74.6 , 73.8 ])"
      ]
     },
     "execution_count": 64,
     "metadata": {},
     "output_type": "execute_result"
    }
   ],
   "source": [
    "df['mob_width_rearr'].unique()"
   ]
  },
  {
   "cell_type": "code",
   "execution_count": 65,
   "id": "88affdfd",
   "metadata": {},
   "outputs": [
    {
     "data": {
      "text/plain": [
       "array([8.95 , 9.   , 8.9  , 8.7  , 8.5  , 8.55 , 9.65 , 9.6  , 9.4  ,\n",
       "       9.3  , 8.6  , 8.3  , 8.8  , 8.475, 8.1  , 7.7  , 8.26 , 7.3  ,\n",
       "       8.96 , 8.05 , 8.35 , 8.4  , 9.55 , 8.47 , 8.92 , 8.13 , 8.68 ,\n",
       "       8.28 , 9.11 , 8.85 , 8.89 , 8.54 , 8.21 , 9.8  , 7.9  , 7.98 ,\n",
       "       7.77 , 7.89 , 7.8  , 7.5  , 7.6  , 8.65 , 7.95 , 8.79 , 9.1  ,\n",
       "       8.2  , 9.5  , 8.67 , 7.4  , 7.99 , 7.38 ])"
      ]
     },
     "execution_count": 65,
     "metadata": {},
     "output_type": "execute_result"
    }
   ],
   "source": [
    "df['mob_depth_rearr'].unique()"
   ]
  },
  {
   "cell_type": "code",
   "execution_count": 66,
   "id": "88e027c1",
   "metadata": {},
   "outputs": [
    {
     "data": {
      "image/png": "[encoded data removed]",
      "text/plain": [
       "<Figure size 720x360 with 1 Axes>"
      ]
     },
     "metadata": {
      "needs_background": "light"
     },
     "output_type": "display_data"
    }
   ],
   "source": [
    "plot_grouped_correlation_with_col(df,'mobile_price')"
   ]
  },
  {
   "cell_type": "code",
   "execution_count": 67,
   "id": "21d81657",
   "metadata": {},
   "outputs": [
    {
     "data": {
      "text/plain": [
       "array([195. , 199. , 184. , 174. , 183. , 207. , 191. , 166. , 198. ,\n",
       "       182. , 202. , 175. , 188. , 209. , 173.8, 186. , 185. , 168. ,\n",
       "       181. , 145. , 190. , 165. , 137. , 146. , 180. , 154. , 190.5,\n",
       "       189.6, 186.7, 163.5, 197. , 201. , 193. , 186.5, 176. , 179. ,\n",
       "       201.8, 156. , 148. , 150. , 189.5, 139. , 151. , 160. , 142. ,\n",
       "       143. , 162.8, 187. , 130. , 178. , 170. , 194. , 159. , 155. ,\n",
       "       208. , 172. , 192. , 215. , 189. , 169. , 158. , 153. ])"
      ]
     },
     "execution_count": 67,
     "metadata": {},
     "output_type": "execute_result"
    }
   ],
   "source": [
    "df['mob_weight'].unique()"
   ]
  },
  {
   "cell_type": "code",
   "execution_count": 68,
   "id": "17d585e2",
   "metadata": {},
   "outputs": [
    {
     "data": {
      "text/plain": [
       "array(['So White', 'So Blue', 'That Green', 'That White', 'Crystal Green',\n",
       "       'Sparkling Blue', 'Lunar White', 'Neptune Blue', 'Black Sea',\n",
       "       'Pearl Blue', 'Pearl White', 'Rust Red', 'Moss Green',\n",
       "       'Frozen Blue', 'Comet White', 'Lightning Orange', 'Lightning Blue',\n",
       "       'Diamond Black', 'Diamond Blue', 'Diamond Ruby', 'Comet Blue',\n",
       "       'Diamond Sapphire', 'Crystal Red', 'Crystal Blue',\n",
       "       'Crystal Purple', 'Red Brick', 'Concrete', 'Pearl Green',\n",
       "       'That Blue', 'Glacier Blue', 'Arctic White', 'Dynamic Black',\n",
       "       'Diamond Red', 'Radiant Blue', 'Black', 'Sapphire Blue',\n",
       "       'Onyx Black', 'Flame Red', 'Aurora Blue', 'Carbon Black',\n",
       "       'More Than White', 'Space Black', 'Not just Blue', 'Kind of Grey',\n",
       "       'Nebula Red', 'Gold', 'Rose Gold', 'Red', 'Twilight Grey',\n",
       "       'Coral Green', 'Lake Blue', 'Metallic Grey', 'Emerald Green',\n",
       "       'Ruby Red', 'Interstellar Black', 'Sea Blue', 'Midnight Grey',\n",
       "       'Moonlight White', 'Sky White', 'Glacier White',\n",
       "       'Astro Moonlight White', 'Sunset Red', 'Blue/Lake Blue', 'Blue',\n",
       "       'Matte Black', 'Matte Gold', 'Elegant Blue', 'Prime Black', 'Grey',\n",
       "       'Dark Grey', 'Burgundy Red', 'Thunder Black', 'Mineral Blue',\n",
       "       'Fusion Blue', 'Phantom Purple', 'Agate Red', 'Mystic Black',\n",
       "       'Jazzy Blue', 'Dreamy White', 'Fusion Black', 'Ocean Blue',\n",
       "       'Iris Blue', 'Sonic Black', 'Sonic Blue', 'Magnetic Black',\n",
       "       'Mystic Silver', 'Piano Black', 'Glacier ice white',\n",
       "       'Midnight Ocean Black', 'Electric Blue', 'Skyline Blue',\n",
       "       'Topaz Blue', 'Mystic Purple', 'Glacier Ice White',\n",
       "       'Starry Night Black', 'Frozen Black', 'Starry Black',\n",
       "       'Energetic Blue', 'Nebula Purple', 'White', 'Midnight Blue',\n",
       "       'Raven Black', 'Prism Blue', 'Prism Black', 'Metallic gold',\n",
       "       'Violet', 'Ocean Wave', 'Charcoal Blue', 'Forest Green',\n",
       "       'Bordeaux Red', 'Tradew Gray', 'Milan Black', 'Ice Blue',\n",
       "       'Berlin Gray', 'Midnight Black', 'Mocha Brown', 'Aqua Blue',\n",
       "       'Sandstone Black', 'Blush Gold', 'Quetzal Cyan',\n",
       "       'Bronze Gold Black', 'Nebula Blue', 'Twilight Purple',\n",
       "       'Space Gray', 'Steel Blue', 'Graphite Black', 'Armoured Edition',\n",
       "       'Rosso Red', 'Matrix Purple', 'Atlantis Blue', 'Phoenix Red',\n",
       "       'Green and Greener', 'Out of the Blue', 'Two Shades of Black',\n",
       "       'Fantasy White', 'Mystery Black', 'Marine Green', 'Unicorn White',\n",
       "       'Blazing Blue', 'Twilight Black', 'Stream White', 'Deep Blue',\n",
       "       'Flowing Silver', 'Green', 'Space Purple', 'Lightening Black',\n",
       "       'Auroral Blue', 'Ocean Green', 'Luminous Black', 'Champagne',\n",
       "       'Vanilla Mint', 'Sunrise Red', 'Astral Blue', 'Marble Green',\n",
       "       'Glaring Gold', 'Twilight Blue', 'Starry Purple', 'Glaze Blue',\n",
       "       'Purple', 'Waterfall Grey', 'Radiant Mist', 'Fluorite Purple',\n",
       "       'Jewelry White', 'Stellar Purple', 'Jet Black'], dtype=object)"
      ]
     },
     "execution_count": 68,
     "metadata": {},
     "output_type": "execute_result"
    }
   ],
   "source": [
    "df['mobile_color'].unique()"
   ]
  },
  {
   "cell_type": "code",
   "execution_count": 69,
   "id": "98d39b72",
   "metadata": {},
   "outputs": [
    {
     "data": {
      "text/plain": [
       "165"
      ]
     },
     "execution_count": 69,
     "metadata": {},
     "output_type": "execute_result"
    }
   ],
   "source": [
    "len(df['mobile_color'].unique())"
   ]
  },
  {
   "cell_type": "code",
   "execution_count": 70,
   "id": "4fc030fc",
   "metadata": {},
   "outputs": [
    {
     "data": {
      "text/plain": [
       "array(['White', 'Blue', 'Green', 'Sea', 'Red', 'Orange', 'Black', 'Ruby',\n",
       "       'Sapphire', 'Purple', 'Brick', 'Concrete', 'Grey', 'Gold',\n",
       "       'Silver', 'white', 'gold', 'Violet', 'Wave', 'Gray', 'Brown',\n",
       "       'Cyan', 'Edition', 'Greener', 'Champagne', 'Mint', 'Mist'],\n",
       "      dtype=object)"
      ]
     },
     "execution_count": 70,
     "metadata": {},
     "output_type": "execute_result"
    }
   ],
   "source": [
    "df['mobile_color_basic'] = replace_regex(df,'mobile_color',['.* '])\n",
    "df['mobile_color_basic'].unique()"
   ]
  },
  {
   "cell_type": "code",
   "execution_count": 71,
   "id": "fab4305d",
   "metadata": {},
   "outputs": [],
   "source": [
    "df['mobile_color_basic_cat'] = convert_words_to_num(df,'mobile_color_basic')"
   ]
  },
  {
   "cell_type": "code",
   "execution_count": 72,
   "id": "7d843a81",
   "metadata": {},
   "outputs": [
    {
     "data": {
      "image/png": "[encoded data removed]",
      "text/plain": [
       "<Figure size 720x360 with 1 Axes>"
      ]
     },
     "metadata": {
      "needs_background": "light"
     },
     "output_type": "display_data"
    }
   ],
   "source": [
    "plot_grouped_correlation_with_col(df,'mobile_price')"
   ]
  },
  {
   "cell_type": "code",
   "execution_count": 73,
   "id": "0ffe83e1",
   "metadata": {},
   "outputs": [
    {
     "data": {
      "text/plain": [
       "array([2.   , 2.3  , 2.96 , 1.95 , 2.8  , 2.05 , 2.2  , 2.1  , 2.84 ,\n",
       "       2.5  , 1.8  , 1.4  , 1.5  , 1.3  , 1.6  , 2.39 , 2.6  , 2.649])"
      ]
     },
     "execution_count": 73,
     "metadata": {},
     "output_type": "execute_result"
    }
   ],
   "source": [
    "df['mp_speed'].unique()"
   ]
  },
  {
   "cell_type": "code",
   "execution_count": 74,
   "id": "836b7ce8",
   "metadata": {},
   "outputs": [
    {
     "data": {
      "text/plain": [
       "array(['4G VOLTE, 4G, 3G, 2G', '3G, 4G VOLTE, 2G', '3G, 4G VOLTE, 4G, 2G',\n",
       "       '3G, 4G, 2G', '4G, 2G, 3G', '5G, 4G VOLTE, 4G, 3G, 2G',\n",
       "       '4G VOLTE, 3G, 2G', '4G VOLTE, 3G', '4G VOLTE, 4G, 2G, 3G',\n",
       "       '4G VOLTE, 5G', '3G, 4G VOLTE, 4G', '3G', '4G VOLTE',\n",
       "       '3G, 4G VOLTE', '2G', '4G, 3G, 2G', '3G, 4G', '4G VOLTE, 4G'],\n",
       "      dtype=object)"
      ]
     },
     "execution_count": 74,
     "metadata": {},
     "output_type": "execute_result"
    }
   ],
   "source": [
    "df['network'].unique()"
   ]
  },
  {
   "cell_type": "code",
   "execution_count": 75,
   "id": "093491f4",
   "metadata": {},
   "outputs": [
    {
     "data": {
      "text/plain": [
       "array([4, 3, 5, 2, 1], dtype=int64)"
      ]
     },
     "execution_count": 75,
     "metadata": {},
     "output_type": "execute_result"
    }
   ],
   "source": [
    "df['network_count'] = [len(x.split(',')) for x in df['network']]\n",
    "df['network_count'].unique()"
   ]
  },
  {
   "cell_type": "code",
   "execution_count": 76,
   "id": "b44d6bdb",
   "metadata": {},
   "outputs": [
    {
     "data": {
      "image/png": "[encoded data removed]",
      "text/plain": [
       "<Figure size 720x360 with 1 Axes>"
      ]
     },
     "metadata": {
      "needs_background": "light"
     },
     "output_type": "display_data"
    }
   ],
   "source": [
    "plot_grouped_correlation_with_col(df,'mobile_price')"
   ]
  },
  {
   "cell_type": "code",
   "execution_count": 77,
   "id": "ed19cbaa",
   "metadata": {},
   "outputs": [
    {
     "data": {
      "text/plain": [
       "<AxesSubplot:ylabel='Frequency'>"
      ]
     },
     "execution_count": 77,
     "metadata": {},
     "output_type": "execute_result"
    },
    {
     "data": {
      "image/png": "[encoded data removed]",
      "text/plain": [
       "<Figure size 432x288 with 1 Axes>"
      ]
     },
     "metadata": {
      "needs_background": "light"
     },
     "output_type": "display_data"
    }
   ],
   "source": [
    "df['network_count'].plot(kind='hist')"
   ]
  },
  {
   "cell_type": "code",
   "execution_count": 78,
   "id": "f078ca18",
   "metadata": {},
   "outputs": [
    {
     "data": {
      "text/plain": [
       "array(['Android 10', 'Android Pie 9.0', 'Android Pie 9',\n",
       "       'Android Oreo 8.1', 'Android Pie 10', 'Android Nougat 7.1.1',\n",
       "       'Android Oreo 8.0', 'Android Nougat 7.1.2', 'Android KitKat 4.4.2',\n",
       "       'Android Marshmallow 6.0.1', 'Android Nougat 7.1',\n",
       "       'Android Marshmallow 6', 'Android Nougat 7',\n",
       "       'Android Lollipop 5.4.1', 'Android Oreo 8.1.0', 'Android Oreo 8',\n",
       "       'Android Lollipop 5.1', 'Android Lollipop 5.1.1'], dtype=object)"
      ]
     },
     "execution_count": 78,
     "metadata": {},
     "output_type": "execute_result"
    }
   ],
   "source": [
    "df['os'].unique()"
   ]
  },
  {
   "cell_type": "code",
   "execution_count": 79,
   "id": "a1584d25",
   "metadata": {},
   "outputs": [],
   "source": [
    "df['os_version'] = replace_regex(df,'os',['[a-zA-z]* '])\n",
    "df['os_version_cat'] = convert_words_to_num(df,'os_version')"
   ]
  },
  {
   "cell_type": "code",
   "execution_count": 80,
   "id": "d8a00adf",
   "metadata": {},
   "outputs": [
    {
     "data": {
      "text/plain": [
       "array(['10', '9.0', '9', '8.1', '7.1.1', '8.0', '7.1.2', '4.4.2', '6.0.1',\n",
       "       '7.1', '6', '7', '5.4.1', '8.1.0', '8', '5.1', '5.1.1'],\n",
       "      dtype=object)"
      ]
     },
     "execution_count": 80,
     "metadata": {},
     "output_type": "execute_result"
    }
   ],
   "source": [
    "df['os_version'].unique()"
   ]
  },
  {
   "cell_type": "code",
   "execution_count": 81,
   "id": "89da872c",
   "metadata": {},
   "outputs": [
    {
     "data": {
      "text/plain": [
       "array([10,  9,  8,  7,  4,  6,  5], dtype=int64)"
      ]
     },
     "execution_count": 81,
     "metadata": {},
     "output_type": "execute_result"
    }
   ],
   "source": [
    "df['os_version_new'] = replace_regex_numericize(df,'os_version',['\\..*'])\n",
    "df['os_version_new'].unique()"
   ]
  },
  {
   "cell_type": "code",
   "execution_count": 82,
   "id": "cb258896",
   "metadata": {},
   "outputs": [
    {
     "data": {
      "image/png": "[encoded data removed]",
      "text/plain": [
       "<Figure size 720x360 with 1 Axes>"
      ]
     },
     "metadata": {
      "needs_background": "light"
     },
     "output_type": "display_data"
    }
   ],
   "source": [
    "plot_grouped_correlation_with_col(df, 'mobile_price')"
   ]
  },
  {
   "cell_type": "code",
   "execution_count": 83,
   "id": "20f05954",
   "metadata": {},
   "outputs": [
    {
     "data": {
      "text/plain": [
       "array([ 3,  4,  6,  8, 12,  2,  1], dtype=int64)"
      ]
     },
     "execution_count": 83,
     "metadata": {},
     "output_type": "execute_result"
    }
   ],
   "source": [
    "df['ram'].unique()"
   ]
  },
  {
   "cell_type": "code",
   "execution_count": 84,
   "id": "3fa694c3",
   "metadata": {},
   "outputs": [
    {
     "data": {
      "text/plain": [
       "array(['1600 x 720 Pixels', '2340 x 1080 pixels', '2400 x 1080 Pixels',\n",
       "       '1080 x 2340 Pixels', '1080 x 2400 Pixels', '720 x 1600 Pixels',\n",
       "       '1560 x 720 pixels', '2400 × 1080 Pixels', '1520 x 720 pixels',\n",
       "       '1520 x 720 Pixels', '2400 x 1080 pixel', '1560 x 720 Pixels',\n",
       "       '2160 x 1080 Pixels', '1440 x 720 pixels', '2280 x 1080 pixels',\n",
       "       '2160 x 1080 pixels', '2340 x 1080 Pixel', '1920 x 1080 Pixels',\n",
       "       '1520 x 720$$Pixels', '1520 x 720$$pixel', '2280 x 1080$$Pixels',\n",
       "       '1920 x 1080 pixels', '2400 x 1080 Pixel', '1280 x 720 pixels',\n",
       "       '2400 x 1080$$pixel', '1280 x 720 Pixels', '720 x 1544 pixels',\n",
       "       '720 x 1544 Pixels', '2340 x 1080 Pixels', '2316 x 1080 pixels',\n",
       "       '2280 x 1080 Pixels', '1440 x 720 Pixels', '1440 x 720 Pixel',\n",
       "       '1520 x 720$$ pixels', '1520 x 720$pixels', '2340 x 1080$$pixel',\n",
       "       '2340 x 1080$$Pixel', '960 x 540 Pixels', '540 x 960 Pixels',\n",
       "       '1080 x 2160 pixels', '1500 x 720 pixels', '720 x 1440 Pixels',\n",
       "       '720*1440 Pixels', '1080 x 1920 Pixels', '720 x 1520 pixels',\n",
       "       '1080 x 2340 pixels', '720 x 1560 pixels', '720 x 1280'],\n",
       "      dtype=object)"
      ]
     },
     "execution_count": 84,
     "metadata": {},
     "output_type": "execute_result"
    }
   ],
   "source": [
    "df['resolution'].unique()"
   ]
  },
  {
   "cell_type": "code",
   "execution_count": 85,
   "id": "338a77c9",
   "metadata": {},
   "outputs": [
    {
     "data": {
      "text/plain": [
       "array(['1600 x 720 ', '2340 x 1080 ', '2400 x 1080 ', '1080 x 2340 ',\n",
       "       '1080 x 2400 ', '720 x 1600 ', '1560 x 720 ', '2400  x  1080 ',\n",
       "       '1520 x 720 ', '2160 x 1080 ', '1440 x 720 ', '2280 x 1080 ',\n",
       "       '1920 x 1080 ', '1520 x 720', '2280 x 1080', '1280 x 720 ',\n",
       "       '2400 x 1080', '720 x 1544 ', '2316 x 1080 ', '2340 x 1080',\n",
       "       '960 x 540 ', '540 x 960 ', '1080 x 2160 ', '1500 x 720 ',\n",
       "       '720 x 1440 ', '1080 x 1920 ', '720 x 1520 ', '720 x 1560 ',\n",
       "       '720 x 1280'], dtype=object)"
      ]
     },
     "execution_count": 85,
     "metadata": {},
     "output_type": "execute_result"
    }
   ],
   "source": [
    "df['res_dim'] = df['resolution'].replace('[pP]ixel.*','',regex=True).replace('\\$','',regex=True).replace('[×*]',' x ',regex=True)\n",
    "df['res_dim'].unique()"
   ]
  },
  {
   "cell_type": "code",
   "execution_count": 86,
   "id": "8f446282",
   "metadata": {},
   "outputs": [
    {
     "data": {
      "text/plain": [
       "0       [1600 ,  720 ]\n",
       "1       [1600 ,  720 ]\n",
       "2       [1600 ,  720 ]\n",
       "3       [1600 ,  720 ]\n",
       "4       [1600 ,  720 ]\n",
       "            ...       \n",
       "454     [1440 ,  720 ]\n",
       "455     [1440 ,  720 ]\n",
       "456    [2280 ,  1080 ]\n",
       "457    [1080 ,  2340 ]\n",
       "458    [1080 ,  2340 ]\n",
       "Name: res_dims, Length: 459, dtype: object"
      ]
     },
     "execution_count": 86,
     "metadata": {},
     "output_type": "execute_result"
    }
   ],
   "source": [
    "df['res_dims'] = [x.rsplit('x') for x in df['res_dim']]\n",
    "df['res_dims']"
   ]
  },
  {
   "cell_type": "code",
   "execution_count": 87,
   "id": "4005841f",
   "metadata": {},
   "outputs": [],
   "source": [
    "temp_df = pd.DataFrame(df['res_dims'].to_list(), columns=['res1','res2'])\n",
    "df['res_dim_1'] = pd.to_numeric(temp_df['res1'])\n",
    "df['res_dim_2'] = pd.to_numeric(temp_df['res2'])"
   ]
  },
  {
   "cell_type": "code",
   "execution_count": 88,
   "id": "08e23667",
   "metadata": {},
   "outputs": [
    {
     "data": {
      "text/plain": [
       "array([1600, 2340, 2400, 1080,  720, 1560, 1520, 2160, 1440, 2280, 1920,\n",
       "       1280, 2316,  960,  540, 1500], dtype=int64)"
      ]
     },
     "execution_count": 88,
     "metadata": {},
     "output_type": "execute_result"
    }
   ],
   "source": [
    "df['res_dim_1'].unique()"
   ]
  },
  {
   "cell_type": "code",
   "execution_count": 89,
   "id": "5906a0cf",
   "metadata": {},
   "outputs": [
    {
     "data": {
      "text/plain": [
       "array([ 720, 1080, 2340, 2400, 1600, 1544,  540,  960, 2160, 1440, 1920,\n",
       "       1520, 1560, 1280], dtype=int64)"
      ]
     },
     "execution_count": 89,
     "metadata": {},
     "output_type": "execute_result"
    }
   ],
   "source": [
    "df['res_dim_2'].unique()"
   ]
  },
  {
   "cell_type": "code",
   "execution_count": 90,
   "id": "a427c87b",
   "metadata": {},
   "outputs": [],
   "source": [
    "for rownum, row in df.iterrows():\n",
    "    sorted_vals = sorted([row['res_dim_1'],row['res_dim_2']])\n",
    "    df.at[rownum, 'res_dim_1'] = sorted_vals[0]\n",
    "    df.at[rownum, 'res_dim_2'] = sorted_vals[1]"
   ]
  },
  {
   "cell_type": "code",
   "execution_count": 91,
   "id": "459258b7",
   "metadata": {},
   "outputs": [
    {
     "data": {
      "image/png": "[encoded data removed]",
      "text/plain": [
       "<Figure size 720x360 with 1 Axes>"
      ]
     },
     "metadata": {
      "needs_background": "light"
     },
     "output_type": "display_data"
    }
   ],
   "source": [
    "plot_grouped_correlation_with_col(df,'mobile_price')"
   ]
  },
  {
   "cell_type": "code",
   "execution_count": 92,
   "id": "34223aa5",
   "metadata": {},
   "outputs": [
    {
     "data": {
      "text/plain": [
       "array([1152000, 2527200, 2592000, 1123200, 1094400, 2332800, 1036800,\n",
       "       2462400, 2073600,  921600, 1111680, 2501280,  518400, 1080000],\n",
       "      dtype=int64)"
      ]
     },
     "execution_count": 92,
     "metadata": {},
     "output_type": "execute_result"
    }
   ],
   "source": [
    "df['resolution_new'] = df['res_dim_1']*df['res_dim_2']\n",
    "df['resolution_new'].unique()"
   ]
  },
  {
   "cell_type": "code",
   "execution_count": 93,
   "id": "4dba5e3d",
   "metadata": {},
   "outputs": [
    {
     "data": {
      "text/plain": [
       "array([12330.    , 12395.76  , 11649.4   , 12187.7   , 11595.8   ,\n",
       "       11927.892 , 11801.1904, 12125.08  , 12423.62  , 11371.91  ,\n",
       "       12428.64  , 11934.24  , 12416.04  , 11801.16  , 11800.1568,\n",
       "       11642.81  , 12709.71  , 11027.538 , 11974.1841, 11463.9114,\n",
       "       12417.9998, 12063.56  , 11965.98  , 12160.984 , 11949.003 ,\n",
       "       10598.4   ,  1575.    ,  1321.805 , 11476.    , 12690.54  ,\n",
       "        9842.04  , 10299.52  , 10546.25  , 11996.8134, 11658.6   ,\n",
       "       12239.4411, 12001.4419, 11974.0075, 11647.2099, 12389.5784,\n",
       "       12557.6187, 12399.6105, 11979.3856, 11793.7717, 11748.1475,\n",
       "       11877.3   , 11855.8828, 12474.    , 11629.5   , 11615.3943,\n",
       "       12298.3821, 10869.04  , 11678.0004, 11805.5938, 10927.71  ,\n",
       "       11703.22  ,  1431.    , 12319.08  , 11925.    , 10339.14  ,\n",
       "       12285.    ,  9418.5   , 11384.28  , 11978.64  , 12672.    ,\n",
       "       11850.    , 12493.    , 11799.51  , 11908.3125, 11511.72  ,\n",
       "       11146.05  , 12464.    , 13706.3844, 11700.    , 11709.15  ,\n",
       "       12661.98  , 12374.45  , 12368.16  , 11770.45  , 11754.86  ,\n",
       "       11742.66  , 12231.    , 11655.92  , 12274.93  , 12506.4   ,\n",
       "       11888.    , 11627.14  , 12264.44  , 11001.55  , 11951.65  ,\n",
       "       12328.2   , 11942.84  , 11808.72  , 11756.96  , 11746.8   ,\n",
       "       11742.    ,  1140.21  , 10929.78  , 11528.16  ])"
      ]
     },
     "execution_count": 93,
     "metadata": {},
     "output_type": "execute_result"
    }
   ],
   "source": [
    "df['mob_screen_dimension'] = df['mob_width']*df['mob_height']\n",
    "df['mob_screen_dimension'].unique()"
   ]
  },
  {
   "cell_type": "code",
   "execution_count": 94,
   "id": "1a8804a1",
   "metadata": {},
   "outputs": [
    {
     "data": {
      "text/plain": [
       "<AxesSubplot:ylabel='Frequency'>"
      ]
     },
     "execution_count": 94,
     "metadata": {},
     "output_type": "execute_result"
    },
    {
     "data": {
      "image/png": "[encoded data removed]",
      "text/plain": [
       "<Figure size 432x288 with 1 Axes>"
      ]
     },
     "metadata": {
      "needs_background": "light"
     },
     "output_type": "display_data"
    }
   ],
   "source": [
    "df['mob_screen_dimension'].plot(kind='hist')"
   ]
  },
  {
   "cell_type": "markdown",
   "id": "d484540f",
   "metadata": {},
   "source": [
    "Once data is cleaned and compared to unprocessed data in each column for understanding the impact of processing, we can move relevant columns for final analysis and presentation"
   ]
  },
  {
   "cell_type": "code",
   "execution_count": 95,
   "id": "960d61cf",
   "metadata": {},
   "outputs": [
    {
     "data": {
      "image/png": "[encoded data removed]",
      "text/plain": [
       "<Figure size 720x360 with 1 Axes>"
      ]
     },
     "metadata": {
      "needs_background": "light"
     },
     "output_type": "display_data"
    }
   ],
   "source": [
    "plot_grouped_correlation_with_col(df,'mobile_price')"
   ]
  },
  {
   "cell_type": "code",
   "execution_count": null,
   "id": "020b8fcb",
   "metadata": {},
   "outputs": [],
   "source": [
    "# Add columns for highest network option, p_cam_max,p_cam_num, f_cam_max,f_cam_num"
   ]
  },
  {
   "cell_type": "code",
   "execution_count": 96,
   "id": "16ab8531",
   "metadata": {},
   "outputs": [
    {
     "data": {
      "text/plain": [
       "array(['12MP + 2MP + 2MP', '48MP + 8MP + 2MP + 2MP',\n",
       "       '48MP + 8MP + 2MP + 2MP Quad Camera', '64MP + 13MP + 8MP + 2MP',\n",
       "       '16MP + 2MP', '64MP + 8MP + 2MP + 2MP Quad Camera',\n",
       "       '64MP + 12MP + 8MP + 2MP', '12MP + 2MP', '64MP + 8MP + 2MP + 2MP',\n",
       "       '13MP + 2MP', '64MP + 8MP + 8MP + 2MP', '48MP + 13MP + 8MP',\n",
       "       '48MP + 8MP + 5MP + 2MP', '48MP + 8MP + 2MP', '48MP + 5MP',\n",
       "       '12MP Rear Camera', '12MP + 5MP', '20MP + 12MP',\n",
       "       '108MP Rear Camera', '13MP Rear Camera', '48MP + 8MP',\n",
       "       '64MP + 8MP + 5MP + 2MP', '8MP Rear Camera', '13MP + 2MP + 8MP',\n",
       "       '13MP + 8MP + 2MP', '13MP + 8MP + 2MP + 2MP', '16MP + 2MP + 8MP',\n",
       "       '16MP + 8MP + 2MP', '48MP + 5MP + 8MP',\n",
       "       '48 Million Quad Pixel Sensor (12 Million Effective Pixel) + 8MP + 5MP, AI Triple Rear Camera',\n",
       "       '48MP + 13MP + 8MP + 2MP', '12MP + 5MP + 8MP', '16MP Rear Camera',\n",
       "       '16MP + 5MP', '48MP + 8MP + 5MP', '64MP + 8MP + 5MP + 5MP',\n",
       "       '48MP + 12MP + 5MP', '5MP Rear Camera',\n",
       "       '48 MP + 2 MP + 2 MP + Low Light Sensor',\n",
       "       '13 MP + 2 MP + 2 MP + Low Light Sensor',\n",
       "       '48MP + 2MP + Low Light Sensor', '16MP + 2MP + Low Light Sensor',\n",
       "       '12MP + 13MP', '13MP + 2MP Depth Sensor + 8MP Wide Angle sensor',\n",
       "       '16MP + 5MP + 2MP + Low Light Sensor', '12MP + 8MP + 2MP + 2MP',\n",
       "       '48MP + 8MP + 13MP + 2MP', '16MP + 20MP', '12MP + 20MP'],\n",
       "      dtype=object)"
      ]
     },
     "execution_count": 96,
     "metadata": {},
     "output_type": "execute_result"
    }
   ],
   "source": [
    "df['p_cam'].unique()"
   ]
  },
  {
   "cell_type": "code",
   "execution_count": 97,
   "id": "10586f29",
   "metadata": {},
   "outputs": [
    {
     "data": {
      "text/plain": [
       "array([12, 48, 64, 16, 13, 20, 10,  8,  5], dtype=int64)"
      ]
     },
     "execution_count": 97,
     "metadata": {},
     "output_type": "execute_result"
    }
   ],
   "source": [
    "df['p_cam_max'] = [x[0:2].replace('M','') for x in df['p_cam']]\n",
    "df['p_cam_max'] = numericize(df,'p_cam_max')\n",
    "df['p_cam_max'].unique()"
   ]
  },
  {
   "cell_type": "code",
   "execution_count": 100,
   "id": "73a47bd8",
   "metadata": {},
   "outputs": [
    {
     "data": {
      "text/plain": [
       "array([3, 4, 2, 1], dtype=int64)"
      ]
     },
     "execution_count": 100,
     "metadata": {},
     "output_type": "execute_result"
    }
   ],
   "source": [
    "df['p_cam_count'] = [x.count('MP') for x in df['p_cam']]\n",
    "df['p_cam_count'].unique()"
   ]
  },
  {
   "cell_type": "code",
   "execution_count": 101,
   "id": "161c79c9",
   "metadata": {},
   "outputs": [
    {
     "data": {
      "text/plain": [
       "array(['5MP Front Camera', '16MP Front Camera',\n",
       "       '32MP + 8MP Dual Front Camera', '16MP + 8MP Dual Front Camera',\n",
       "       '13MP Front Camera', '32MP Front Camera', '8MP Front Camera',\n",
       "       '20MP Front Camera', '20MP + 2MP Dual Front Camera',\n",
       "       '2MP Front Camera', '8MP Dual Front Camera', '25MP Front Camera',\n",
       "       '24MP Front Camera', '13MP + 2MP Dual Front Camera',\n",
       "       '44MP + 2MP Dual Front Camera'], dtype=object)"
      ]
     },
     "execution_count": 101,
     "metadata": {},
     "output_type": "execute_result"
    }
   ],
   "source": [
    "df['f_cam'].unique()"
   ]
  },
  {
   "cell_type": "code",
   "execution_count": 102,
   "id": "2ba77d74",
   "metadata": {},
   "outputs": [
    {
     "data": {
      "text/plain": [
       "array(['5', '16', '32', '13', '8', '20', '2', '25', '24', '44'],\n",
       "      dtype=object)"
      ]
     },
     "execution_count": 102,
     "metadata": {},
     "output_type": "execute_result"
    }
   ],
   "source": [
    "df['f_cam_max'] = [x[0:2].replace('M','') for x in df['f_cam']]\n",
    "df['f_cam_max'].unique()"
   ]
  },
  {
   "cell_type": "code",
   "execution_count": 103,
   "id": "38bd39a5",
   "metadata": {},
   "outputs": [
    {
     "data": {
      "text/plain": [
       "array([ 5, 16, 32, 13,  8, 20,  2, 25, 24, 44], dtype=int64)"
      ]
     },
     "execution_count": 103,
     "metadata": {},
     "output_type": "execute_result"
    }
   ],
   "source": [
    "df['f_cam_max'] = numericize(df,'f_cam_max')\n",
    "df['f_cam_max'].unique()"
   ]
  },
  {
   "cell_type": "code",
   "execution_count": 104,
   "id": "7fd9c7d8",
   "metadata": {},
   "outputs": [
    {
     "data": {
      "text/plain": [
       "array([1, 2], dtype=int64)"
      ]
     },
     "execution_count": 104,
     "metadata": {},
     "output_type": "execute_result"
    }
   ],
   "source": [
    "df['f_cam_count'] = [x.count('MP') for x in df['f_cam']]\n",
    "df['f_cam_count'].unique()"
   ]
  },
  {
   "cell_type": "code",
   "execution_count": 105,
   "id": "937abcc3",
   "metadata": {},
   "outputs": [
    {
     "data": {
      "text/plain": [
       "True"
      ]
     },
     "execution_count": 105,
     "metadata": {},
     "output_type": "execute_result"
    }
   ],
   "source": [
    "df['f_cam_max'].equals(df['f_cam_ord'])"
   ]
  },
  {
   "cell_type": "code",
   "execution_count": 106,
   "id": "d8636066",
   "metadata": {},
   "outputs": [],
   "source": [
    "df.drop('f_cam_ord',axis=1, inplace=True)"
   ]
  },
  {
   "cell_type": "code",
   "execution_count": 107,
   "id": "2f3fc0c1",
   "metadata": {},
   "outputs": [
    {
     "data": {
      "image/png": "[encoded data removed]",
      "text/plain": [
       "<Figure size 720x360 with 1 Axes>"
      ]
     },
     "metadata": {
      "needs_background": "light"
     },
     "output_type": "display_data"
    }
   ],
   "source": [
    "plot_grouped_correlation_with_col(df,'mobile_price')"
   ]
  },
  {
   "cell_type": "code",
   "execution_count": 108,
   "id": "ab6ddac8",
   "metadata": {},
   "outputs": [],
   "source": [
    "final_df = df[['battery_power','disp_size','dual_sim_ord','f_cam_max','f_cam_count','p_cam_max','p_cam_count','int_memory','mob_depth_rearr','mob_height_rearr','mob_width_rearr','mob_weight', 'mobile_color_basic_cat','mobile_name_brand_short_new','mp_speed','network_count','num_cores_ord','os_version_new','ram','res_dim_1','res_dim_2','mobile_price']]"
   ]
  },
  {
   "cell_type": "code",
   "execution_count": 109,
   "id": "bff90ab8",
   "metadata": {},
   "outputs": [],
   "source": [
    "cols=['Battery Power','Display Size','Sim count','Front camera max MP','Front camera count','Primary camera max MP','Primary camera count','Internal Memory','Mobile Depth','Mobile Height','Mobile Width','Mobile Weight', 'Mobile Color','Mobile Brand','Processor Speed','Networks','Core','OS','Ram','Resolution x','Resolution y','Mobile Price']"
   ]
  },
  {
   "cell_type": "code",
   "execution_count": 110,
   "id": "c68da600",
   "metadata": {},
   "outputs": [],
   "source": [
    "old_cols = ['battery_power','disp_size','dual_sim_ord','f_cam_max','f_cam_count','p_cam_max','p_cam_count','int_memory','mob_depth_rearr','mob_height_rearr','mob_width_rearr','mob_weight', 'mobile_color_basic_cat','mobile_name_brand_short_new','mp_speed','network_count','num_cores_ord','os_version_new','ram','res_dim_1','res_dim_2','mobile_price']"
   ]
  },
  {
   "cell_type": "code",
   "execution_count": 111,
   "id": "b24a4cd9",
   "metadata": {},
   "outputs": [],
   "source": [
    "col_mapping = dict(zip(old_cols,cols))"
   ]
  },
  {
   "cell_type": "code",
   "execution_count": 112,
   "id": "9a4cc7c8",
   "metadata": {},
   "outputs": [
    {
     "data": {
      "text/html": [
       "<div>\n",
       "<style scoped>\n",
       "    .dataframe tbody tr th:only-of-type {\n",
       "        vertical-align: middle;\n",
       "    }\n",
       "\n",
       "    .dataframe tbody tr th {\n",
       "        vertical-align: top;\n",
       "    }\n",
       "\n",
       "    .dataframe thead th {\n",
       "        text-align: right;\n",
       "    }\n",
       "</style>\n",
       "<table border=\"1\" class=\"dataframe\">\n",
       "  <thead>\n",
       "    <tr style=\"text-align: right;\">\n",
       "      <th></th>\n",
       "      <th>Battery Power</th>\n",
       "      <th>Display Size</th>\n",
       "      <th>Sim count</th>\n",
       "      <th>Front camera max MP</th>\n",
       "      <th>Front camera count</th>\n",
       "      <th>Primary camera max MP</th>\n",
       "      <th>Primary camera count</th>\n",
       "      <th>Internal Memory</th>\n",
       "      <th>Mobile Depth</th>\n",
       "      <th>Mobile Height</th>\n",
       "      <th>...</th>\n",
       "      <th>Mobile Color</th>\n",
       "      <th>Mobile Brand</th>\n",
       "      <th>Processor Speed</th>\n",
       "      <th>Networks</th>\n",
       "      <th>Core</th>\n",
       "      <th>OS</th>\n",
       "      <th>Ram</th>\n",
       "      <th>Resolution x</th>\n",
       "      <th>Resolution y</th>\n",
       "      <th>Mobile Price</th>\n",
       "    </tr>\n",
       "  </thead>\n",
       "  <tbody>\n",
       "    <tr>\n",
       "      <th>0</th>\n",
       "      <td>5000</td>\n",
       "      <td>16.56</td>\n",
       "      <td>2</td>\n",
       "      <td>5</td>\n",
       "      <td>1</td>\n",
       "      <td>12</td>\n",
       "      <td>3</td>\n",
       "      <td>32</td>\n",
       "      <td>8.95</td>\n",
       "      <td>164.4</td>\n",
       "      <td>...</td>\n",
       "      <td>24</td>\n",
       "      <td>58</td>\n",
       "      <td>2.0</td>\n",
       "      <td>4</td>\n",
       "      <td>8</td>\n",
       "      <td>10</td>\n",
       "      <td>3</td>\n",
       "      <td>720</td>\n",
       "      <td>1600</td>\n",
       "      <td>8999</td>\n",
       "    </tr>\n",
       "    <tr>\n",
       "      <th>1</th>\n",
       "      <td>5000</td>\n",
       "      <td>16.56</td>\n",
       "      <td>2</td>\n",
       "      <td>5</td>\n",
       "      <td>1</td>\n",
       "      <td>12</td>\n",
       "      <td>3</td>\n",
       "      <td>32</td>\n",
       "      <td>8.95</td>\n",
       "      <td>164.4</td>\n",
       "      <td>...</td>\n",
       "      <td>1</td>\n",
       "      <td>58</td>\n",
       "      <td>2.0</td>\n",
       "      <td>4</td>\n",
       "      <td>8</td>\n",
       "      <td>10</td>\n",
       "      <td>3</td>\n",
       "      <td>720</td>\n",
       "      <td>1600</td>\n",
       "      <td>8999</td>\n",
       "    </tr>\n",
       "    <tr>\n",
       "      <th>2</th>\n",
       "      <td>5000</td>\n",
       "      <td>16.56</td>\n",
       "      <td>2</td>\n",
       "      <td>5</td>\n",
       "      <td>1</td>\n",
       "      <td>12</td>\n",
       "      <td>3</td>\n",
       "      <td>64</td>\n",
       "      <td>8.95</td>\n",
       "      <td>164.4</td>\n",
       "      <td>...</td>\n",
       "      <td>1</td>\n",
       "      <td>58</td>\n",
       "      <td>2.0</td>\n",
       "      <td>4</td>\n",
       "      <td>8</td>\n",
       "      <td>10</td>\n",
       "      <td>4</td>\n",
       "      <td>720</td>\n",
       "      <td>1600</td>\n",
       "      <td>9999</td>\n",
       "    </tr>\n",
       "    <tr>\n",
       "      <th>3</th>\n",
       "      <td>5000</td>\n",
       "      <td>16.56</td>\n",
       "      <td>2</td>\n",
       "      <td>5</td>\n",
       "      <td>1</td>\n",
       "      <td>12</td>\n",
       "      <td>3</td>\n",
       "      <td>64</td>\n",
       "      <td>8.95</td>\n",
       "      <td>164.4</td>\n",
       "      <td>...</td>\n",
       "      <td>24</td>\n",
       "      <td>58</td>\n",
       "      <td>2.0</td>\n",
       "      <td>4</td>\n",
       "      <td>8</td>\n",
       "      <td>10</td>\n",
       "      <td>4</td>\n",
       "      <td>720</td>\n",
       "      <td>1600</td>\n",
       "      <td>9999</td>\n",
       "    </tr>\n",
       "    <tr>\n",
       "      <th>4</th>\n",
       "      <td>5000</td>\n",
       "      <td>16.51</td>\n",
       "      <td>2</td>\n",
       "      <td>16</td>\n",
       "      <td>1</td>\n",
       "      <td>48</td>\n",
       "      <td>4</td>\n",
       "      <td>128</td>\n",
       "      <td>9.00</td>\n",
       "      <td>164.4</td>\n",
       "      <td>...</td>\n",
       "      <td>10</td>\n",
       "      <td>57</td>\n",
       "      <td>2.0</td>\n",
       "      <td>4</td>\n",
       "      <td>8</td>\n",
       "      <td>10</td>\n",
       "      <td>4</td>\n",
       "      <td>720</td>\n",
       "      <td>1600</td>\n",
       "      <td>11999</td>\n",
       "    </tr>\n",
       "    <tr>\n",
       "      <th>...</th>\n",
       "      <td>...</td>\n",
       "      <td>...</td>\n",
       "      <td>...</td>\n",
       "      <td>...</td>\n",
       "      <td>...</td>\n",
       "      <td>...</td>\n",
       "      <td>...</td>\n",
       "      <td>...</td>\n",
       "      <td>...</td>\n",
       "      <td>...</td>\n",
       "      <td>...</td>\n",
       "      <td>...</td>\n",
       "      <td>...</td>\n",
       "      <td>...</td>\n",
       "      <td>...</td>\n",
       "      <td>...</td>\n",
       "      <td>...</td>\n",
       "      <td>...</td>\n",
       "      <td>...</td>\n",
       "      <td>...</td>\n",
       "      <td>...</td>\n",
       "    </tr>\n",
       "    <tr>\n",
       "      <th>454</th>\n",
       "      <td>3180</td>\n",
       "      <td>14.48</td>\n",
       "      <td>2</td>\n",
       "      <td>8</td>\n",
       "      <td>1</td>\n",
       "      <td>13</td>\n",
       "      <td>1</td>\n",
       "      <td>32</td>\n",
       "      <td>7.70</td>\n",
       "      <td>150.5</td>\n",
       "      <td>...</td>\n",
       "      <td>0</td>\n",
       "      <td>28</td>\n",
       "      <td>2.5</td>\n",
       "      <td>3</td>\n",
       "      <td>8</td>\n",
       "      <td>7</td>\n",
       "      <td>3</td>\n",
       "      <td>720</td>\n",
       "      <td>1440</td>\n",
       "      <td>13490</td>\n",
       "    </tr>\n",
       "    <tr>\n",
       "      <th>455</th>\n",
       "      <td>3180</td>\n",
       "      <td>14.48</td>\n",
       "      <td>2</td>\n",
       "      <td>8</td>\n",
       "      <td>1</td>\n",
       "      <td>13</td>\n",
       "      <td>1</td>\n",
       "      <td>16</td>\n",
       "      <td>7.70</td>\n",
       "      <td>150.5</td>\n",
       "      <td>...</td>\n",
       "      <td>17</td>\n",
       "      <td>28</td>\n",
       "      <td>2.5</td>\n",
       "      <td>4</td>\n",
       "      <td>8</td>\n",
       "      <td>7</td>\n",
       "      <td>2</td>\n",
       "      <td>720</td>\n",
       "      <td>1440</td>\n",
       "      <td>9490</td>\n",
       "    </tr>\n",
       "    <tr>\n",
       "      <th>456</th>\n",
       "      <td>3400</td>\n",
       "      <td>15.82</td>\n",
       "      <td>2</td>\n",
       "      <td>25</td>\n",
       "      <td>1</td>\n",
       "      <td>16</td>\n",
       "      <td>1</td>\n",
       "      <td>64</td>\n",
       "      <td>7.80</td>\n",
       "      <td>156.0</td>\n",
       "      <td>...</td>\n",
       "      <td>17</td>\n",
       "      <td>35</td>\n",
       "      <td>2.0</td>\n",
       "      <td>3</td>\n",
       "      <td>8</td>\n",
       "      <td>8</td>\n",
       "      <td>4</td>\n",
       "      <td>1080</td>\n",
       "      <td>2280</td>\n",
       "      <td>22990</td>\n",
       "    </tr>\n",
       "    <tr>\n",
       "      <th>457</th>\n",
       "      <td>4020</td>\n",
       "      <td>16.59</td>\n",
       "      <td>2</td>\n",
       "      <td>16</td>\n",
       "      <td>1</td>\n",
       "      <td>48</td>\n",
       "      <td>2</td>\n",
       "      <td>128</td>\n",
       "      <td>8.30</td>\n",
       "      <td>162.0</td>\n",
       "      <td>...</td>\n",
       "      <td>10</td>\n",
       "      <td>30</td>\n",
       "      <td>2.1</td>\n",
       "      <td>4</td>\n",
       "      <td>8</td>\n",
       "      <td>9</td>\n",
       "      <td>4</td>\n",
       "      <td>1080</td>\n",
       "      <td>2340</td>\n",
       "      <td>13990</td>\n",
       "    </tr>\n",
       "    <tr>\n",
       "      <th>458</th>\n",
       "      <td>4020</td>\n",
       "      <td>16.59</td>\n",
       "      <td>2</td>\n",
       "      <td>16</td>\n",
       "      <td>1</td>\n",
       "      <td>48</td>\n",
       "      <td>2</td>\n",
       "      <td>128</td>\n",
       "      <td>8.30</td>\n",
       "      <td>162.0</td>\n",
       "      <td>...</td>\n",
       "      <td>16</td>\n",
       "      <td>30</td>\n",
       "      <td>2.1</td>\n",
       "      <td>4</td>\n",
       "      <td>8</td>\n",
       "      <td>9</td>\n",
       "      <td>4</td>\n",
       "      <td>1080</td>\n",
       "      <td>2340</td>\n",
       "      <td>13990</td>\n",
       "    </tr>\n",
       "  </tbody>\n",
       "</table>\n",
       "<p>459 rows × 22 columns</p>\n",
       "</div>"
      ],
      "text/plain": [
       "     Battery Power  Display Size  Sim count  Front camera max MP  \\\n",
       "0             5000         16.56          2                    5   \n",
       "1             5000         16.56          2                    5   \n",
       "2             5000         16.56          2                    5   \n",
       "3             5000         16.56          2                    5   \n",
       "4             5000         16.51          2                   16   \n",
       "..             ...           ...        ...                  ...   \n",
       "454           3180         14.48          2                    8   \n",
       "455           3180         14.48          2                    8   \n",
       "456           3400         15.82          2                   25   \n",
       "457           4020         16.59          2                   16   \n",
       "458           4020         16.59          2                   16   \n",
       "\n",
       "     Front camera count  Primary camera max MP  Primary camera count  \\\n",
       "0                     1                     12                     3   \n",
       "1                     1                     12                     3   \n",
       "2                     1                     12                     3   \n",
       "3                     1                     12                     3   \n",
       "4                     1                     48                     4   \n",
       "..                  ...                    ...                   ...   \n",
       "454                   1                     13                     1   \n",
       "455                   1                     13                     1   \n",
       "456                   1                     16                     1   \n",
       "457                   1                     48                     2   \n",
       "458                   1                     48                     2   \n",
       "\n",
       "     Internal Memory  Mobile Depth  Mobile Height  ...  Mobile Color  \\\n",
       "0                 32          8.95          164.4  ...            24   \n",
       "1                 32          8.95          164.4  ...             1   \n",
       "2                 64          8.95          164.4  ...             1   \n",
       "3                 64          8.95          164.4  ...            24   \n",
       "4                128          9.00          164.4  ...            10   \n",
       "..               ...           ...            ...  ...           ...   \n",
       "454               32          7.70          150.5  ...             0   \n",
       "455               16          7.70          150.5  ...            17   \n",
       "456               64          7.80          156.0  ...            17   \n",
       "457              128          8.30          162.0  ...            10   \n",
       "458              128          8.30          162.0  ...            16   \n",
       "\n",
       "     Mobile Brand  Processor Speed  Networks  Core  OS  Ram  Resolution x  \\\n",
       "0              58              2.0         4     8  10    3           720   \n",
       "1              58              2.0         4     8  10    3           720   \n",
       "2              58              2.0         4     8  10    4           720   \n",
       "3              58              2.0         4     8  10    4           720   \n",
       "4              57              2.0         4     8  10    4           720   \n",
       "..            ...              ...       ...   ...  ..  ...           ...   \n",
       "454            28              2.5         3     8   7    3           720   \n",
       "455            28              2.5         4     8   7    2           720   \n",
       "456            35              2.0         3     8   8    4          1080   \n",
       "457            30              2.1         4     8   9    4          1080   \n",
       "458            30              2.1         4     8   9    4          1080   \n",
       "\n",
       "     Resolution y  Mobile Price  \n",
       "0            1600          8999  \n",
       "1            1600          8999  \n",
       "2            1600          9999  \n",
       "3            1600          9999  \n",
       "4            1600         11999  \n",
       "..            ...           ...  \n",
       "454          1440         13490  \n",
       "455          1440          9490  \n",
       "456          2280         22990  \n",
       "457          2340         13990  \n",
       "458          2340         13990  \n",
       "\n",
       "[459 rows x 22 columns]"
      ]
     },
     "execution_count": 112,
     "metadata": {},
     "output_type": "execute_result"
    }
   ],
   "source": [
    "final_df = final_df.rename(columns=col_mapping)\n",
    "final_df"
   ]
  },
  {
   "cell_type": "code",
   "execution_count": 113,
   "id": "427fc11b",
   "metadata": {},
   "outputs": [
    {
     "data": {
      "image/png": "[encoded data removed]",
      "text/plain": [
       "<Figure size 720x360 with 1 Axes>"
      ]
     },
     "metadata": {
      "needs_background": "light"
     },
     "output_type": "display_data"
    }
   ],
   "source": [
    "plot_correlation_with_col(final_df,'Mobile Price')"
   ]
  },
  {
   "cell_type": "code",
   "execution_count": 115,
   "id": "126db501",
   "metadata": {},
   "outputs": [],
   "source": [
    "# saving data\n",
    "final_df.to_csv('Mobile Price Factors.csv',index=False)"
   ]
  },
  {
   "cell_type": "code",
   "execution_count": null,
   "id": "1a922dca",
   "metadata": {},
   "outputs": [],
   "source": []
  }
 ],
 "metadata": {
  "kernelspec": {
   "display_name": "Python 3 (ipykernel)",
   "language": "python",
   "name": "python3"
  },
  "language_info": {
   "codemirror_mode": {
    "name": "ipython",
    "version": 3
   },
   "file_extension": ".py",
   "mimetype": "text/x-python",
   "name": "python",
   "nbconvert_exporter": "python",
   "pygments_lexer": "ipython3",
   "version": "3.9.12"
  }
 },
 "nbformat": 4,
 "nbformat_minor": 5
}
