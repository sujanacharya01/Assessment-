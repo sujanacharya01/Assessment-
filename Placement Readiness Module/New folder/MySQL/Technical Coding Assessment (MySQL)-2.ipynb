{
 "cells": [
  {
   "cell_type": "markdown",
   "id": "e6dc909b",
   "metadata": {},
   "source": [
    "2- Write a SQL statement to create the duplicate of the countries table named country_new with all structure and data.\n",
    "\n",
    "Here in the following is the structure of the table countries.\n",
    "\n",
    "\n",
    "\n",
    "+--------------+---------------+------+-----+---------+-------+\n",
    "\n",
    "| Field | Type | Null | Key | Default | Extra |\n",
    "\n",
    "+--------------+---------------+------+-----+---------+-------+\n",
    "\n",
    "| COUNTRY_ID | varchar(2) | YES | | NULL | |\n",
    "\n",
    "| COUNTRY_NAME | varchar(40) | YES | | NULL | |\n",
    "\n",
    "| REGION_ID | decimal(10,0) | YES | | NULL | |\n",
    "\n",
    "+--------------+---------------+------+-----+---------+-------+"
   ]
  },
  {
   "cell_type": "code",
   "execution_count": null,
   "id": "743eb22d",
   "metadata": {},
   "outputs": [],
   "source": [
    "create database country;\n",
    "\n",
    "CREATE TABLE IF NOT EXISTS countries ( \n",
    "COUNTRY_ID varchar(2),\n",
    "COUNTRY_NAME varchar(40)\n",
    "CHECK(COUNTRY_NAME IN('Italy','India','China')) ,\n",
    "REGION_ID decimal(10,0)\n",
    ");\n",
    "\n",
    "select * from countries;\n",
    "\n",
    "use country;\n",
    "\n",
    "CREATE TABLE IF NOT EXISTS country_new\n",
    "AS SELECT * FROM countries;\n",
    "\n",
    "SHOW COLUMNS FROM country_new;"
   ]
  },
  {
   "cell_type": "code",
   "execution_count": null,
   "id": "57a6ff33",
   "metadata": {},
   "outputs": [],
   "source": []
  },
  {
   "cell_type": "code",
   "execution_count": null,
   "id": "7c36f04f",
   "metadata": {},
   "outputs": [],
   "source": []
  },
  {
   "cell_type": "code",
   "execution_count": null,
   "id": "499f304e",
   "metadata": {},
   "outputs": [],
   "source": []
  },
  {
   "cell_type": "code",
   "execution_count": null,
   "id": "5b04b49a",
   "metadata": {},
   "outputs": [],
   "source": []
  },
  {
   "cell_type": "code",
   "execution_count": null,
   "id": "a09e8a70",
   "metadata": {},
   "outputs": [],
   "source": []
  },
  {
   "cell_type": "code",
   "execution_count": null,
   "id": "6fe0ddd7",
   "metadata": {},
   "outputs": [],
   "source": []
  },
  {
   "cell_type": "code",
   "execution_count": null,
   "id": "bc565de7",
   "metadata": {},
   "outputs": [],
   "source": []
  }
 ],
 "metadata": {
  "kernelspec": {
   "display_name": "Python 3 (ipykernel)",
   "language": "python",
   "name": "python3"
  },
  "language_info": {
   "codemirror_mode": {
    "name": "ipython",
    "version": 3
   },
   "file_extension": ".py",
   "mimetype": "text/x-python",
   "name": "python",
   "nbconvert_exporter": "python",
   "pygments_lexer": "ipython3",
   "version": "3.9.13"
  }
 },
 "nbformat": 4,
 "nbformat_minor": 5
}
