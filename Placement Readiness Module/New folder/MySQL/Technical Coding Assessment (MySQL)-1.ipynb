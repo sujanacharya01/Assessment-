{
 "cells": [
  {
   "cell_type": "markdown",
   "id": "4187b1f1",
   "metadata": {},
   "source": [
    "1- Write a SQL statement to create a table named countries including columns country_id, country_name and region_id and make sure that no countries except Italy, India and China will be entered in the table."
   ]
  },
  {
   "cell_type": "code",
   "execution_count": null,
   "id": "7987a717",
   "metadata": {},
   "outputs": [],
   "source": [
    "create database country\n",
    "use country;\n",
    "\n",
    "CREATE TABLE IF NOT EXISTS countries ( \n",
    "COUNTRY_ID varchar(2),\n",
    "COUNTRY_NAME varchar(40)\n",
    "CHECK(COUNTRY_NAME IN('Italy','India','China')) ,\n",
    "REGION_ID decimal(10,0)\n",
    ");\n",
    "\n",
    "select * from countries;"
   ]
  }
 ],
 "metadata": {
  "kernelspec": {
   "display_name": "Python 3 (ipykernel)",
   "language": "python",
   "name": "python3"
  },
  "language_info": {
   "codemirror_mode": {
    "name": "ipython",
    "version": 3
   },
   "file_extension": ".py",
   "mimetype": "text/x-python",
   "name": "python",
   "nbconvert_exporter": "python",
   "pygments_lexer": "ipython3",
   "version": "3.9.13"
  }
 },
 "nbformat": 4,
 "nbformat_minor": 5
}
