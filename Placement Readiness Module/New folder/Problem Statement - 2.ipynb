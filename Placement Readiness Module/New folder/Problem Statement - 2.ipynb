{
 "cells": [
  {
   "cell_type": "code",
   "execution_count": null,
   "id": "b19164e2",
   "metadata": {},
   "outputs": [],
   "source": [
    "\n",
    "Python Candidates -\n",
    "\n",
    "\n",
    "\n",
    "﻿Your task is to complete the validate_triangle and validate_rectangle functions for the classes.Hint for validating is given in the\n",
    "\n",
    "comments of the code. Also you will have to print the following after validation in respective functions:-\n",
    "\n",
    "1.Invalid Triangle: If the triangle sum property of sides is not valid(More hint in the comments of code)\n",
    "\n",
    "2.Valid Triangle:If the triangle sum property of sides is valid.\n",
    "\n",
    "3.Valid Rectangle:If 2 side pairs are same and they are input in correct order like l,b,l,b\n",
    "\n",
    "4.Invalid Rectangle: If Not Valid rectangle as stated above.\n",
    "\n",
    "Input Format:\n",
    "\n",
    "The side length of triangle followed by for rectangle in the next line in order.\n",
    "\n",
    "Output Format:\n",
    "\n",
    "since object are created in order, so first validate info about triangle will come and than rectangle.\n",
    "\n",
    "Sample Input 0:\n",
    "\n",
    "3 4 5\n",
    "\n",
    "2 4 2 4\n",
    "\n",
    "Sample Output 0:\n",
    "\n",
    "Valid Triangle\n",
    "\n",
    "Valid Rectangle"
   ]
  },
  {
   "cell_type": "code",
   "execution_count": 1,
   "id": "94b48d81",
   "metadata": {},
   "outputs": [
    {
     "name": "stdout",
     "output_type": "stream",
     "text": [
      "Enter the value of side1: 60\n",
      "Enter the value of side2: 40\n",
      "Enter the value of side3: 80\n",
      "Valid Triangle\n"
     ]
    }
   ],
   "source": [
    "def checkValidity(a, b, c):\n",
    "     \n",
    "    if (val1 + val2 <= val3) or (val1 + val3 <= val2) or (val2 + val3 <= val1) :\n",
    "        return False\n",
    "    else:\n",
    "        return True       \n",
    "\n",
    "val1=int(input(\"Enter the value of side1: \"))\n",
    "val2=int(input(\"Enter the value of side2: \"))\n",
    "val3=int(input(\"Enter the value of side3: \"))\n",
    "\n",
    "if checkValidity(val1, val2, val3):\n",
    "    print(\"Valid Triangle\")\n",
    "else:\n",
    "    print(\"Invalid Triangle\")\n"
   ]
  },
  {
   "cell_type": "code",
   "execution_count": null,
   "id": "4a575c78",
   "metadata": {},
   "outputs": [],
   "source": []
  },
  {
   "cell_type": "code",
   "execution_count": null,
   "id": "1fc87211",
   "metadata": {},
   "outputs": [],
   "source": []
  },
  {
   "cell_type": "code",
   "execution_count": null,
   "id": "cec008e3",
   "metadata": {},
   "outputs": [],
   "source": []
  }
 ],
 "metadata": {
  "kernelspec": {
   "display_name": "Python 3 (ipykernel)",
   "language": "python",
   "name": "python3"
  },
  "language_info": {
   "codemirror_mode": {
    "name": "ipython",
    "version": 3
   },
   "file_extension": ".py",
   "mimetype": "text/x-python",
   "name": "python",
   "nbconvert_exporter": "python",
   "pygments_lexer": "ipython3",
   "version": "3.9.13"
  }
 },
 "nbformat": 4,
 "nbformat_minor": 5
}
