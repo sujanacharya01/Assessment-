{
 "cells": [
  {
   "cell_type": "markdown",
   "id": "56fa8b50",
   "metadata": {},
   "source": [
    "Python Candidates - Question 1\n",
    "\n",
    "You will have a number of elements and in the next n lines element of a list. You have to create a list from the given strings. You have to sort the list based on 2nd last character of a string.\n",
    "\n",
    "For example: given list = ['great','hello','hiyo','abc'] so your output_dictionary should be ['great', 'abc', 'hello','hiyo']\n",
    "\n",
    "Input Format:\n",
    "\n",
    "At first-line it will have an integer (number of elements inside a list). In the second line, it will have a string.\n",
    "\n",
    "Output Format:\n",
    "\n",
    "A single line containing a sorted list.\n",
    "\n"
   ]
  },
  {
   "cell_type": "code",
   "execution_count": 1,
   "id": "64d10e47",
   "metadata": {},
   "outputs": [
    {
     "name": "stdout",
     "output_type": "stream",
     "text": [
      "enter the size if the list: 4\n",
      "enter the strings: great\n",
      "enter the strings: hello\n",
      "enter the strings: hiyo\n",
      "enter the strings: abc\n",
      "The original list is:  ['great', 'hello', 'hiyo', 'abc']\n",
      "The list after sorted:  ['great', 'abc', 'hello', 'hiyo']\n"
     ]
    }
   ],
   "source": [
    "size_of_list=int(input(\"enter the size if the list: \"))\n",
    "\n",
    "strings=[]\n",
    "for i in range(size_of_list):\n",
    "    s=input(\"enter the strings: \")\n",
    "    if s in strings:\n",
    "        while s in strings:\n",
    "            print(\"this word is already exist: \")\n",
    "            num=input(\"enter the another word: \")\n",
    "            continue\n",
    "    strings.append(s)\n",
    "print(\"The original list is: \", strings)\n",
    "\n",
    "l=strings[0]\n",
    "\n",
    "l1=strings[1:]\n",
    "l1.sort()\n",
    "l1.insert(0,l)\n",
    "print(\"The list after sorted: \", l1)"
   ]
  },
  {
   "cell_type": "code",
   "execution_count": null,
   "id": "7808e58b",
   "metadata": {},
   "outputs": [],
   "source": []
  }
 ],
 "metadata": {
  "kernelspec": {
   "display_name": "Python 3 (ipykernel)",
   "language": "python",
   "name": "python3"
  },
  "language_info": {
   "codemirror_mode": {
    "name": "ipython",
    "version": 3
   },
   "file_extension": ".py",
   "mimetype": "text/x-python",
   "name": "python",
   "nbconvert_exporter": "python",
   "pygments_lexer": "ipython3",
   "version": "3.9.13"
  }
 },
 "nbformat": 4,
 "nbformat_minor": 5
}
